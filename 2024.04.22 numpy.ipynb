{
 "cells": [
  {
   "cell_type": "code",
   "execution_count": 1,
   "id": "f3109f8b-1d2b-4da1-917a-d39013f62b2c",
   "metadata": {},
   "outputs": [],
   "source": [
    "li = [1,2,3,'abc',len,{'a':10}]"
   ]
  },
  {
   "cell_type": "code",
   "execution_count": 3,
   "id": "55b85585-c233-4dce-8895-324c18f69cb0",
   "metadata": {},
   "outputs": [
    {
     "data": {
      "text/plain": [
       "{'a': 10}"
      ]
     },
     "execution_count": 3,
     "metadata": {},
     "output_type": "execute_result"
    }
   ],
   "source": [
    "li[5]"
   ]
  },
  {
   "cell_type": "code",
   "execution_count": 5,
   "id": "c5f9e63f-13be-45a8-b235-8ec28eb570da",
   "metadata": {},
   "outputs": [
    {
     "data": {
      "text/plain": [
       "140717980042056"
      ]
     },
     "execution_count": 5,
     "metadata": {},
     "output_type": "execute_result"
    }
   ],
   "source": [
    "id(li[1])"
   ]
  },
  {
   "cell_type": "code",
   "execution_count": 6,
   "id": "691ad6e3-848a-4166-add2-7ef0291ca506",
   "metadata": {},
   "outputs": [],
   "source": [
    "a = li[1]"
   ]
  },
  {
   "cell_type": "code",
   "execution_count": 7,
   "id": "7b04d5cb-e52a-4382-a254-eaef601762de",
   "metadata": {},
   "outputs": [],
   "source": [
    "#numpy np 클래스\n",
    "import numpy as np"
   ]
  },
  {
   "cell_type": "code",
   "execution_count": 8,
   "id": "eec43946-4fa7-4b98-b811-095540dc10ad",
   "metadata": {},
   "outputs": [
    {
     "data": {
      "text/plain": [
       "module"
      ]
     },
     "execution_count": 8,
     "metadata": {},
     "output_type": "execute_result"
    }
   ],
   "source": [
    "# nd 어래이\n",
    "type(np)"
   ]
  },
  {
   "cell_type": "code",
   "execution_count": 10,
   "id": "add6fde0-10ed-4ab0-b95f-86f5ea16a959",
   "metadata": {},
   "outputs": [
    {
     "data": {
      "text/plain": [
       "int"
      ]
     },
     "execution_count": 10,
     "metadata": {},
     "output_type": "execute_result"
    }
   ],
   "source": [
    "# 스칼라\n",
    "type(1)"
   ]
  },
  {
   "cell_type": "code",
   "execution_count": 12,
   "id": "2a16f9b8-06bc-4506-9990-c0240963cfec",
   "metadata": {},
   "outputs": [],
   "source": [
    "# 스칼라\n",
    "a = repr(type(1))"
   ]
  },
  {
   "cell_type": "code",
   "execution_count": 13,
   "id": "8e678e53-eab4-48e8-bfd6-10fbdacafe62",
   "metadata": {},
   "outputs": [
    {
     "data": {
      "text/plain": [
       "3"
      ]
     },
     "execution_count": 13,
     "metadata": {},
     "output_type": "execute_result"
    }
   ],
   "source": [
    "np.array(1) + 2"
   ]
  },
  {
   "cell_type": "code",
   "execution_count": 14,
   "id": "dcc348b3-f557-4186-a846-cde06c5d7b7f",
   "metadata": {},
   "outputs": [
    {
     "name": "stdout",
     "output_type": "stream",
     "text": [
      "<class 'numpy.ndarray'>\n"
     ]
    }
   ],
   "source": [
    "# 양의 값 넌파이 array으로 바뀜\n",
    "print(type(np.array(1)))"
   ]
  },
  {
   "cell_type": "code",
   "execution_count": 15,
   "id": "aa5beb55-91c6-4cdb-a251-69ba6f917323",
   "metadata": {},
   "outputs": [],
   "source": [
    "a= np.array(1) "
   ]
  },
  {
   "cell_type": "code",
   "execution_count": 16,
   "id": "ea920ca7-91c9-4fa5-a606-4e9069bb9bb7",
   "metadata": {},
   "outputs": [
    {
     "data": {
      "text/plain": [
       "array(1)"
      ]
     },
     "execution_count": 16,
     "metadata": {},
     "output_type": "execute_result"
    }
   ],
   "source": [
    "a"
   ]
  },
  {
   "cell_type": "code",
   "execution_count": 17,
   "id": "979ed4fa-94d6-487b-9443-9ed25de2bf50",
   "metadata": {
    "scrolled": true
   },
   "outputs": [
    {
     "data": {
      "text/plain": [
       "['__abs__',\n",
       " '__add__',\n",
       " '__and__',\n",
       " '__bool__',\n",
       " '__ceil__',\n",
       " '__class__',\n",
       " '__delattr__',\n",
       " '__dir__',\n",
       " '__divmod__',\n",
       " '__doc__',\n",
       " '__eq__',\n",
       " '__float__',\n",
       " '__floor__',\n",
       " '__floordiv__',\n",
       " '__format__',\n",
       " '__ge__',\n",
       " '__getattribute__',\n",
       " '__getnewargs__',\n",
       " '__getstate__',\n",
       " '__gt__',\n",
       " '__hash__',\n",
       " '__index__',\n",
       " '__init__',\n",
       " '__init_subclass__',\n",
       " '__int__',\n",
       " '__invert__',\n",
       " '__le__',\n",
       " '__lshift__',\n",
       " '__lt__',\n",
       " '__mod__',\n",
       " '__mul__',\n",
       " '__ne__',\n",
       " '__neg__',\n",
       " '__new__',\n",
       " '__or__',\n",
       " '__pos__',\n",
       " '__pow__',\n",
       " '__radd__',\n",
       " '__rand__',\n",
       " '__rdivmod__',\n",
       " '__reduce__',\n",
       " '__reduce_ex__',\n",
       " '__repr__',\n",
       " '__rfloordiv__',\n",
       " '__rlshift__',\n",
       " '__rmod__',\n",
       " '__rmul__',\n",
       " '__ror__',\n",
       " '__round__',\n",
       " '__rpow__',\n",
       " '__rrshift__',\n",
       " '__rshift__',\n",
       " '__rsub__',\n",
       " '__rtruediv__',\n",
       " '__rxor__',\n",
       " '__setattr__',\n",
       " '__sizeof__',\n",
       " '__str__',\n",
       " '__sub__',\n",
       " '__subclasshook__',\n",
       " '__truediv__',\n",
       " '__trunc__',\n",
       " '__xor__',\n",
       " 'as_integer_ratio',\n",
       " 'bit_count',\n",
       " 'bit_length',\n",
       " 'conjugate',\n",
       " 'denominator',\n",
       " 'from_bytes',\n",
       " 'imag',\n",
       " 'numerator',\n",
       " 'real',\n",
       " 'to_bytes']"
      ]
     },
     "execution_count": 17,
     "metadata": {},
     "output_type": "execute_result"
    }
   ],
   "source": [
    "b=1\n",
    "dir(b)"
   ]
  },
  {
   "cell_type": "code",
   "execution_count": 18,
   "id": "5581e928-f8ce-4594-bfff-25172ec25483",
   "metadata": {},
   "outputs": [
    {
     "data": {
      "text/plain": [
       "()"
      ]
     },
     "execution_count": 18,
     "metadata": {},
     "output_type": "execute_result"
    }
   ],
   "source": [
    "a.shape"
   ]
  },
  {
   "cell_type": "markdown",
   "id": "0334b038-7376-4d1d-9e6b-3ac3ba5dec95",
   "metadata": {},
   "source": [
    "\n",
    "# 평균\n",
    "$$\\sum \\limits_{X=i}^{n}\\frac{X}{n} $$"
   ]
  },
  {
   "cell_type": "markdown",
   "id": "3dd4fd0a-2709-4c6b-90a2-8a3c6d906f53",
   "metadata": {},
   "source": [
    "$$\\frac{1}{n}\\cdot\\sum\\limits_{i=1}^{n} x_{i}$$"
   ]
  },
  {
   "cell_type": "code",
   "execution_count": 43,
   "id": "747515c4-fd2e-4704-94a7-f60dd95f9060",
   "metadata": {},
   "outputs": [],
   "source": [
    "x= np.array ([1,2,3,4])"
   ]
  },
  {
   "cell_type": "code",
   "execution_count": 28,
   "id": "bc3feb87-dbe6-4470-bead-b4c42ab9c0fa",
   "metadata": {},
   "outputs": [
    {
     "data": {
      "text/plain": [
       "2.5"
      ]
     },
     "execution_count": 28,
     "metadata": {},
     "output_type": "execute_result"
    }
   ],
   "source": [
    "(1/X.size)*np.sum(X)"
   ]
  },
  {
   "cell_type": "code",
   "execution_count": 31,
   "id": "c74d8bd9-24bd-402f-b617-e8b8b5c4ceda",
   "metadata": {},
   "outputs": [
    {
     "data": {
      "text/plain": [
       "2.5"
      ]
     },
     "execution_count": 31,
     "metadata": {},
     "output_type": "execute_result"
    }
   ],
   "source": [
    "X.size**-1*np.sum(X)"
   ]
  },
  {
   "cell_type": "markdown",
   "id": "c13c2552-5e1a-4049-b548-caf0dad3405f",
   "metadata": {},
   "source": [
    "5 "
   ]
  },
  {
   "cell_type": "code",
   "execution_count": 34,
   "id": "282c1f9c-d434-4c7d-897e-4c9b75f978ee",
   "metadata": {},
   "outputs": [
    {
     "data": {
      "text/plain": [
       "array([ 6, 10])"
      ]
     },
     "execution_count": 34,
     "metadata": {},
     "output_type": "execute_result"
    }
   ],
   "source": [
    "5+ np.array([1,5])"
   ]
  },
  {
   "cell_type": "code",
   "execution_count": 36,
   "id": "7a6814ed-a2e3-4cfd-827e-90e5fe154e28",
   "metadata": {},
   "outputs": [
    {
     "data": {
      "text/plain": [
       "array([5, 5])"
      ]
     },
     "execution_count": 36,
     "metadata": {},
     "output_type": "execute_result"
    }
   ],
   "source": [
    "# 엘레멘트가 똑같은 값끼리 계산\n",
    "np.array([1,4]) + np.array([4,1])"
   ]
  },
  {
   "cell_type": "markdown",
   "id": "fe891b11-b078-443d-8f5e-5c432b1d9146",
   "metadata": {},
   "source": [
    "# 개수가 동일해야 계산이 가능함"
   ]
  },
  {
   "cell_type": "code",
   "execution_count": 38,
   "id": "643c7944-4a20-48af-b1b7-e8e5a2a67667",
   "metadata": {},
   "outputs": [
    {
     "data": {
      "text/plain": [
       "(2,)"
      ]
     },
     "execution_count": 38,
     "metadata": {},
     "output_type": "execute_result"
    }
   ],
   "source": [
    "# 원소의 개수,변수의 개수\n",
    "np.array([1,4]) .shape"
   ]
  },
  {
   "cell_type": "code",
   "execution_count": 39,
   "id": "a45892ba-2feb-4715-8299-43f5230e9bc9",
   "metadata": {},
   "outputs": [
    {
     "data": {
      "text/plain": [
       "(2,)"
      ]
     },
     "execution_count": 39,
     "metadata": {},
     "output_type": "execute_result"
    }
   ],
   "source": [
    "np.array([4,1]) .shape"
   ]
  },
  {
   "cell_type": "code",
   "execution_count": 45,
   "id": "f5d85934-6f4e-4c9f-ae1b-815b24673eaa",
   "metadata": {},
   "outputs": [
    {
     "data": {
      "text/plain": [
       "1.6666666666666667"
      ]
     },
     "execution_count": 45,
     "metadata": {},
     "output_type": "execute_result"
    }
   ],
   "source": [
    "np.sum((X-np.sum(X) * (1/X.size))**2)/(X.size-1)"
   ]
  },
  {
   "cell_type": "code",
   "execution_count": 46,
   "id": "87da20ba-913c-4825-9912-39759fd467a6",
   "metadata": {},
   "outputs": [
    {
     "data": {
      "text/plain": [
       "1.25"
      ]
     },
     "execution_count": 46,
     "metadata": {},
     "output_type": "execute_result"
    }
   ],
   "source": [
    "np.var(X)"
   ]
  },
  {
   "cell_type": "code",
   "execution_count": 47,
   "id": "04cdd09b-a03c-4e0d-a970-955317f81b48",
   "metadata": {},
   "outputs": [
    {
     "data": {
      "text/plain": [
       "dtype('int32')"
      ]
     },
     "execution_count": 47,
     "metadata": {},
     "output_type": "execute_result"
    }
   ],
   "source": [
    "np.array([1,2,3]).dtype"
   ]
  },
  {
   "cell_type": "code",
   "execution_count": 51,
   "id": "a578fd2a-af11-4259-944d-0645aeb6b535",
   "metadata": {},
   "outputs": [
    {
     "data": {
      "text/plain": [
       "dtype('int32')"
      ]
     },
     "execution_count": 51,
     "metadata": {},
     "output_type": "execute_result"
    }
   ],
   "source": [
    "np.array([1,2,3.],dtype = 'int').dtype"
   ]
  },
  {
   "cell_type": "code",
   "execution_count": 54,
   "id": "9f375780-2f8d-49b6-97db-82732891226e",
   "metadata": {},
   "outputs": [
    {
     "data": {
      "text/plain": [
       "dtype('bool')"
      ]
     },
     "execution_count": 54,
     "metadata": {},
     "output_type": "execute_result"
    }
   ],
   "source": [
    "np.array([1,2,3.],dtype = 'bool').dtype"
   ]
  },
  {
   "cell_type": "code",
   "execution_count": 55,
   "id": "168f75c2-07b2-42ca-ae12-30aebed09f8a",
   "metadata": {},
   "outputs": [
    {
     "data": {
      "text/plain": [
       "array('shahjdkhf', dtype='<U9')"
      ]
     },
     "execution_count": 55,
     "metadata": {},
     "output_type": "execute_result"
    }
   ],
   "source": [
    "np.array('shahjdkhf')"
   ]
  },
  {
   "cell_type": "code",
   "execution_count": 56,
   "id": "64d1e05d-acfc-4aeb-a441-c8b076ccd7e3",
   "metadata": {},
   "outputs": [
    {
     "data": {
      "text/plain": [
       "9"
      ]
     },
     "execution_count": 56,
     "metadata": {},
     "output_type": "execute_result"
    }
   ],
   "source": [
    "len('shahjdkhf')"
   ]
  },
  {
   "cell_type": "code",
   "execution_count": 57,
   "id": "38612dc4-9509-4499-9e31-e4e974a76356",
   "metadata": {},
   "outputs": [
    {
     "data": {
      "text/plain": [
       "array([1, 2, 3.0], dtype=object)"
      ]
     },
     "execution_count": 57,
     "metadata": {},
     "output_type": "execute_result"
    }
   ],
   "source": [
    "np.array([1,2,3.],dtype = 'O')"
   ]
  },
  {
   "cell_type": "code",
   "execution_count": 60,
   "id": "19956d59-3a61-412c-b05a-23e81a702fc2",
   "metadata": {},
   "outputs": [],
   "source": [
    "x = np.array([1,2,3])"
   ]
  },
  {
   "cell_type": "code",
   "execution_count": 61,
   "id": "915f8026-616b-45ce-9a99-60c87c2ed8cf",
   "metadata": {},
   "outputs": [
    {
     "data": {
      "text/plain": [
       "array([3, 4, 5])"
      ]
     },
     "execution_count": 61,
     "metadata": {},
     "output_type": "execute_result"
    }
   ],
   "source": [
    "x + 2"
   ]
  },
  {
   "cell_type": "code",
   "execution_count": 2,
   "id": "20bd1b47-0ceb-4d97-9dcc-5fbee852be25",
   "metadata": {},
   "outputs": [
    {
     "data": {
      "text/plain": [
       "array([[2, 3, 4]])"
      ]
     },
     "execution_count": 2,
     "metadata": {},
     "output_type": "execute_result"
    }
   ],
   "source": [
    "import numpy as np\n",
    "#board cast\n",
    "x= np.array([1,2,3]).reshape(1,3)\n",
    "x + np.array([1])"
   ]
  },
  {
   "cell_type": "code",
   "execution_count": 6,
   "id": "d9eaa2b9-2787-4894-9d09-cc2de27ec6ab",
   "metadata": {},
   "outputs": [
    {
     "ename": "SyntaxError",
     "evalue": "incomplete input (1646103171.py, line 6)",
     "output_type": "error",
     "traceback": [
      "\u001b[1;36m  Cell \u001b[1;32mIn[6], line 6\u001b[1;36m\u001b[0m\n\u001b[1;33m    (x + np.array([[1]]).spape ##1*1 array\u001b[0m\n\u001b[1;37m                                          ^\u001b[0m\n\u001b[1;31mSyntaxError\u001b[0m\u001b[1;31m:\u001b[0m incomplete input\n"
     ]
    }
   ],
   "source": [
    "import numpy as np\n",
    "##board cast\n",
    "x= np.array([1,2,3]).reshape(1,3)\n",
    "(x + np.array(1).spape #스칼라\n",
    "(x + np.array([1]).spape #벡터\n",
    "(x + np.array([[1]]).spape ##1*1 array\n"
   ]
  },
  {
   "cell_type": "code",
   "execution_count": 15,
   "id": "67e94a4c-b4b3-40ba-984f-028357274442",
   "metadata": {},
   "outputs": [
    {
     "data": {
      "text/plain": [
       "(3, 1)"
      ]
     },
     "execution_count": 15,
     "metadata": {},
     "output_type": "execute_result"
    }
   ],
   "source": [
    "import numpy as np\n",
    "##board cast\n",
    "x= np.array([1,2,3])\n",
    "(x + np.array([1,2,3])).shape #vector\n",
    "##매트릭스 element wise\n",
    "x = np.array([1,2,3]).reshape(3,1)\n",
    "x + np.array([1,2,3]) #벡터 elementwise and boardcast\n",
    "(x+np.array(([[1],[2],[3]]))).shape"
   ]
  },
  {
   "cell_type": "code",
   "execution_count": 68,
   "id": "45655a79-aed8-4346-ab63-372a4bcad004",
   "metadata": {},
   "outputs": [],
   "source": [
    "a= np.array([[90,100,70],\n",
    "      [100,100,100],\n",
    "      [90,100,100]])"
   ]
  },
  {
   "cell_type": "code",
   "execution_count": 69,
   "id": "0851caba-4ee6-49e1-b51a-5dc55ac7f369",
   "metadata": {},
   "outputs": [
    {
     "data": {
      "text/plain": [
       "(3, 3)"
      ]
     },
     "execution_count": 69,
     "metadata": {},
     "output_type": "execute_result"
    }
   ],
   "source": [
    "a.shape"
   ]
  },
  {
   "cell_type": "code",
   "execution_count": 4,
   "id": "5b66c17c-433f-45bd-976b-abfa8358f0eb",
   "metadata": {},
   "outputs": [],
   "source": [
    "import matplotlib.pyplot as plt"
   ]
  },
  {
   "cell_type": "code",
   "execution_count": 5,
   "id": "4b52937b-83a2-4981-8058-2cda62d80665",
   "metadata": {},
   "outputs": [],
   "source": [
    "img = plt.imread('cat1.jpg')"
   ]
  },
  {
   "cell_type": "code",
   "execution_count": null,
   "id": "76e72bec-8ffb-40a5-af1a-4b6b36972733",
   "metadata": {},
   "outputs": [
    {
     "data": {
      "text/plain": [
       "<matplotlib.image.AxesImage at 0x2a0ab6253d0>"
      ]
     },
     "execution_count": 6,
     "metadata": {},
     "output_type": "execute_result"
    }
   ],
   "source": [
    "plt.imshow(img)"
   ]
  },
  {
   "cell_type": "code",
   "execution_count": null,
   "id": "f90e5a58-6d11-425a-82c0-281950b82b22",
   "metadata": {},
   "outputs": [],
   "source": [
    "plt.img[100:,50:600,:]"
   ]
  },
  {
   "cell_type": "code",
   "execution_count": null,
   "id": "09938577-b6c5-46f1-bd90-fd46b37c0ea4",
   "metadata": {},
   "outputs": [],
   "source": [
    "## matrix element wise(n,m)\n",
    "x= np.array(range(1,7)).reshape(3,2)\n",
    "try:\n",
    "    (x + np.array([1,2,3])).shape\n",
    "except Exception as e:\n",
    "    print(e)\n",
    "try:\n",
    "    x + np.array([1,2,3]).reshape\n",
    "except Exception as e:\n",
    "    print(e)\n",
    "(x + np.array[1,2,3].reshape(3,1)).shape   "
   ]
  },
  {
   "cell_type": "code",
   "execution_count": 11,
   "id": "00bf5766-1d7a-482d-9b03-5be715d14dd2",
   "metadata": {},
   "outputs": [],
   "source": [
    "import numpy as np"
   ]
  },
  {
   "cell_type": "code",
   "execution_count": 12,
   "id": "525d4249-fb5a-4f76-82fe-67d829168e8d",
   "metadata": {},
   "outputs": [
    {
     "data": {
      "text/plain": [
       "array([[2, 3, 4],\n",
       "       [3, 4, 5],\n",
       "       [4, 5, 6]])"
      ]
     },
     "execution_count": 12,
     "metadata": {},
     "output_type": "execute_result"
    }
   ],
   "source": [
    "## element wise board cast\n",
    "x = np.array([1,2,3]).reshape(3,1)\n",
    "x+np.array([1,2,3]) ##vector\n",
    "y = np.array([1,2,3]).reshape(1,3)\n",
    "y+np.array([1,2,3]) ##vector\n",
    "## 교환법칙 성립\n",
    "(np.array([1,2,3]) + x).shape\n",
    "(np.array([1,2,3]) + y).shape\n",
    "##element wise board cast case\n",
    "x+y\n",
    "y+x"
   ]
  },
  {
   "cell_type": "code",
   "execution_count": 23,
   "id": "a2490131-69af-4461-bb43-260698401263",
   "metadata": {},
   "outputs": [
    {
     "data": {
      "text/plain": [
       "array([[ True,  True,  True],\n",
       "       [False, False, False],\n",
       "       [False, False, False]])"
      ]
     },
     "execution_count": 23,
     "metadata": {},
     "output_type": "execute_result"
    }
   ],
   "source": [
    "##비교 연산,논리 연산\n",
    "(x + y) > 10\n",
    "(((x + y) < 10) & ((x-y)< 5)) & np.array([True,False,True]).reshape(1,3)\n",
    "arr1 = np.array([True]*9).reshape(3,3) \n",
    "arr1 & np.array([True,False,False]).reshape(3,1)\n"
   ]
  },
  {
   "cell_type": "code",
   "execution_count": 31,
   "id": "80ee2edc-a95c-453c-9403-0b5d140c5db1",
   "metadata": {
    "collapsed": true,
    "jupyter": {
     "outputs_hidden": true
    },
    "scrolled": true
   },
   "outputs": [
    {
     "name": "stdout",
     "output_type": "stream",
     "text": [
      "[[ 5]\n",
      " [11]\n",
      " [17]]\n"
     ]
    },
    {
     "ename": "ValueError",
     "evalue": "shapes (2,1) and (3,2) not aligned: 1 (dim 1) != 3 (dim 0)",
     "output_type": "error",
     "traceback": [
      "\u001b[1;31m---------------------------------------------------------------------------\u001b[0m",
      "\u001b[1;31mValueError\u001b[0m                                Traceback (most recent call last)",
      "Cell \u001b[1;32mIn[31], line 6\u001b[0m\n\u001b[0;32m      4\u001b[0m \u001b[38;5;28mprint\u001b[39m(np\u001b[38;5;241m.\u001b[39mdot(x,y))\n\u001b[0;32m      5\u001b[0m x\u001b[38;5;129m@y\u001b[39m\n\u001b[1;32m----> 6\u001b[0m \u001b[43mnp\u001b[49m\u001b[38;5;241;43m.\u001b[39;49m\u001b[43mdot\u001b[49m\u001b[43m(\u001b[49m\u001b[43my\u001b[49m\u001b[43m,\u001b[49m\u001b[43mx\u001b[49m\u001b[43m)\u001b[49m\n",
      "\u001b[1;31mValueError\u001b[0m: shapes (2,1) and (3,2) not aligned: 1 (dim 1) != 3 (dim 0)"
     ]
    }
   ],
   "source": [
    "## 내적 연산, matrix 곱\n",
    "x = np.array(range(1,7)).reshape(3,2)\n",
    "y= np.array ([[1],[2]])\n",
    "print(np.dot(x,y))\n",
    "x@y\n",
    "np.dot(y,x)"
   ]
  },
  {
   "cell_type": "code",
   "execution_count": 45,
   "id": "88f0f410-efb9-4b65-b89e-a9568ee5ec37",
   "metadata": {},
   "outputs": [],
   "source": [
    "import numpy as np\n",
    "class Array:\n",
    "    def __init__(self,*args):\n",
    "        self._x = [arg for arg in args if isinstance (arg,(int,float))]\n",
    "    def reshape(self,*args):\n",
    "        shape = tuple ([arg for arg in args])\n",
    "        self._x = np.array(self._x).reshape(shape)"
   ]
  },
  {
   "cell_type": "code",
   "execution_count": 46,
   "id": "15d206d2-8feb-40fa-9164-b83d5b236ab9",
   "metadata": {},
   "outputs": [],
   "source": [
    "arr = Array(1,2,3,4)"
   ]
  },
  {
   "cell_type": "code",
   "execution_count": 47,
   "id": "861a2456-15ea-4aec-8328-3ff1960caa6c",
   "metadata": {},
   "outputs": [],
   "source": [
    "arr.reshape(2,2)"
   ]
  },
  {
   "cell_type": "code",
   "execution_count": 48,
   "id": "cd63335b-18bf-4ccd-a2fb-922ff5dfcc22",
   "metadata": {},
   "outputs": [
    {
     "data": {
      "text/plain": [
       "array([[1, 2],\n",
       "       [3, 4]])"
      ]
     },
     "execution_count": 48,
     "metadata": {},
     "output_type": "execute_result"
    }
   ],
   "source": [
    "arr._x"
   ]
  },
  {
   "cell_type": "code",
   "execution_count": 19,
   "id": "8a5d6a81-5d66-493d-8d8c-f53dc95a390e",
   "metadata": {},
   "outputs": [],
   "source": [
    "import numpy as np\n",
    "\n",
    "class Array:\n",
    "    def __init__(self, x, y, method):\n",
    "        self.x = x  \n",
    "        self.y = y  \n",
    "      \n",
    "    def broad_cast(self):\n",
    "        if self.x.ndim == 1:\n",
    "            self.x = list(self.x)\n",
    "            result = []\n",
    "            for val in self.x:\n",
    "                result.append(val + self.y)\n",
    "            result = np.array(result)  \n",
    "        elif self.x.ndim == 2:\n",
    "            shape = self.x.shape\n",
    "            result = []\n",
    "            for rows in self.x:  \n",
    "                for cols in list(rows):\n",
    "                    result.append(cols + self.y)\n",
    "            result = np.array(result).reshape(shape) \n",
    "        \n",
    "        return result"
   ]
  },
  {
   "cell_type": "code",
   "execution_count": 20,
   "id": "e7699465-cf7d-40a9-af85-454ed11febb8",
   "metadata": {},
   "outputs": [
    {
     "ename": "TypeError",
     "evalue": "Array.__init__() missing 1 required positional argument: 'method'",
     "output_type": "error",
     "traceback": [
      "\u001b[1;31m---------------------------------------------------------------------------\u001b[0m",
      "\u001b[1;31mTypeError\u001b[0m                                 Traceback (most recent call last)",
      "Cell \u001b[1;32mIn[20], line 3\u001b[0m\n\u001b[0;32m      1\u001b[0m x \u001b[38;5;241m=\u001b[39m np\u001b[38;5;241m.\u001b[39marray([\u001b[38;5;241m1\u001b[39m,\u001b[38;5;241m2\u001b[39m,\u001b[38;5;241m3\u001b[39m,\u001b[38;5;241m4\u001b[39m,\u001b[38;5;241m5\u001b[39m])\n\u001b[0;32m      2\u001b[0m y\u001b[38;5;241m=\u001b[39m \u001b[38;5;241m2\u001b[39m\n\u001b[1;32m----> 3\u001b[0m arr \u001b[38;5;241m=\u001b[39m \u001b[43mArray\u001b[49m\u001b[43m(\u001b[49m\u001b[43mx\u001b[49m\u001b[43m,\u001b[49m\u001b[43my\u001b[49m\u001b[43m)\u001b[49m\n",
      "\u001b[1;31mTypeError\u001b[0m: Array.__init__() missing 1 required positional argument: 'method'"
     ]
    }
   ],
   "source": [
    "x = np.array([1,2,3,4,5])\n",
    "y= 2\n",
    "arr = Array(x,y)"
   ]
  },
  {
   "cell_type": "code",
   "execution_count": 21,
   "id": "313a5560-16d8-44f1-b912-57c13ef7c40e",
   "metadata": {},
   "outputs": [
    {
     "ename": "NameError",
     "evalue": "name 'arr' is not defined",
     "output_type": "error",
     "traceback": [
      "\u001b[1;31m---------------------------------------------------------------------------\u001b[0m",
      "\u001b[1;31mNameError\u001b[0m                                 Traceback (most recent call last)",
      "Cell \u001b[1;32mIn[21], line 1\u001b[0m\n\u001b[1;32m----> 1\u001b[0m \u001b[43marr\u001b[49m\u001b[38;5;241m.\u001b[39mx\n\u001b[0;32m      2\u001b[0m result \u001b[38;5;241m=\u001b[39m []\n\u001b[0;32m      3\u001b[0m \u001b[38;5;28;01mif\u001b[39;00m arr\u001b[38;5;241m.\u001b[39mx\u001b[38;5;241m.\u001b[39mndim \u001b[38;5;241m==\u001b[39m \u001b[38;5;241m2\u001b[39m:\n",
      "\u001b[1;31mNameError\u001b[0m: name 'arr' is not defined"
     ]
    }
   ],
   "source": [
    "arr.x\n",
    "result = []\n",
    "if arr.x.ndim == 2:\n",
    "    arr.x = list(arr.x)\n",
    "    for col in arr.x:\n",
    "        for col in list (row):\n",
    "            result.append(col+arr.y)\n",
    "    result = np.array(result).reshape(shape)"
   ]
  },
  {
   "cell_type": "code",
   "execution_count": 22,
   "id": "d36ab3f7-8603-4b76-b569-1343a12244e8",
   "metadata": {},
   "outputs": [
    {
     "ename": "NameError",
     "evalue": "name 'result' is not defined",
     "output_type": "error",
     "traceback": [
      "\u001b[1;31m---------------------------------------------------------------------------\u001b[0m",
      "\u001b[1;31mNameError\u001b[0m                                 Traceback (most recent call last)",
      "Cell \u001b[1;32mIn[22], line 1\u001b[0m\n\u001b[1;32m----> 1\u001b[0m \u001b[43mresult\u001b[49m\n",
      "\u001b[1;31mNameError\u001b[0m: name 'result' is not defined"
     ]
    }
   ],
   "source": [
    "result"
   ]
  },
  {
   "cell_type": "code",
   "execution_count": 25,
   "id": "f1658964-8ea6-4e7e-a7e5-fcc436cdf4fd",
   "metadata": {},
   "outputs": [
    {
     "data": {
      "text/plain": [
       "2"
      ]
     },
     "execution_count": 25,
     "metadata": {},
     "output_type": "execute_result"
    }
   ],
   "source": [
    "np.array([1,2,3,4,5,6]).reshape(2,3).shape [0]"
   ]
  },
  {
   "cell_type": "code",
   "execution_count": 26,
   "id": "3fcc2bbf-529f-480c-a382-ee7a3aabe29d",
   "metadata": {},
   "outputs": [
    {
     "ename": "SyntaxError",
     "evalue": "incomplete input (3108795217.py, line 1)",
     "output_type": "error",
     "traceback": [
      "\u001b[1;36m  Cell \u001b[1;32mIn[26], line 1\u001b[1;36m\u001b[0m\n\u001b[1;33m    list(np.array([1,2,3,4]).reshape(2,2)\u001b[0m\n\u001b[1;37m                                         ^\u001b[0m\n\u001b[1;31mSyntaxError\u001b[0m\u001b[1;31m:\u001b[0m incomplete input\n"
     ]
    }
   ],
   "source": [
    "list(np.array([1,2,3,4]).reshape(2,2)"
   ]
  },
  {
   "cell_type": "code",
   "execution_count": 47,
   "id": "0f714347-d339-4d75-81e4-e58f7457f68b",
   "metadata": {},
   "outputs": [],
   "source": [
    "## 1. thell the one_child\n",
    "## 2. my choice\n",
    "## 3. my_answer = [one_child, my_choice] \n",
    "## 4. original_child my_answer\n",
    "import random\n",
    "import numpy as np\n",
    "\n",
    "def child_answer(x):\n",
    "    s=0\n",
    "    for _ in range(x) : \n",
    "        one_child = random.choice(['f','m']) \n",
    "        if one_child == 'f':\n",
    "            my_choice = 'm'\n",
    "            original_child = random.choice([[0,0],[1,0],[0,1]])\n",
    "        else :\n",
    "            my_choice = 'f'\n",
    "            original_child = random.choice([[1,1],[1,0],[0,1]])\n",
    "        if one_child == 'f' :\n",
    "            one_child = 0\n",
    "        else :\n",
    "            one_child = 1\n",
    "        if my_choice == 'f' :\n",
    "            my_choice = 0\n",
    "        else :\n",
    "            my_choice = 1\n",
    "        my_answer = [one_child, my_choice]\n",
    "        s+=((sum(my_answer) == sum(original_child)))\n",
    "    return s/x"
   ]
  },
  {
   "cell_type": "code",
   "execution_count": 1,
   "id": "1e6d83df-75be-41e2-9ad2-6a110ebfaf71",
   "metadata": {},
   "outputs": [],
   "source": [
    "import numpy as np\n",
    "score = np.random.choice(range(60,101),(10,3))"
   ]
  },
  {
   "cell_type": "code",
   "execution_count": 4,
   "id": "579f3139-8fd3-4e46-ba03-f6fe301d24c3",
   "metadata": {},
   "outputs": [
    {
     "data": {
      "text/plain": [
       "98"
      ]
     },
     "execution_count": 4,
     "metadata": {},
     "output_type": "execute_result"
    }
   ],
   "source": [
    "score[np.argmax (np.sum(score,1)),0]"
   ]
  },
  {
   "cell_type": "code",
   "execution_count": 61,
   "id": "c7260151-7d68-4e6e-80ee-4367cdf0275e",
   "metadata": {},
   "outputs": [
    {
     "data": {
      "text/plain": [
       "array([79, 73, 99, 72, 86, 70, 92, 96, 79, 95])"
      ]
     },
     "execution_count": 61,
     "metadata": {},
     "output_type": "execute_result"
    }
   ],
   "source": [
    "score[:,0]"
   ]
  },
  {
   "cell_type": "code",
   "execution_count": 59,
   "id": "9711759f-9594-47fe-92e2-3158eb59e543",
   "metadata": {},
   "outputs": [
    {
     "data": {
      "text/plain": [
       "array([79, 93, 89])"
      ]
     },
     "execution_count": 59,
     "metadata": {},
     "output_type": "execute_result"
    }
   ],
   "source": [
    "score[:,0]+score[:,0]+score[:,0]"
   ]
  },
  {
   "cell_type": "code",
   "execution_count": 64,
   "id": "9a717e6c-d9c8-4637-9b8c-793f90e32cb8",
   "metadata": {},
   "outputs": [
    {
     "data": {
      "text/plain": [
       "292"
      ]
     },
     "execution_count": 64,
     "metadata": {},
     "output_type": "execute_result"
    }
   ],
   "source": [
    "total = score[:,0]+score[:,1]+score[:,2]\n",
    "max(total)"
   ]
  },
  {
   "cell_type": "code",
   "execution_count": 51,
   "id": "b1a66ce2-cad5-4a9a-adfc-bc1197bcfc3c",
   "metadata": {
    "jupyter": {
     "source_hidden": true
    }
   },
   "outputs": [],
   "source": [
    "## 1. thell the one_child\n",
    "## 2. my choice\n",
    "## 3. my_answer = [one_child, my_choice] \n",
    "## 4. original_child my_answer\n",
    "import random\n",
    "import numpy as np\n",
    "\n",
    "def child_answer(x):\n",
    "    s=0\n",
    "    for _ in range(x) : \n",
    "        one_child = random.choice(['f','m']) \n",
    "        if one_child == 'f':\n",
    "            my_choice = random.choice(['f','m'])\n",
    "            original_child = random.choice([[0,0],[1,0],[0,1]])\n",
    "        else :\n",
    "            my_choice = 'm'\n",
    "            original_child = random.choice([[1,1],[1,0],[0,1]])\n",
    "        if one_child == 'f' :\n",
    "            one_child = 0\n",
    "        else :\n",
    "            one_child = 1\n",
    "        if my_choice == 'f' :\n",
    "            my_choice = 0\n",
    "        else :\n",
    "            my_choice = 1\n",
    "        my_answer = [one_child, my_choice]\n",
    "        s+=((sum(my_answer) == sum(original_child)))\n",
    "    return s/x"
   ]
  },
  {
   "cell_type": "code",
   "execution_count": 52,
   "id": "80b37211-359b-4a95-a716-0433274d9543",
   "metadata": {},
   "outputs": [
    {
     "data": {
      "text/plain": [
       "0.409"
      ]
     },
     "execution_count": 52,
     "metadata": {},
     "output_type": "execute_result"
    }
   ],
   "source": [
    "child_answer(10000)"
   ]
  },
  {
   "cell_type": "code",
   "execution_count": 46,
   "id": "20df5089-d418-46df-90f6-a11a2a684d85",
   "metadata": {},
   "outputs": [
    {
     "data": {
      "text/plain": [
       "'m'"
      ]
     },
     "execution_count": 46,
     "metadata": {},
     "output_type": "execute_result"
    }
   ],
   "source": [
    "one_child"
   ]
  },
  {
   "cell_type": "code",
   "execution_count": 5,
   "id": "5365dd0c-43bf-4bf4-87c1-1814ef44a253",
   "metadata": {},
   "outputs": [
    {
     "data": {
      "text/plain": [
       "['C:\\\\Users\\\\user\\\\python',\n",
       " 'C:\\\\Users\\\\user\\\\anaconda3\\\\python311.zip',\n",
       " 'C:\\\\Users\\\\user\\\\anaconda3\\\\DLLs',\n",
       " 'C:\\\\Users\\\\user\\\\anaconda3\\\\Lib',\n",
       " 'C:\\\\Users\\\\user\\\\anaconda3',\n",
       " '',\n",
       " 'C:\\\\Users\\\\user\\\\AppData\\\\Roaming\\\\Python\\\\Python311\\\\site-packages',\n",
       " 'C:\\\\Users\\\\user\\\\AppData\\\\Roaming\\\\Python\\\\Python311\\\\site-packages\\\\win32',\n",
       " 'C:\\\\Users\\\\user\\\\AppData\\\\Roaming\\\\Python\\\\Python311\\\\site-packages\\\\win32\\\\lib',\n",
       " 'C:\\\\Users\\\\user\\\\AppData\\\\Roaming\\\\Python\\\\Python311\\\\site-packages\\\\Pythonwin',\n",
       " 'C:\\\\Users\\\\user\\\\anaconda3\\\\Lib\\\\site-packages',\n",
       " 'C:\\\\Users\\\\user\\\\anaconda3\\\\Lib\\\\site-packages\\\\win32',\n",
       " 'C:\\\\Users\\\\user\\\\anaconda3\\\\Lib\\\\site-packages\\\\win32\\\\lib',\n",
       " 'C:\\\\Users\\\\user\\\\anaconda3\\\\Lib\\\\site-packages\\\\Pythonwin']"
      ]
     },
     "execution_count": 5,
     "metadata": {},
     "output_type": "execute_result"
    }
   ],
   "source": [
    "import sys\n",
    "sys.path #SYS는 Path이라는 속성이 있음"
   ]
  },
  {
   "cell_type": "code",
   "execution_count": 6,
   "id": "b3ad4c7e-0a47-4414-bc6a-1b29f189552f",
   "metadata": {},
   "outputs": [],
   "source": [
    "sys.path.append('C:\\\\test')"
   ]
  },
  {
   "cell_type": "code",
   "execution_count": 7,
   "id": "f5da1517-075d-41b1-895b-9402c4bce295",
   "metadata": {},
   "outputs": [
    {
     "data": {
      "text/plain": [
       "['C:\\\\Users\\\\user\\\\python',\n",
       " 'C:\\\\Users\\\\user\\\\anaconda3\\\\python311.zip',\n",
       " 'C:\\\\Users\\\\user\\\\anaconda3\\\\DLLs',\n",
       " 'C:\\\\Users\\\\user\\\\anaconda3\\\\Lib',\n",
       " 'C:\\\\Users\\\\user\\\\anaconda3',\n",
       " '',\n",
       " 'C:\\\\Users\\\\user\\\\AppData\\\\Roaming\\\\Python\\\\Python311\\\\site-packages',\n",
       " 'C:\\\\Users\\\\user\\\\AppData\\\\Roaming\\\\Python\\\\Python311\\\\site-packages\\\\win32',\n",
       " 'C:\\\\Users\\\\user\\\\AppData\\\\Roaming\\\\Python\\\\Python311\\\\site-packages\\\\win32\\\\lib',\n",
       " 'C:\\\\Users\\\\user\\\\AppData\\\\Roaming\\\\Python\\\\Python311\\\\site-packages\\\\Pythonwin',\n",
       " 'C:\\\\Users\\\\user\\\\anaconda3\\\\Lib\\\\site-packages',\n",
       " 'C:\\\\Users\\\\user\\\\anaconda3\\\\Lib\\\\site-packages\\\\win32',\n",
       " 'C:\\\\Users\\\\user\\\\anaconda3\\\\Lib\\\\site-packages\\\\win32\\\\lib',\n",
       " 'C:\\\\Users\\\\user\\\\anaconda3\\\\Lib\\\\site-packages\\\\Pythonwin',\n",
       " 'C:\\\\test']"
      ]
     },
     "execution_count": 7,
     "metadata": {},
     "output_type": "execute_result"
    }
   ],
   "source": [
    "sys.path"
   ]
  },
  {
   "cell_type": "code",
   "execution_count": 8,
   "id": "b5482b4d-0eb9-46d9-88f2-5905809be3fe",
   "metadata": {},
   "outputs": [],
   "source": [
    "import test"
   ]
  },
  {
   "cell_type": "code",
   "execution_count": 9,
   "id": "09403851-3c3c-49c4-8bf0-e0e806c5a768",
   "metadata": {},
   "outputs": [
    {
     "ename": "ModuleNotFoundError",
     "evalue": "No module named 'test1'",
     "output_type": "error",
     "traceback": [
      "\u001b[1;31m---------------------------------------------------------------------------\u001b[0m",
      "\u001b[1;31mModuleNotFoundError\u001b[0m                       Traceback (most recent call last)",
      "Cell \u001b[1;32mIn[9], line 1\u001b[0m\n\u001b[1;32m----> 1\u001b[0m \u001b[38;5;28;01mimport\u001b[39;00m \u001b[38;5;21;01mtest1\u001b[39;00m\n",
      "\u001b[1;31mModuleNotFoundError\u001b[0m: No module named 'test1'"
     ]
    }
   ],
   "source": []
  },
  {
   "cell_type": "code",
   "execution_count": null,
   "id": "8e3e6b8e-6da8-4f5d-9124-475afc6004f5",
   "metadata": {},
   "outputs": [],
   "source": []
  }
 ],
 "metadata": {
  "kernelspec": {
   "display_name": "Python 3 (ipykernel)",
   "language": "python",
   "name": "python3"
  },
  "language_info": {
   "codemirror_mode": {
    "name": "ipython",
    "version": 3
   },
   "file_extension": ".py",
   "mimetype": "text/x-python",
   "name": "python",
   "nbconvert_exporter": "python",
   "pygments_lexer": "ipython3",
   "version": "3.11.7"
  }
 },
 "nbformat": 4,
 "nbformat_minor": 5
}
