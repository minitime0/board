{
 "cells": [
  {
   "cell_type": "code",
   "execution_count": 4,
   "id": "7a9f365a-55b9-4a44-81f9-db52e74d5cb6",
   "metadata": {
    "editable": true,
    "slideshow": {
     "slide_type": ""
    },
    "tags": []
   },
   "outputs": [],
   "source": [
    "import numpy as np"
   ]
  },
  {
   "cell_type": "code",
   "execution_count": 5,
   "id": "c03ec2f4-6610-4e2f-a71f-42ec9d6c7b6c",
   "metadata": {},
   "outputs": [],
   "source": [
    "x = np.random.randn(10,3)"
   ]
  },
  {
   "cell_type": "code",
   "execution_count": 6,
   "id": "78687ac2-e142-44d1-abbb-a90187b0ad1c",
   "metadata": {},
   "outputs": [
    {
     "data": {
      "text/plain": [
       "2"
      ]
     },
     "execution_count": 6,
     "metadata": {},
     "output_type": "execute_result"
    }
   ],
   "source": [
    "x.ndim"
   ]
  },
  {
   "cell_type": "code",
   "execution_count": 7,
   "id": "3421329e-a481-486b-b912-b0a146cee4b2",
   "metadata": {},
   "outputs": [
    {
     "data": {
      "text/plain": [
       "2"
      ]
     },
     "execution_count": 7,
     "metadata": {},
     "output_type": "execute_result"
    }
   ],
   "source": [
    "len(x.shape)"
   ]
  },
  {
   "cell_type": "code",
   "execution_count": 8,
   "id": "209da27d-e39d-4c9a-87ce-94585840a41b",
   "metadata": {},
   "outputs": [
    {
     "data": {
      "text/plain": [
       "30"
      ]
     },
     "execution_count": 8,
     "metadata": {},
     "output_type": "execute_result"
    }
   ],
   "source": [
    "x.size"
   ]
  },
  {
   "cell_type": "code",
   "execution_count": 9,
   "id": "a5ebcde7-8eec-467f-9529-68dede55543a",
   "metadata": {},
   "outputs": [
    {
     "data": {
      "text/plain": [
       "30"
      ]
     },
     "execution_count": 9,
     "metadata": {},
     "output_type": "execute_result"
    }
   ],
   "source": [
    "x.shape[0]*x.shape[1]"
   ]
  },
  {
   "cell_type": "code",
   "execution_count": 11,
   "id": "3414cadd-84d6-4720-bfde-aabc4b1e2bd5",
   "metadata": {},
   "outputs": [
    {
     "data": {
      "text/plain": [
       "30"
      ]
     },
     "execution_count": 11,
     "metadata": {},
     "output_type": "execute_result"
    }
   ],
   "source": [
    "#모든 축(차원)의 크기를 곱한 값을 반환/다차원 배열의 전체 요소 수를 계산하는 데 사용\n",
    "np.prod(x.shape) "
   ]
  },
  {
   "cell_type": "code",
   "execution_count": 12,
   "id": "10eb2683-34b5-46f1-8e1f-24beae13627a",
   "metadata": {},
   "outputs": [
    {
     "data": {
      "text/plain": [
       "dtype('float64')"
      ]
     },
     "execution_count": 12,
     "metadata": {},
     "output_type": "execute_result"
    }
   ],
   "source": [
    "x.dtype #int"
   ]
  },
  {
   "cell_type": "code",
   "execution_count": 16,
   "id": "7429cee4-8df4-4188-a5e0-22e8d13d1daf",
   "metadata": {},
   "outputs": [
    {
     "data": {
      "text/plain": [
       "array([ 0,  1,  3,  3, -1])"
      ]
     },
     "execution_count": 16,
     "metadata": {},
     "output_type": "execute_result"
    }
   ],
   "source": [
    "np.array([0,1,3,3,-1],dtype = np.int32) #문자를 숫자로 만드는 것"
   ]
  },
  {
   "cell_type": "code",
   "execution_count": 18,
   "id": "54552af8-0b6a-4bdb-a9fa-ac34d8580711",
   "metadata": {},
   "outputs": [
    {
     "data": {
      "text/plain": [
       "8"
      ]
     },
     "execution_count": 18,
     "metadata": {},
     "output_type": "execute_result"
    }
   ],
   "source": [
    "np.array([[[[[[[[1]]]]]]]]).ndim"
   ]
  },
  {
   "cell_type": "code",
   "execution_count": 19,
   "id": "22abfb3c-2108-4f6a-8bea-37be13467fc3",
   "metadata": {},
   "outputs": [
    {
     "data": {
      "text/plain": [
       "(1, 1, 1, 1, 1, 1, 1, 1)"
      ]
     },
     "execution_count": 19,
     "metadata": {},
     "output_type": "execute_result"
    }
   ],
   "source": [
    "np.array([[[[[[[[1]]]]]]]]).shape"
   ]
  },
  {
   "cell_type": "code",
   "execution_count": 20,
   "id": "a9ddabf7-b69f-49fa-be27-2b808c26e3d8",
   "metadata": {},
   "outputs": [
    {
     "data": {
      "text/plain": [
       "range(0, 5)"
      ]
     },
     "execution_count": 20,
     "metadata": {},
     "output_type": "execute_result"
    }
   ],
   "source": [
    "range(5) # 끝에 값은 포함하지 않음 list로 감싸면 0~4"
   ]
  },
  {
   "cell_type": "code",
   "execution_count": 21,
   "id": "e92b6355-3967-4d6a-b5f9-a29941714e3f",
   "metadata": {},
   "outputs": [
    {
     "data": {
      "text/plain": [
       "array([0, 1, 2, 3, 4])"
      ]
     },
     "execution_count": 21,
     "metadata": {},
     "output_type": "execute_result"
    }
   ],
   "source": [
    "np.arange(5) #list 와 다름 /저장되는 사이즈가 다름"
   ]
  },
  {
   "cell_type": "code",
   "execution_count": 22,
   "id": "a2974fbc-aca5-4081-a6c9-db4d51a84d5f",
   "metadata": {},
   "outputs": [
    {
     "data": {
      "text/plain": [
       "48"
      ]
     },
     "execution_count": 22,
     "metadata": {},
     "output_type": "execute_result"
    }
   ],
   "source": [
    "#데이터의 사이즈를 확인하는 방\n",
    "import sys\n",
    "sys.getsizeof(range(5))"
   ]
  },
  {
   "cell_type": "code",
   "execution_count": 23,
   "id": "82a16ae7-591b-4fe7-852b-b2e76e62025c",
   "metadata": {},
   "outputs": [
    {
     "data": {
      "text/plain": [
       "132"
      ]
     },
     "execution_count": 23,
     "metadata": {},
     "output_type": "execute_result"
    }
   ],
   "source": [
    "sys.getsizeof(np.arange(5))"
   ]
  },
  {
   "cell_type": "code",
   "execution_count": 25,
   "id": "bee63ae7-3515-4465-a31e-7dbbbf610a87",
   "metadata": {},
   "outputs": [
    {
     "data": {
      "text/plain": [
       "array([1, 3])"
      ]
     },
     "execution_count": 25,
     "metadata": {},
     "output_type": "execute_result"
    }
   ],
   "source": [
    "np.arange(1,5,2) # 2는 step, 1은 포함됨"
   ]
  },
  {
   "cell_type": "code",
   "execution_count": 26,
   "id": "45cbc7a5-771f-4095-a26c-36371e4b294a",
   "metadata": {
    "scrolled": true
   },
   "outputs": [
    {
     "data": {
      "text/plain": [
       "array([-100.        ,  -98.88888889,  -97.77777778,  -96.66666667,\n",
       "        -95.55555556,  -94.44444444,  -93.33333333,  -92.22222222,\n",
       "        -91.11111111,  -90.        ,  -88.88888889,  -87.77777778,\n",
       "        -86.66666667,  -85.55555556,  -84.44444444,  -83.33333333,\n",
       "        -82.22222222,  -81.11111111,  -80.        ,  -78.88888889,\n",
       "        -77.77777778,  -76.66666667,  -75.55555556,  -74.44444444,\n",
       "        -73.33333333,  -72.22222222,  -71.11111111,  -70.        ,\n",
       "        -68.88888889,  -67.77777778,  -66.66666667,  -65.55555556,\n",
       "        -64.44444444,  -63.33333333,  -62.22222222,  -61.11111111,\n",
       "        -60.        ,  -58.88888889,  -57.77777778,  -56.66666667,\n",
       "        -55.55555556,  -54.44444444,  -53.33333333,  -52.22222222,\n",
       "        -51.11111111,  -50.        ,  -48.88888889,  -47.77777778,\n",
       "        -46.66666667,  -45.55555556,  -44.44444444,  -43.33333333,\n",
       "        -42.22222222,  -41.11111111,  -40.        ,  -38.88888889,\n",
       "        -37.77777778,  -36.66666667,  -35.55555556,  -34.44444444,\n",
       "        -33.33333333,  -32.22222222,  -31.11111111,  -30.        ,\n",
       "        -28.88888889,  -27.77777778,  -26.66666667,  -25.55555556,\n",
       "        -24.44444444,  -23.33333333,  -22.22222222,  -21.11111111,\n",
       "        -20.        ,  -18.88888889,  -17.77777778,  -16.66666667,\n",
       "        -15.55555556,  -14.44444444,  -13.33333333,  -12.22222222,\n",
       "        -11.11111111,  -10.        ,   -8.88888889,   -7.77777778,\n",
       "         -6.66666667,   -5.55555556,   -4.44444444,   -3.33333333,\n",
       "         -2.22222222,   -1.11111111,    0.        ,    1.11111111,\n",
       "          2.22222222,    3.33333333,    4.44444444,    5.55555556,\n",
       "          6.66666667,    7.77777778,    8.88888889,   10.        ])"
      ]
     },
     "execution_count": 26,
     "metadata": {},
     "output_type": "execute_result"
    }
   ],
   "source": [
    "np.linspace(-100,10,100)"
   ]
  },
  {
   "cell_type": "code",
   "execution_count": 27,
   "id": "680ce6d6-f52e-421a-8f29-c4a8f22b7626",
   "metadata": {},
   "outputs": [
    {
     "data": {
      "text/plain": [
       "numpy.ndarray"
      ]
     },
     "execution_count": 27,
     "metadata": {},
     "output_type": "execute_result"
    }
   ],
   "source": [
    "type(np.linspace(-100,10,100))"
   ]
  },
  {
   "cell_type": "code",
   "execution_count": 28,
   "id": "70e6475e-06f9-43b3-af94-b7b991722a8e",
   "metadata": {
    "scrolled": true
   },
   "outputs": [
    {
     "data": {
      "text/plain": [
       "['ALLOW_THREADS',\n",
       " 'BUFSIZE',\n",
       " 'CLIP',\n",
       " 'DataSource',\n",
       " 'ERR_CALL',\n",
       " 'ERR_DEFAULT',\n",
       " 'ERR_IGNORE',\n",
       " 'ERR_LOG',\n",
       " 'ERR_PRINT',\n",
       " 'ERR_RAISE',\n",
       " 'ERR_WARN',\n",
       " 'FLOATING_POINT_SUPPORT',\n",
       " 'FPE_DIVIDEBYZERO',\n",
       " 'FPE_INVALID',\n",
       " 'FPE_OVERFLOW',\n",
       " 'FPE_UNDERFLOW',\n",
       " 'False_',\n",
       " 'Inf',\n",
       " 'Infinity',\n",
       " 'MAXDIMS',\n",
       " 'MAY_SHARE_BOUNDS',\n",
       " 'MAY_SHARE_EXACT',\n",
       " 'NAN',\n",
       " 'NINF',\n",
       " 'NZERO',\n",
       " 'NaN',\n",
       " 'PINF',\n",
       " 'PZERO',\n",
       " 'RAISE',\n",
       " 'RankWarning',\n",
       " 'SHIFT_DIVIDEBYZERO',\n",
       " 'SHIFT_INVALID',\n",
       " 'SHIFT_OVERFLOW',\n",
       " 'SHIFT_UNDERFLOW',\n",
       " 'ScalarType',\n",
       " 'True_',\n",
       " 'UFUNC_BUFSIZE_DEFAULT',\n",
       " 'UFUNC_PYVALS_NAME',\n",
       " 'WRAP',\n",
       " '_CopyMode',\n",
       " '_NoValue',\n",
       " '_UFUNC_API',\n",
       " '__NUMPY_SETUP__',\n",
       " '__all__',\n",
       " '__builtins__',\n",
       " '__cached__',\n",
       " '__config__',\n",
       " '__deprecated_attrs__',\n",
       " '__dir__',\n",
       " '__doc__',\n",
       " '__expired_functions__',\n",
       " '__file__',\n",
       " '__former_attrs__',\n",
       " '__future_scalars__',\n",
       " '__getattr__',\n",
       " '__loader__',\n",
       " '__name__',\n",
       " '__package__',\n",
       " '__path__',\n",
       " '__spec__',\n",
       " '__version__',\n",
       " '_add_newdoc_ufunc',\n",
       " '_builtins',\n",
       " '_distributor_init',\n",
       " '_financial_names',\n",
       " '_get_promotion_state',\n",
       " '_globals',\n",
       " '_int_extended_msg',\n",
       " '_mat',\n",
       " '_no_nep50_warning',\n",
       " '_pyinstaller_hooks_dir',\n",
       " '_pytesttester',\n",
       " '_set_promotion_state',\n",
       " '_specific_msg',\n",
       " '_typing',\n",
       " '_using_numpy2_behavior',\n",
       " '_utils',\n",
       " 'abs',\n",
       " 'absolute',\n",
       " 'add',\n",
       " 'add_docstring',\n",
       " 'add_newdoc',\n",
       " 'add_newdoc_ufunc',\n",
       " 'all',\n",
       " 'allclose',\n",
       " 'alltrue',\n",
       " 'amax',\n",
       " 'amin',\n",
       " 'angle',\n",
       " 'any',\n",
       " 'append',\n",
       " 'apply_along_axis',\n",
       " 'apply_over_axes',\n",
       " 'arange',\n",
       " 'arccos',\n",
       " 'arccosh',\n",
       " 'arcsin',\n",
       " 'arcsinh',\n",
       " 'arctan',\n",
       " 'arctan2',\n",
       " 'arctanh',\n",
       " 'argmax',\n",
       " 'argmin',\n",
       " 'argpartition',\n",
       " 'argsort',\n",
       " 'argwhere',\n",
       " 'around',\n",
       " 'array',\n",
       " 'array2string',\n",
       " 'array_equal',\n",
       " 'array_equiv',\n",
       " 'array_repr',\n",
       " 'array_split',\n",
       " 'array_str',\n",
       " 'asanyarray',\n",
       " 'asarray',\n",
       " 'asarray_chkfinite',\n",
       " 'ascontiguousarray',\n",
       " 'asfarray',\n",
       " 'asfortranarray',\n",
       " 'asmatrix',\n",
       " 'atleast_1d',\n",
       " 'atleast_2d',\n",
       " 'atleast_3d',\n",
       " 'average',\n",
       " 'bartlett',\n",
       " 'base_repr',\n",
       " 'binary_repr',\n",
       " 'bincount',\n",
       " 'bitwise_and',\n",
       " 'bitwise_not',\n",
       " 'bitwise_or',\n",
       " 'bitwise_xor',\n",
       " 'blackman',\n",
       " 'block',\n",
       " 'bmat',\n",
       " 'bool_',\n",
       " 'broadcast',\n",
       " 'broadcast_arrays',\n",
       " 'broadcast_shapes',\n",
       " 'broadcast_to',\n",
       " 'busday_count',\n",
       " 'busday_offset',\n",
       " 'busdaycalendar',\n",
       " 'byte',\n",
       " 'byte_bounds',\n",
       " 'bytes_',\n",
       " 'c_',\n",
       " 'can_cast',\n",
       " 'cast',\n",
       " 'cbrt',\n",
       " 'cdouble',\n",
       " 'ceil',\n",
       " 'cfloat',\n",
       " 'char',\n",
       " 'character',\n",
       " 'chararray',\n",
       " 'choose',\n",
       " 'clip',\n",
       " 'clongdouble',\n",
       " 'clongfloat',\n",
       " 'column_stack',\n",
       " 'common_type',\n",
       " 'compare_chararrays',\n",
       " 'compat',\n",
       " 'complex128',\n",
       " 'complex64',\n",
       " 'complex_',\n",
       " 'complexfloating',\n",
       " 'compress',\n",
       " 'concatenate',\n",
       " 'conj',\n",
       " 'conjugate',\n",
       " 'convolve',\n",
       " 'copy',\n",
       " 'copysign',\n",
       " 'copyto',\n",
       " 'corrcoef',\n",
       " 'correlate',\n",
       " 'cos',\n",
       " 'cosh',\n",
       " 'count_nonzero',\n",
       " 'cov',\n",
       " 'cross',\n",
       " 'csingle',\n",
       " 'ctypeslib',\n",
       " 'cumprod',\n",
       " 'cumproduct',\n",
       " 'cumsum',\n",
       " 'datetime64',\n",
       " 'datetime_as_string',\n",
       " 'datetime_data',\n",
       " 'deg2rad',\n",
       " 'degrees',\n",
       " 'delete',\n",
       " 'deprecate',\n",
       " 'deprecate_with_doc',\n",
       " 'diag',\n",
       " 'diag_indices',\n",
       " 'diag_indices_from',\n",
       " 'diagflat',\n",
       " 'diagonal',\n",
       " 'diff',\n",
       " 'digitize',\n",
       " 'disp',\n",
       " 'divide',\n",
       " 'divmod',\n",
       " 'dot',\n",
       " 'double',\n",
       " 'dsplit',\n",
       " 'dstack',\n",
       " 'dtype',\n",
       " 'dtypes',\n",
       " 'e',\n",
       " 'ediff1d',\n",
       " 'einsum',\n",
       " 'einsum_path',\n",
       " 'emath',\n",
       " 'empty',\n",
       " 'empty_like',\n",
       " 'equal',\n",
       " 'errstate',\n",
       " 'euler_gamma',\n",
       " 'exceptions',\n",
       " 'exp',\n",
       " 'exp2',\n",
       " 'expand_dims',\n",
       " 'expm1',\n",
       " 'expm1x',\n",
       " 'extract',\n",
       " 'eye',\n",
       " 'fabs',\n",
       " 'fastCopyAndTranspose',\n",
       " 'fft',\n",
       " 'fill_diagonal',\n",
       " 'find_common_type',\n",
       " 'finfo',\n",
       " 'fix',\n",
       " 'flatiter',\n",
       " 'flatnonzero',\n",
       " 'flexible',\n",
       " 'flip',\n",
       " 'fliplr',\n",
       " 'flipud',\n",
       " 'float16',\n",
       " 'float32',\n",
       " 'float64',\n",
       " 'float_',\n",
       " 'float_power',\n",
       " 'floating',\n",
       " 'floor',\n",
       " 'floor_divide',\n",
       " 'fmax',\n",
       " 'fmin',\n",
       " 'fmod',\n",
       " 'format_float_positional',\n",
       " 'format_float_scientific',\n",
       " 'format_parser',\n",
       " 'frexp',\n",
       " 'from_dlpack',\n",
       " 'frombuffer',\n",
       " 'fromfile',\n",
       " 'fromfunction',\n",
       " 'fromiter',\n",
       " 'frompyfunc',\n",
       " 'fromregex',\n",
       " 'fromstring',\n",
       " 'full',\n",
       " 'full_like',\n",
       " 'gcd',\n",
       " 'generic',\n",
       " 'genfromtxt',\n",
       " 'geomspace',\n",
       " 'get_array_wrap',\n",
       " 'get_include',\n",
       " 'get_printoptions',\n",
       " 'getbufsize',\n",
       " 'geterr',\n",
       " 'geterrcall',\n",
       " 'geterrobj',\n",
       " 'gradient',\n",
       " 'greater',\n",
       " 'greater_equal',\n",
       " 'half',\n",
       " 'hamming',\n",
       " 'hanning',\n",
       " 'heaviside',\n",
       " 'histogram',\n",
       " 'histogram2d',\n",
       " 'histogram_bin_edges',\n",
       " 'histogramdd',\n",
       " 'hsplit',\n",
       " 'hstack',\n",
       " 'hypot',\n",
       " 'i0',\n",
       " 'identity',\n",
       " 'iinfo',\n",
       " 'imag',\n",
       " 'in1d',\n",
       " 'index_exp',\n",
       " 'indices',\n",
       " 'inexact',\n",
       " 'inf',\n",
       " 'info',\n",
       " 'infty',\n",
       " 'inner',\n",
       " 'insert',\n",
       " 'int16',\n",
       " 'int32',\n",
       " 'int64',\n",
       " 'int8',\n",
       " 'int_',\n",
       " 'intc',\n",
       " 'integer',\n",
       " 'interp',\n",
       " 'intersect1d',\n",
       " 'intp',\n",
       " 'invert',\n",
       " 'is_busday',\n",
       " 'isclose',\n",
       " 'iscomplex',\n",
       " 'iscomplexobj',\n",
       " 'isfinite',\n",
       " 'isfortran',\n",
       " 'isin',\n",
       " 'isinf',\n",
       " 'isnan',\n",
       " 'isnat',\n",
       " 'isneginf',\n",
       " 'isposinf',\n",
       " 'isreal',\n",
       " 'isrealobj',\n",
       " 'isscalar',\n",
       " 'issctype',\n",
       " 'issubclass_',\n",
       " 'issubdtype',\n",
       " 'issubsctype',\n",
       " 'iterable',\n",
       " 'ix_',\n",
       " 'kaiser',\n",
       " 'kron',\n",
       " 'lcm',\n",
       " 'ldexp',\n",
       " 'left_shift',\n",
       " 'less',\n",
       " 'less_equal',\n",
       " 'lexsort',\n",
       " 'lib',\n",
       " 'linalg',\n",
       " 'linspace',\n",
       " 'little_endian',\n",
       " 'load',\n",
       " 'loadtxt',\n",
       " 'log',\n",
       " 'log10',\n",
       " 'log1p',\n",
       " 'log2',\n",
       " 'logaddexp',\n",
       " 'logaddexp2',\n",
       " 'logical_and',\n",
       " 'logical_not',\n",
       " 'logical_or',\n",
       " 'logical_xor',\n",
       " 'logspace',\n",
       " 'longcomplex',\n",
       " 'longdouble',\n",
       " 'longfloat',\n",
       " 'longlong',\n",
       " 'lookfor',\n",
       " 'ma',\n",
       " 'mask_indices',\n",
       " 'mat',\n",
       " 'matmul',\n",
       " 'matrix',\n",
       " 'max',\n",
       " 'maximum',\n",
       " 'maximum_sctype',\n",
       " 'may_share_memory',\n",
       " 'mean',\n",
       " 'median',\n",
       " 'memmap',\n",
       " 'meshgrid',\n",
       " 'mgrid',\n",
       " 'min',\n",
       " 'min_scalar_type',\n",
       " 'minimum',\n",
       " 'mintypecode',\n",
       " 'mod',\n",
       " 'modf',\n",
       " 'moveaxis',\n",
       " 'msort',\n",
       " 'multiply',\n",
       " 'nan',\n",
       " 'nan_to_num',\n",
       " 'nanargmax',\n",
       " 'nanargmin',\n",
       " 'nancumprod',\n",
       " 'nancumsum',\n",
       " 'nanmax',\n",
       " 'nanmean',\n",
       " 'nanmedian',\n",
       " 'nanmin',\n",
       " 'nanpercentile',\n",
       " 'nanprod',\n",
       " 'nanquantile',\n",
       " 'nanstd',\n",
       " 'nansum',\n",
       " 'nanvar',\n",
       " 'nbytes',\n",
       " 'ndarray',\n",
       " 'ndenumerate',\n",
       " 'ndim',\n",
       " 'ndindex',\n",
       " 'nditer',\n",
       " 'negative',\n",
       " 'nested_iters',\n",
       " 'newaxis',\n",
       " 'nextafter',\n",
       " 'nonzero',\n",
       " 'not_equal',\n",
       " 'numarray',\n",
       " 'number',\n",
       " 'obj2sctype',\n",
       " 'object_',\n",
       " 'ogrid',\n",
       " 'oldnumeric',\n",
       " 'ones',\n",
       " 'ones_like',\n",
       " 'outer',\n",
       " 'packbits',\n",
       " 'pad',\n",
       " 'partition',\n",
       " 'percentile',\n",
       " 'pi',\n",
       " 'piecewise',\n",
       " 'place',\n",
       " 'poly',\n",
       " 'poly1d',\n",
       " 'polyadd',\n",
       " 'polyder',\n",
       " 'polydiv',\n",
       " 'polyfit',\n",
       " 'polyint',\n",
       " 'polymul',\n",
       " 'polynomial',\n",
       " 'polysub',\n",
       " 'polyval',\n",
       " 'positive',\n",
       " 'power',\n",
       " 'printoptions',\n",
       " 'prod',\n",
       " 'product',\n",
       " 'promote_types',\n",
       " 'ptp',\n",
       " 'put',\n",
       " 'put_along_axis',\n",
       " 'putmask',\n",
       " 'quantile',\n",
       " 'r_',\n",
       " 'rad2deg',\n",
       " 'radians',\n",
       " 'random',\n",
       " 'ravel',\n",
       " 'ravel_multi_index',\n",
       " 'real',\n",
       " 'real_if_close',\n",
       " 'rec',\n",
       " 'recarray',\n",
       " 'recfromcsv',\n",
       " 'recfromtxt',\n",
       " 'reciprocal',\n",
       " 'record',\n",
       " 'remainder',\n",
       " 'repeat',\n",
       " 'require',\n",
       " 'reshape',\n",
       " 'resize',\n",
       " 'result_type',\n",
       " 'right_shift',\n",
       " 'rint',\n",
       " 'roll',\n",
       " 'rollaxis',\n",
       " 'roots',\n",
       " 'rot90',\n",
       " 'round',\n",
       " 'round_',\n",
       " 'row_stack',\n",
       " 's_',\n",
       " 'safe_eval',\n",
       " 'save',\n",
       " 'savetxt',\n",
       " 'savez',\n",
       " 'savez_compressed',\n",
       " 'sctype2char',\n",
       " 'sctypeDict',\n",
       " 'sctypes',\n",
       " 'searchsorted',\n",
       " 'select',\n",
       " 'set_numeric_ops',\n",
       " 'set_printoptions',\n",
       " 'set_string_function',\n",
       " 'setbufsize',\n",
       " 'setdiff1d',\n",
       " 'seterr',\n",
       " 'seterrcall',\n",
       " 'seterrobj',\n",
       " 'setxor1d',\n",
       " 'shape',\n",
       " 'shares_memory',\n",
       " 'short',\n",
       " 'show_config',\n",
       " 'show_runtime',\n",
       " 'sign',\n",
       " 'signbit',\n",
       " 'signedinteger',\n",
       " 'sin',\n",
       " 'sinc',\n",
       " 'single',\n",
       " 'singlecomplex',\n",
       " 'sinh',\n",
       " 'size',\n",
       " 'sometrue',\n",
       " 'sort',\n",
       " 'sort_complex',\n",
       " 'source',\n",
       " 'spacing',\n",
       " 'split',\n",
       " 'sqrt',\n",
       " 'square',\n",
       " 'squeeze',\n",
       " 'stack',\n",
       " 'std',\n",
       " 'str_',\n",
       " 'string_',\n",
       " 'subtract',\n",
       " 'sum',\n",
       " 'swapaxes',\n",
       " 'take',\n",
       " 'take_along_axis',\n",
       " 'tan',\n",
       " 'tanh',\n",
       " 'tensordot',\n",
       " 'test',\n",
       " 'testing',\n",
       " 'tile',\n",
       " 'timedelta64',\n",
       " 'trace',\n",
       " 'tracemalloc_domain',\n",
       " 'transpose',\n",
       " 'trapz',\n",
       " 'tri',\n",
       " 'tril',\n",
       " 'tril_indices',\n",
       " 'tril_indices_from',\n",
       " 'trim_zeros',\n",
       " 'triu',\n",
       " 'triu_indices',\n",
       " 'triu_indices_from',\n",
       " 'true_divide',\n",
       " 'trunc',\n",
       " 'typecodes',\n",
       " 'typename',\n",
       " 'typing',\n",
       " 'ubyte',\n",
       " 'ufunc',\n",
       " 'uint',\n",
       " 'uint16',\n",
       " 'uint32',\n",
       " 'uint64',\n",
       " 'uint8',\n",
       " 'uintc',\n",
       " 'uintp',\n",
       " 'ulonglong',\n",
       " 'unicode_',\n",
       " 'union1d',\n",
       " 'unique',\n",
       " 'unpackbits',\n",
       " 'unravel_index',\n",
       " 'unsignedinteger',\n",
       " 'unwrap',\n",
       " 'ushort',\n",
       " 'vander',\n",
       " 'var',\n",
       " 'vdot',\n",
       " 'vectorize',\n",
       " 'version',\n",
       " 'void',\n",
       " 'vsplit',\n",
       " 'vstack',\n",
       " 'where',\n",
       " 'who',\n",
       " 'zeros',\n",
       " 'zeros_like']"
      ]
     },
     "execution_count": 28,
     "metadata": {},
     "output_type": "execute_result"
    }
   ],
   "source": [
    "dir(np)"
   ]
  },
  {
   "cell_type": "code",
   "execution_count": 29,
   "id": "e80cd645-39da-4977-8aff-7a3bbadae164",
   "metadata": {},
   "outputs": [
    {
     "data": {
      "text/plain": [
       "array([4.        , 5.0396842 , 6.34960421, 8.        ])"
      ]
     },
     "execution_count": 29,
     "metadata": {},
     "output_type": "execute_result"
    }
   ],
   "source": [
    "np.logspace(2, 3, num=4, base=2.0)"
   ]
  },
  {
   "cell_type": "code",
   "execution_count": 34,
   "id": "6afbd4d2-028f-4d44-8292-456c4bce6849",
   "metadata": {},
   "outputs": [
    {
     "data": {
      "text/plain": [
       "array([[0., 0.],\n",
       "       [0., 0.],\n",
       "       [0., 0.]])"
      ]
     },
     "execution_count": 34,
     "metadata": {},
     "output_type": "execute_result"
    }
   ],
   "source": [
    "np.zeros((3,2))"
   ]
  },
  {
   "cell_type": "code",
   "execution_count": 35,
   "id": "92f43a5a-3ef4-4e9a-a302-6ab9687912d0",
   "metadata": {},
   "outputs": [
    {
     "data": {
      "text/plain": [
       "array([[0., 0.],\n",
       "       [0., 0.],\n",
       "       [0., 0.]])"
      ]
     },
     "execution_count": 35,
     "metadata": {},
     "output_type": "execute_result"
    }
   ],
   "source": [
    "np.empty((3,2))"
   ]
  },
  {
   "cell_type": "code",
   "execution_count": 36,
   "id": "a6c15c8f-a58d-4ae1-a16a-a28305449e2c",
   "metadata": {},
   "outputs": [],
   "source": [
    "x = np.random.randn(3,4)"
   ]
  },
  {
   "cell_type": "code",
   "execution_count": 37,
   "id": "fc7482a5-406f-4ee5-a808-9bab45fbc96a",
   "metadata": {},
   "outputs": [
    {
     "data": {
      "text/plain": [
       "array([[0.35860914, 0.42843001, 0.56059672, 0.56315194],\n",
       "       [0.18113066, 0.04560542, 0.75784805, 0.02081401],\n",
       "       [1.03235122, 0.10441503, 0.24786974, 0.5288703 ]])"
      ]
     },
     "execution_count": 37,
     "metadata": {},
     "output_type": "execute_result"
    }
   ],
   "source": [
    "np.empty_like(x)\n"
   ]
  },
  {
   "cell_type": "code",
   "execution_count": 39,
   "id": "8f2ef8b5-2e23-4679-9892-046f782f6e44",
   "metadata": {},
   "outputs": [
    {
     "data": {
      "text/plain": [
       "array([[3, 3],\n",
       "       [3, 3]])"
      ]
     },
     "execution_count": 39,
     "metadata": {},
     "output_type": "execute_result"
    }
   ],
   "source": [
    "np.full((2,2),3) #3으로 다 채워줘"
   ]
  },
  {
   "cell_type": "code",
   "execution_count": 40,
   "id": "8f7b5372-f600-492e-b520-f11d2df2d5dd",
   "metadata": {},
   "outputs": [
    {
     "data": {
      "text/plain": [
       "array([[1., 1., 1.],\n",
       "       [1., 1., 1.],\n",
       "       [1., 1., 1.]])"
      ]
     },
     "execution_count": 40,
     "metadata": {},
     "output_type": "execute_result"
    }
   ],
   "source": [
    "np.ones((3,3))"
   ]
  },
  {
   "cell_type": "code",
   "execution_count": 41,
   "id": "ccc90f1b-c5b0-4f42-aa49-9b7ca09d5bb0",
   "metadata": {},
   "outputs": [
    {
     "data": {
      "text/plain": [
       "array([2, 2, 2, 3, 3, 3])"
      ]
     },
     "execution_count": 41,
     "metadata": {},
     "output_type": "execute_result"
    }
   ],
   "source": [
    "np.repeat((2,3),3) # 2를 3번 3을 3번 벡터로만 출력됨"
   ]
  },
  {
   "cell_type": "code",
   "execution_count": 47,
   "id": "7152d8c5-612e-4e6d-a01f-f0aae266b4ce",
   "metadata": {},
   "outputs": [
    {
     "data": {
      "text/plain": [
       "array([[1, 1],\n",
       "       [1, 1]], dtype=int16)"
      ]
     },
     "execution_count": 47,
     "metadata": {},
     "output_type": "execute_result"
    }
   ],
   "source": [
    "np.ones((2,2),dtype=np.int16)"
   ]
  },
  {
   "cell_type": "code",
   "execution_count": 44,
   "id": "7ea697b7-13e2-4be7-8e6a-71f24ce1f34a",
   "metadata": {},
   "outputs": [
    {
     "data": {
      "text/plain": [
       "array([[1., 1.],\n",
       "       [1., 1.]])"
      ]
     },
     "execution_count": 44,
     "metadata": {},
     "output_type": "execute_result"
    }
   ],
   "source": [
    "np.full((2,2),1,dtype='float')"
   ]
  },
  {
   "cell_type": "code",
   "execution_count": 49,
   "id": "97c610d0-83a3-4cc6-88a3-d909f0397d28",
   "metadata": {},
   "outputs": [
    {
     "data": {
      "text/plain": [
       "array([[1, 0, 0, 0],\n",
       "       [0, 1, 0, 0],\n",
       "       [0, 0, 1, 0],\n",
       "       [0, 0, 0, 1]])"
      ]
     },
     "execution_count": 49,
     "metadata": {},
     "output_type": "execute_result"
    }
   ],
   "source": [
    "np.identity(4,dtype=np.int32) #int는 순서를 정할때 사용/메모리에서 데이터를 표현하는 방식에 따라 구분"
   ]
  },
  {
   "cell_type": "code",
   "execution_count": 52,
   "id": "27975a74-a0ce-4676-9691-ec4b0afa343f",
   "metadata": {},
   "outputs": [
    {
     "data": {
      "text/plain": [
       "array([[0., 1., 0., 0.],\n",
       "       [0., 0., 1., 0.],\n",
       "       [0., 0., 0., 1.],\n",
       "       [0., 0., 0., 0.]])"
      ]
     },
     "execution_count": 52,
     "metadata": {},
     "output_type": "execute_result"
    }
   ],
   "source": [
    "np.eye(4,k=1)"
   ]
  },
  {
   "cell_type": "code",
   "execution_count": 53,
   "id": "7066214a-8f34-48ea-ab7c-e299e7060ef5",
   "metadata": {},
   "outputs": [],
   "source": [
    "y = np.random.normal(2,10,1000)"
   ]
  },
  {
   "cell_type": "code",
   "execution_count": 55,
   "id": "82203bfc-97d3-4b08-b0f5-bc2b67763d50",
   "metadata": {},
   "outputs": [
    {
     "data": {
      "text/plain": [
       "-0.0784856050643457"
      ]
     },
     "execution_count": 55,
     "metadata": {},
     "output_type": "execute_result"
    }
   ],
   "source": [
    "(y-2).mean()"
   ]
  },
  {
   "cell_type": "code",
   "execution_count": 56,
   "id": "e9c8e95c-e10e-4389-aa93-ee01d026ee93",
   "metadata": {},
   "outputs": [
    {
     "data": {
      "text/plain": [
       "1.0061606172641304"
      ]
     },
     "execution_count": 56,
     "metadata": {},
     "output_type": "execute_result"
    }
   ],
   "source": [
    "(y/10).std()"
   ]
  },
  {
   "cell_type": "code",
   "execution_count": 57,
   "id": "b703472e-5ef8-464a-904e-e9da8017246d",
   "metadata": {},
   "outputs": [
    {
     "data": {
      "text/plain": [
       "(-0.041501782300875006, 1.0258797939587148)"
      ]
     },
     "execution_count": 57,
     "metadata": {},
     "output_type": "execute_result"
    }
   ],
   "source": [
    "y2 = np.random.randn(1000)\n",
    "y2.mean(), y2.std()"
   ]
  },
  {
   "cell_type": "code",
   "execution_count": 62,
   "id": "a17b0e38-7e72-4e8e-9f3b-1646db63a708",
   "metadata": {},
   "outputs": [
    {
     "data": {
      "text/plain": [
       "array([[75, 27, 57, 74],\n",
       "       [57, 59, 48, 19],\n",
       "       [56, 81, 52, 85]])"
      ]
     },
     "execution_count": 62,
     "metadata": {},
     "output_type": "execute_result"
    }
   ],
   "source": [
    "np.random.choice(np.arange(10,101),(3,4))"
   ]
  },
  {
   "cell_type": "code",
   "execution_count": 77,
   "id": "d08cef27-994d-4626-aa0a-b32c08a5f526",
   "metadata": {},
   "outputs": [],
   "source": [
    "x =np.random.randint(1,11,(3,4))"
   ]
  },
  {
   "cell_type": "code",
   "execution_count": 78,
   "id": "a6e7689c-91ad-44cf-b5dd-73b9461b1880",
   "metadata": {},
   "outputs": [
    {
     "data": {
      "text/plain": [
       "array([[5, 1, 2, 2],\n",
       "       [2, 6, 2, 4],\n",
       "       [6, 9, 2, 9]])"
      ]
     },
     "execution_count": 78,
     "metadata": {},
     "output_type": "execute_result"
    }
   ],
   "source": [
    "x"
   ]
  },
  {
   "cell_type": "code",
   "execution_count": 79,
   "id": "254e64f7-8d40-4aa4-895f-bd7270c33f37",
   "metadata": {},
   "outputs": [
    {
     "data": {
      "text/plain": [
       "array([[5, 1, 2, 2],\n",
       "       [6, 9, 2, 9]])"
      ]
     },
     "execution_count": 79,
     "metadata": {},
     "output_type": "execute_result"
    }
   ],
   "source": [
    "x[[True,False,True],:]"
   ]
  },
  {
   "cell_type": "code",
   "execution_count": 80,
   "id": "fa994d2e-202e-402a-84f1-a0f699e360c3",
   "metadata": {},
   "outputs": [],
   "source": [
    "a = np.array([3,5,3])"
   ]
  },
  {
   "cell_type": "code",
   "execution_count": 81,
   "id": "b90c7e5c-64bf-4164-9b7c-396301f4f8e8",
   "metadata": {},
   "outputs": [
    {
     "data": {
      "text/plain": [
       "array([[2, 6, 2, 4]])"
      ]
     },
     "execution_count": 81,
     "metadata": {},
     "output_type": "execute_result"
    }
   ],
   "source": [
    "x[x[:,0] < 5,:]"
   ]
  },
  {
   "cell_type": "code",
   "execution_count": 85,
   "id": "a5569af3-43ed-4c6b-8dcb-56a2ed7c9862",
   "metadata": {},
   "outputs": [
    {
     "ename": "IndexError",
     "evalue": "boolean index did not match indexed array along dimension 0; dimension is 3 but corresponding boolean dimension is 4",
     "output_type": "error",
     "traceback": [
      "\u001b[1;31m---------------------------------------------------------------------------\u001b[0m",
      "\u001b[1;31mIndexError\u001b[0m                                Traceback (most recent call last)",
      "Cell \u001b[1;32mIn[85], line 1\u001b[0m\n\u001b[1;32m----> 1\u001b[0m \u001b[43mx\u001b[49m\u001b[43m[\u001b[49m\u001b[43mx\u001b[49m\u001b[43m[\u001b[49m\u001b[38;5;241;43m1\u001b[39;49m\u001b[43m,\u001b[49m\u001b[43m:\u001b[49m\u001b[43m]\u001b[49m\u001b[43m \u001b[49m\u001b[38;5;241;43m<\u001b[39;49m\u001b[43m \u001b[49m\u001b[38;5;241;43m5\u001b[39;49m\u001b[43m,\u001b[49m\u001b[43m:\u001b[49m\u001b[43m]\u001b[49m\n",
      "\u001b[1;31mIndexError\u001b[0m: boolean index did not match indexed array along dimension 0; dimension is 3 but corresponding boolean dimension is 4"
     ]
    }
   ],
   "source": [
    "x[x[1,:] < 5,:]"
   ]
  },
  {
   "cell_type": "code",
   "execution_count": 95,
   "id": "01fdc1a4-f6df-42d9-8880-2fd3b32e1046",
   "metadata": {},
   "outputs": [],
   "source": [
    "np.random.seed(100)\n",
    "x= np.random.randint(60,101,(100,20))"
   ]
  },
  {
   "cell_type": "code",
   "execution_count": 96,
   "id": "290377d2-a52b-4187-a532-54f3ed2a3f37",
   "metadata": {},
   "outputs": [
    {
     "data": {
      "text/plain": [
       "array([[ 68,  84,  63, ...,  69,  89,  82],\n",
       "       [ 62,  87,  64, ...,  90,  79,  94],\n",
       "       [ 87,  90,  99, ...,  79,  74,  60],\n",
       "       ...,\n",
       "       [ 91, 100,  94, ...,  84,  99,  70],\n",
       "       [ 61,  92,  79, ...,  71,  87,  82],\n",
       "       [ 78,  87,  68, ..., 100,  62,  65]])"
      ]
     },
     "execution_count": 96,
     "metadata": {},
     "output_type": "execute_result"
    }
   ],
   "source": [
    "x"
   ]
  },
  {
   "cell_type": "code",
   "execution_count": 97,
   "id": "57c8a129-270d-46bc-9222-0652d2e20821",
   "metadata": {},
   "outputs": [
    {
     "data": {
      "text/plain": [
       "(100, 20)"
      ]
     },
     "execution_count": 97,
     "metadata": {},
     "output_type": "execute_result"
    }
   ],
   "source": [
    "x.shape"
   ]
  },
  {
   "cell_type": "code",
   "execution_count": 105,
   "id": "922267f5-9bda-49a3-8f60-0d496bfe0c79",
   "metadata": {},
   "outputs": [
    {
     "data": {
      "text/plain": [
       "array([[90, 79, 94],\n",
       "       [79, 74, 60]])"
      ]
     },
     "execution_count": 105,
     "metadata": {},
     "output_type": "execute_result"
    }
   ],
   "source": [
    "x[(np.arange(x.shape [0]) > 0) & (np.arange(x.shape[0]) <3),:][:,(np.arange(x.shape [1]) > 16)]"
   ]
  },
  {
   "cell_type": "code",
   "execution_count": 107,
   "id": "6bd5e089-ce79-4321-b56d-712a4561a8d7",
   "metadata": {
    "scrolled": true
   },
   "outputs": [
    {
     "ename": "IndexError",
     "evalue": "boolean index did not match indexed array along dimension 0; dimension is 100 but corresponding boolean dimension is 5",
     "output_type": "error",
     "traceback": [
      "\u001b[1;31m---------------------------------------------------------------------------\u001b[0m",
      "\u001b[1;31mIndexError\u001b[0m                                Traceback (most recent call last)",
      "Cell \u001b[1;32mIn[107], line 1\u001b[0m\n\u001b[1;32m----> 1\u001b[0m \u001b[43mx\u001b[49m\u001b[43m[\u001b[49m\u001b[43m[\u001b[49m\u001b[38;5;28;43;01mFalse\u001b[39;49;00m\u001b[43m,\u001b[49m\u001b[38;5;28;43;01mTrue\u001b[39;49;00m\u001b[43m,\u001b[49m\u001b[38;5;28;43;01mTrue\u001b[39;49;00m\u001b[43m,\u001b[49m\u001b[38;5;28;43;01mFalse\u001b[39;49;00m\u001b[43m,\u001b[49m\u001b[38;5;28;43;01mFalse\u001b[39;49;00m\u001b[43m]\u001b[49m\u001b[43m,\u001b[49m\u001b[43m:\u001b[49m\u001b[43m]\u001b[49m[:,[\u001b[38;5;28;01mFalse\u001b[39;00m,\u001b[38;5;28;01mTrue\u001b[39;00m,\u001b[38;5;28;01mTrue\u001b[39;00m,\u001b[38;5;28;01mTrue\u001b[39;00m]]\n",
      "\u001b[1;31mIndexError\u001b[0m: boolean index did not match indexed array along dimension 0; dimension is 100 but corresponding boolean dimension is 5"
     ]
    }
   ],
   "source": [
    "x[[False,True,True,False,False],:][:,[False,True,True,True]]"
   ]
  },
  {
   "cell_type": "code",
   "execution_count": 92,
   "id": "27ce5518-c56c-40e9-8bbe-5f06de46535b",
   "metadata": {},
   "outputs": [
    {
     "data": {
      "text/plain": [
       "array([[68, 84, 63],\n",
       "       [94, 84, 75]])"
      ]
     },
     "execution_count": 92,
     "metadata": {},
     "output_type": "execute_result"
    }
   ],
   "source": [
    "x[[0,3],:][:,[0,1,2]]"
   ]
  },
  {
   "cell_type": "code",
   "execution_count": 88,
   "id": "dd510d8d-2d1d-4008-ad40-8e76bcc2adf2",
   "metadata": {},
   "outputs": [
    {
     "data": {
      "text/plain": [
       "array([[68, 84, 63],\n",
       "       [83, 75, 70]])"
      ]
     },
     "execution_count": 88,
     "metadata": {},
     "output_type": "execute_result"
    }
   ],
   "source": [
    "x[:2,:3]"
   ]
  },
  {
   "cell_type": "code",
   "execution_count": 154,
   "id": "9778cc25-dba7-4c6f-afd6-d1a8bbb3604a",
   "metadata": {
    "scrolled": true
   },
   "outputs": [
    {
     "data": {
      "text/html": [
       "<div>\n",
       "<style scoped>\n",
       "    .dataframe tbody tr th:only-of-type {\n",
       "        vertical-align: middle;\n",
       "    }\n",
       "\n",
       "    .dataframe tbody tr th {\n",
       "        vertical-align: top;\n",
       "    }\n",
       "\n",
       "    .dataframe thead th {\n",
       "        text-align: right;\n",
       "    }\n",
       "</style>\n",
       "<table border=\"1\" class=\"dataframe\">\n",
       "  <thead>\n",
       "    <tr style=\"text-align: right;\">\n",
       "      <th></th>\n",
       "      <th>0</th>\n",
       "      <th>1</th>\n",
       "      <th>2</th>\n",
       "    </tr>\n",
       "  </thead>\n",
       "  <tbody>\n",
       "    <tr>\n",
       "      <th>0</th>\n",
       "      <td>68</td>\n",
       "      <td>84</td>\n",
       "      <td>63</td>\n",
       "    </tr>\n",
       "    <tr>\n",
       "      <th>1</th>\n",
       "      <td>83</td>\n",
       "      <td>75</td>\n",
       "      <td>70</td>\n",
       "    </tr>\n",
       "  </tbody>\n",
       "</table>\n",
       "</div>"
      ],
      "text/plain": [
       "    0   1   2\n",
       "0  68  84  63\n",
       "1  83  75  70"
      ]
     },
     "execution_count": 154,
     "metadata": {},
     "output_type": "execute_result"
    }
   ],
   "source": [
    "import pandas as pd\n",
    "pd.DataFrame(x).iloc[[0,1],[0,1,2]]"
   ]
  },
  {
   "cell_type": "code",
   "execution_count": 109,
   "id": "7f1c4429-f7ae-4aa6-99e9-39aa8375214d",
   "metadata": {},
   "outputs": [],
   "source": [
    "np.random.seed(100)\n",
    "x= np.random.randint(60,101,(100,4))"
   ]
  },
  {
   "cell_type": "code",
   "execution_count": 118,
   "id": "2e6249e4-06f2-403c-b6aa-6f9ad9adee2c",
   "metadata": {},
   "outputs": [
    {
     "data": {
      "text/plain": [
       "50"
      ]
     },
     "execution_count": 118,
     "metadata": {},
     "output_type": "execute_result"
    }
   ],
   "source": [
    "x[x[:,0]> (x[:,1] +x[:,2] + x[:,3])/3,:].shape[0]"
   ]
  },
  {
   "cell_type": "code",
   "execution_count": 160,
   "id": "ad30bdd6-b60a-4916-8f7d-c1f6bf8a114e",
   "metadata": {
    "collapsed": true,
    "jupyter": {
     "outputs_hidden": true
    }
   },
   "outputs": [
    {
     "data": {
      "text/plain": [
       "array([[ 83,  75,  70,  90],\n",
       "       [ 94,  62,  94,  74],\n",
       "       [ 94,  84,  75,  96],\n",
       "       [ 78,  60,  94,  70],\n",
       "       [ 87,  79,  74,  60],\n",
       "       [ 73,  72,  63,  66],\n",
       "       [ 83,  63,  96,  65],\n",
       "       [ 94,  80,  91,  72],\n",
       "       [ 93,  98,  82,  60],\n",
       "       [ 94,  79,  64,  64],\n",
       "       [ 95,  83,  69,  81],\n",
       "       [ 99,  90,  90,  62],\n",
       "       [ 95,  76,  72,  82],\n",
       "       [ 80,  70,  68,  85],\n",
       "       [ 89,  88,  60,  69],\n",
       "       [100,  88,  62,  76],\n",
       "       [ 90,  74,  73,  80],\n",
       "       [100,  84,  89,  88],\n",
       "       [ 86,  89,  92,  70],\n",
       "       [ 90,  63,  88,  97],\n",
       "       [ 82,  83,  77,  61],\n",
       "       [ 89,  76,  79,  96],\n",
       "       [ 97,  76,  95,  62],\n",
       "       [ 95,  77,  76,  66],\n",
       "       [ 94,  92,  69,  94],\n",
       "       [ 96,  89,  63,  86],\n",
       "       [ 96,  69,  91,  81],\n",
       "       [ 88,  64,  79,  67],\n",
       "       [ 89,  96,  73,  78],\n",
       "       [ 79,  72,  62,  73],\n",
       "       [ 83,  61,  64,  60],\n",
       "       [ 83,  79,  70,  61],\n",
       "       [ 96,  95,  95,  86],\n",
       "       [ 93,  75,  77,  84],\n",
       "       [ 83,  68, 100,  73],\n",
       "       [ 80,  63,  97,  70],\n",
       "       [ 99,  92,  99,  84],\n",
       "       [ 77,  82,  76,  63],\n",
       "       [ 72,  85,  65,  62],\n",
       "       [ 97,  84,  79,  87],\n",
       "       [ 81,  60,  69,  61],\n",
       "       [ 96,  93,  92,  82],\n",
       "       [ 86,  82,  88,  66],\n",
       "       [ 90,  63,  88,  95],\n",
       "       [ 91,  79,  74,  67],\n",
       "       [100,  73,  72,  95],\n",
       "       [ 92,  66,  85,  91],\n",
       "       [ 97,  96,  61,  81],\n",
       "       [ 88,  84,  81,  61],\n",
       "       [ 90,  88,  87,  82]])"
      ]
     },
     "execution_count": 160,
     "metadata": {},
     "output_type": "execute_result"
    }
   ],
   "source": [
    "x[x[:,0] > x[:,1:].mean(1),:]"
   ]
  },
  {
   "cell_type": "code",
   "execution_count": 130,
   "id": "bab1435d-25fc-424d-affd-e9d464139c25",
   "metadata": {},
   "outputs": [],
   "source": [
    "best_score = np.argmax(x,1)\n",
    "subject = np.array(['국어','영어','수학','과학'])"
   ]
  },
  {
   "cell_type": "code",
   "execution_count": 131,
   "id": "6747b4f7-e85b-4202-abff-34e33c4884e2",
   "metadata": {},
   "outputs": [
    {
     "data": {
      "text/plain": [
       "'과학'"
      ]
     },
     "execution_count": 131,
     "metadata": {},
     "output_type": "execute_result"
    }
   ],
   "source": [
    "subject[best_score[1]]"
   ]
  },
  {
   "cell_type": "code",
   "execution_count": 132,
   "id": "8f8d96df-0930-4605-9845-d158f9735e69",
   "metadata": {},
   "outputs": [
    {
     "data": {
      "text/plain": [
       "array([3, 3, 0, 3, 2, 3, 3, 1, 3, 3, 2, 2, 3, 2, 0, 0, 1, 2, 1, 0, 1, 0,\n",
       "       0, 3, 0, 2, 0, 3, 3, 1, 0, 0, 2, 0, 2, 0, 3, 2, 2, 3, 1, 2, 3, 1,\n",
       "       3, 0, 0, 0, 1, 0, 0, 0, 1, 2, 1, 1, 0, 0, 0, 3, 0, 2, 2, 0, 2, 3,\n",
       "       3, 2, 2, 2, 3, 3, 0, 3, 1, 1, 2, 2, 3, 2, 0, 0, 0, 2, 3, 0, 0, 2,\n",
       "       0, 3, 3, 2, 0, 1, 3, 2, 3, 0, 0, 1], dtype=int64)"
      ]
     },
     "execution_count": 132,
     "metadata": {},
     "output_type": "execute_result"
    }
   ],
   "source": [
    "np.argmax(x,1)"
   ]
  },
  {
   "cell_type": "code",
   "execution_count": 133,
   "id": "9d56c7a0-5551-4925-a387-c8bf71f42ccd",
   "metadata": {},
   "outputs": [
    {
     "data": {
      "text/plain": [
       "array([314, 318, 324, 349, 316, 304, 309, 281, 278, 325, 374, 302, 308,\n",
       "       328, 300, 274, 288, 307, 337, 337, 333, 301, 328, 346, 341, 343,\n",
       "       325, 320, 303, 308, 306, 326, 308, 317, 308, 361, 313, 284, 337,\n",
       "       338, 323, 297, 341, 303, 340, 330, 314, 349, 321, 334, 337, 298,\n",
       "       336, 379, 351, 357, 286, 268, 293, 316, 372, 325, 306, 329, 324,\n",
       "       344, 336, 312, 310, 300, 290, 328, 374, 311, 298, 284, 265, 308,\n",
       "       325, 354, 347, 271, 363, 322, 336, 311, 340, 297, 334, 320, 328,\n",
       "       322, 335, 327, 344, 354, 301, 314, 347, 292])"
      ]
     },
     "execution_count": 133,
     "metadata": {},
     "output_type": "execute_result"
    }
   ],
   "source": [
    "np.apply_along_axis(np.sum,1,x)"
   ]
  },
  {
   "cell_type": "code",
   "execution_count": 134,
   "id": "97dd62de-b248-4ac4-ad95-93ad229b9508",
   "metadata": {},
   "outputs": [],
   "source": [
    "def aaa(x):\n",
    "    return subject[np.argmax(x)]"
   ]
  },
  {
   "cell_type": "code",
   "execution_count": 136,
   "id": "98cb3907-ef32-4297-b7fb-7838d15d0d97",
   "metadata": {},
   "outputs": [
    {
     "data": {
      "text/plain": [
       "'과학'"
      ]
     },
     "execution_count": 136,
     "metadata": {},
     "output_type": "execute_result"
    }
   ],
   "source": [
    "aaa(x [0,:])"
   ]
  },
  {
   "cell_type": "code",
   "execution_count": 143,
   "id": "0a293ed6-0167-446d-82ff-512ba3224cf0",
   "metadata": {},
   "outputs": [],
   "source": [
    "xx = list(np.apply_along_axis(aaa,1,x)) #가장 잘한 과목 찾기"
   ]
  },
  {
   "cell_type": "code",
   "execution_count": 144,
   "id": "dc8c07fd-a666-40fc-a8ca-d13bbeee8110",
   "metadata": {
    "scrolled": true
   },
   "outputs": [
    {
     "data": {
      "text/plain": [
       "['과학',\n",
       " '과학',\n",
       " '국어',\n",
       " '과학',\n",
       " '수학',\n",
       " '과학',\n",
       " '과학',\n",
       " '영어',\n",
       " '과학',\n",
       " '과학',\n",
       " '수학',\n",
       " '수학',\n",
       " '과학',\n",
       " '수학',\n",
       " '국어',\n",
       " '국어',\n",
       " '영어',\n",
       " '수학',\n",
       " '영어',\n",
       " '국어',\n",
       " '영어',\n",
       " '국어',\n",
       " '국어',\n",
       " '과학',\n",
       " '국어',\n",
       " '수학',\n",
       " '국어',\n",
       " '과학',\n",
       " '과학',\n",
       " '영어',\n",
       " '국어',\n",
       " '국어',\n",
       " '수학',\n",
       " '국어',\n",
       " '수학',\n",
       " '국어',\n",
       " '과학',\n",
       " '수학',\n",
       " '수학',\n",
       " '과학',\n",
       " '영어',\n",
       " '수학',\n",
       " '과학',\n",
       " '영어',\n",
       " '과학',\n",
       " '국어',\n",
       " '국어',\n",
       " '국어',\n",
       " '영어',\n",
       " '국어',\n",
       " '국어',\n",
       " '국어',\n",
       " '영어',\n",
       " '수학',\n",
       " '영어',\n",
       " '영어',\n",
       " '국어',\n",
       " '국어',\n",
       " '국어',\n",
       " '과학',\n",
       " '국어',\n",
       " '수학',\n",
       " '수학',\n",
       " '국어',\n",
       " '수학',\n",
       " '과학',\n",
       " '과학',\n",
       " '수학',\n",
       " '수학',\n",
       " '수학',\n",
       " '과학',\n",
       " '과학',\n",
       " '국어',\n",
       " '과학',\n",
       " '영어',\n",
       " '영어',\n",
       " '수학',\n",
       " '수학',\n",
       " '과학',\n",
       " '수학',\n",
       " '국어',\n",
       " '국어',\n",
       " '국어',\n",
       " '수학',\n",
       " '과학',\n",
       " '국어',\n",
       " '국어',\n",
       " '수학',\n",
       " '국어',\n",
       " '과학',\n",
       " '과학',\n",
       " '수학',\n",
       " '국어',\n",
       " '영어',\n",
       " '과학',\n",
       " '수학',\n",
       " '과학',\n",
       " '국어',\n",
       " '국어',\n",
       " '영어']"
      ]
     },
     "execution_count": 144,
     "metadata": {},
     "output_type": "execute_result"
    }
   ],
   "source": [
    "xx"
   ]
  },
  {
   "cell_type": "code",
   "execution_count": 153,
   "id": "07864a34-04b8-41a5-b65f-5d37b417bc03",
   "metadata": {},
   "outputs": [
    {
     "data": {
      "text/plain": [
       "'국어'"
      ]
     },
     "execution_count": 153,
     "metadata": {},
     "output_type": "execute_result"
    }
   ],
   "source": [
    "subject_name, counts = np.unique(np.apply_along_axis(aaa,1,x),return_counts=True)\n",
    "subject_name[np.argmax(counts)]"
   ]
  },
  {
   "cell_type": "code",
   "execution_count": 156,
   "id": "36d68460-eab6-4622-90e5-5b0145399ae0",
   "metadata": {},
   "outputs": [
    {
     "data": {
      "text/plain": [
       "array([0, 2, 1], dtype=int64)"
      ]
     },
     "execution_count": 156,
     "metadata": {},
     "output_type": "execute_result"
    }
   ],
   "source": [
    "np.argsort(np.array([19,30,21]))"
   ]
  },
  {
   "cell_type": "code",
   "execution_count": 171,
   "id": "680bd418-bb93-4c16-ae3a-179335e8b52c",
   "metadata": {},
   "outputs": [],
   "source": [
    "a = x[0,:]\n",
    "def aaa(x):\n",
    "    return a[np.argsort(x)[1:-1]].sum()"
   ]
  },
  {
   "cell_type": "code",
   "execution_count": 170,
   "id": "76db627f-7ceb-4984-86f4-3662721138c9",
   "metadata": {},
   "outputs": [
    {
     "data": {
      "text/plain": [
       "array([152, 152, 167, 152, 167, 147, 147, 167, 147, 147, 183, 167, 131,\n",
       "       167, 147, 183, 162, 167, 162, 147, 131, 183, 183, 131, 147, 167,\n",
       "       183, 131, 152, 162, 183, 183, 152, 183, 183, 162, 152, 183, 152,\n",
       "       131, 131, 152, 131, 131, 131, 147, 147, 152, 162, 183, 162, 162,\n",
       "       167, 152, 162, 183, 183, 147, 147, 147, 147, 167, 183, 162, 167,\n",
       "       152, 147, 167, 167, 167, 152, 152, 152, 131, 131, 131, 183, 183,\n",
       "       131, 183, 183, 162, 147, 152, 131, 147, 183, 183, 162, 131, 147,\n",
       "       183, 183, 162, 147, 183, 147, 147, 147, 131])"
      ]
     },
     "execution_count": 170,
     "metadata": {},
     "output_type": "execute_result"
    }
   ],
   "source": [
    "np.apply_along_axis(aaa,1,x)"
   ]
  },
  {
   "cell_type": "code",
   "execution_count": 174,
   "id": "ff59017e-779d-4232-bea0-b48c40034fbd",
   "metadata": {},
   "outputs": [
    {
     "data": {
      "text/plain": [
       "16098"
      ]
     },
     "execution_count": 174,
     "metadata": {},
     "output_type": "execute_result"
    }
   ],
   "source": [
    "np.apply_along_axis(lambda x: x[np.argsort(x)[1:-1]].sum(),1,x).sum()\n"
   ]
  },
  {
   "cell_type": "code",
   "execution_count": 175,
   "id": "0ab950a9-0950-4054-baee-7bebe16bb507",
   "metadata": {},
   "outputs": [
    {
     "data": {
      "text/plain": [
       "160.98"
      ]
     },
     "execution_count": 175,
     "metadata": {},
     "output_type": "execute_result"
    }
   ],
   "source": [
    "np.apply_along_axis(lambda x: x[np.argsort(x)[1:-1]].sum(),1,x).mean()"
   ]
  },
  {
   "cell_type": "code",
   "execution_count": 190,
   "id": "3f2abce7-f5b7-4a7e-8723-eafb4c48194e",
   "metadata": {},
   "outputs": [
    {
     "data": {
      "text/plain": [
       "array([160, 156, 171, 186, 147, 159, 166, 158, 158, 164, 164, 161, 174,\n",
       "       167, 149, 162, 163, 184, 162, 160, 144, 172, 159, 161, 163, 159,\n",
       "       165, 152, 169, 189, 143, 144, 182, 168, 168, 168, 183, 176, 141,\n",
       "       178, 154, 158, 158, 172, 158, 158, 149, 172])"
      ]
     },
     "execution_count": 190,
     "metadata": {},
     "output_type": "execute_result"
    }
   ],
   "source": [
    "# 국어 성적보다 평균이 큰사람의 과목의 최소값\n",
    "#최대값과 최소값의 합\n",
    "def min_max_sum(x):\n",
    "    return x.max() + x.min()\n",
    "np.apply_along_axis(min_max_sum,1,x)[x[:,0] > x[:,0].mean()]"
   ]
  },
  {
   "cell_type": "code",
   "execution_count": 179,
   "id": "19b5759b-fa1d-4de1-99d1-7f10662572e5",
   "metadata": {},
   "outputs": [
    {
     "data": {
      "text/plain": [
       "162"
      ]
     },
     "execution_count": 179,
     "metadata": {},
     "output_type": "execute_result"
    }
   ],
   "source": [
    "x[0,:].max() + x[0,:].min()"
   ]
  },
  {
   "cell_type": "code",
   "execution_count": 188,
   "id": "7435de61-8201-454c-8f3d-64622f2a4318",
   "metadata": {},
   "outputs": [
    {
     "data": {
      "text/plain": [
       "array([160, 156, 171, 186, 147, 159, 166, 158, 158, 164, 164, 161, 174,\n",
       "       167, 149, 162, 163, 184, 162, 160, 144, 172, 159, 161, 163, 159,\n",
       "       165, 152, 169, 189, 143, 144, 182, 168, 168, 168, 183, 176, 141,\n",
       "       178, 154, 158, 158, 172, 158, 158, 149, 172])"
      ]
     },
     "execution_count": 188,
     "metadata": {},
     "output_type": "execute_result"
    }
   ],
   "source": [
    "np.apply_along_axis(min_max_sum,1,x)[x[:,0] > x[:,0].mean()]"
   ]
  },
  {
   "cell_type": "code",
   "execution_count": 201,
   "id": "39bd4f9f-0736-4b59-8172-73cb5c9a6424",
   "metadata": {},
   "outputs": [
    {
     "data": {
      "text/plain": [
       "array([62, 75, 62, 87, 64, 67, 72, 60, 69, 66, 62, 77, 72, 62, 84, 70, 63,\n",
       "       70, 71, 76, 62, 69, 63, 63, 69, 73, 89, 74, 60, 86, 64, 75, 68, 70,\n",
       "       76, 66, 84, 71, 77, 79, 82, 66, 63, 72, 66, 62, 62, 61, 73, 77, 78,\n",
       "       82])"
      ]
     },
     "execution_count": 201,
     "metadata": {},
     "output_type": "execute_result"
    }
   ],
   "source": [
    "## 전체과목의 평균보다 큰 사람들의 최소값\n",
    "##1. 각 row의 평균 구하기\n",
    "x.mean(1).mean()\n",
    "##2.열의 평균 구하기\n",
    "x.mean(0).mean()\n",
    "##\n",
    "x[x.mean(1) > x.mean(),:].min(1)"
   ]
  },
  {
   "cell_type": "code",
   "execution_count": 212,
   "id": "6c88ff69-2b0a-41ee-b14d-add014d59e72",
   "metadata": {
    "collapsed": true,
    "jupyter": {
     "outputs_hidden": true
    },
    "scrolled": true
   },
   "outputs": [
    {
     "data": {
      "text/plain": [
       "{'ALLOW_THREADS',\n",
       " 'BUFSIZE',\n",
       " 'CLIP',\n",
       " 'DataSource',\n",
       " 'ERR_CALL',\n",
       " 'ERR_DEFAULT',\n",
       " 'ERR_IGNORE',\n",
       " 'ERR_LOG',\n",
       " 'ERR_PRINT',\n",
       " 'ERR_RAISE',\n",
       " 'ERR_WARN',\n",
       " 'FLOATING_POINT_SUPPORT',\n",
       " 'FPE_DIVIDEBYZERO',\n",
       " 'FPE_INVALID',\n",
       " 'FPE_OVERFLOW',\n",
       " 'FPE_UNDERFLOW',\n",
       " 'False_',\n",
       " 'Inf',\n",
       " 'Infinity',\n",
       " 'MAXDIMS',\n",
       " 'MAY_SHARE_BOUNDS',\n",
       " 'MAY_SHARE_EXACT',\n",
       " 'NAN',\n",
       " 'NINF',\n",
       " 'NZERO',\n",
       " 'NaN',\n",
       " 'PINF',\n",
       " 'PZERO',\n",
       " 'RAISE',\n",
       " 'RankWarning',\n",
       " 'SHIFT_DIVIDEBYZERO',\n",
       " 'SHIFT_INVALID',\n",
       " 'SHIFT_OVERFLOW',\n",
       " 'SHIFT_UNDERFLOW',\n",
       " 'ScalarType',\n",
       " 'True_',\n",
       " 'UFUNC_BUFSIZE_DEFAULT',\n",
       " 'UFUNC_PYVALS_NAME',\n",
       " 'WRAP',\n",
       " '_CopyMode',\n",
       " '_NoValue',\n",
       " '_UFUNC_API',\n",
       " '__NUMPY_SETUP__',\n",
       " '__all__',\n",
       " '__builtins__',\n",
       " '__cached__',\n",
       " '__config__',\n",
       " '__deprecated_attrs__',\n",
       " '__expired_functions__',\n",
       " '__file__',\n",
       " '__former_attrs__',\n",
       " '__future_scalars__',\n",
       " '__getattr__',\n",
       " '__loader__',\n",
       " '__name__',\n",
       " '__package__',\n",
       " '__path__',\n",
       " '__spec__',\n",
       " '__version__',\n",
       " '_add_newdoc_ufunc',\n",
       " '_builtins',\n",
       " '_distributor_init',\n",
       " '_financial_names',\n",
       " '_get_promotion_state',\n",
       " '_globals',\n",
       " '_int_extended_msg',\n",
       " '_mat',\n",
       " '_no_nep50_warning',\n",
       " '_pyinstaller_hooks_dir',\n",
       " '_pytesttester',\n",
       " '_set_promotion_state',\n",
       " '_specific_msg',\n",
       " '_typing',\n",
       " '_using_numpy2_behavior',\n",
       " '_utils',\n",
       " 'abs',\n",
       " 'absolute',\n",
       " 'add',\n",
       " 'add_docstring',\n",
       " 'add_newdoc',\n",
       " 'add_newdoc_ufunc',\n",
       " 'allclose',\n",
       " 'alltrue',\n",
       " 'amax',\n",
       " 'amin',\n",
       " 'angle',\n",
       " 'append',\n",
       " 'apply_along_axis',\n",
       " 'apply_over_axes',\n",
       " 'arange',\n",
       " 'arccos',\n",
       " 'arccosh',\n",
       " 'arcsin',\n",
       " 'arcsinh',\n",
       " 'arctan',\n",
       " 'arctan2',\n",
       " 'arctanh',\n",
       " 'argwhere',\n",
       " 'around',\n",
       " 'array',\n",
       " 'array2string',\n",
       " 'array_equal',\n",
       " 'array_equiv',\n",
       " 'array_repr',\n",
       " 'array_split',\n",
       " 'array_str',\n",
       " 'asanyarray',\n",
       " 'asarray',\n",
       " 'asarray_chkfinite',\n",
       " 'ascontiguousarray',\n",
       " 'asfarray',\n",
       " 'asfortranarray',\n",
       " 'asmatrix',\n",
       " 'atleast_1d',\n",
       " 'atleast_2d',\n",
       " 'atleast_3d',\n",
       " 'average',\n",
       " 'bartlett',\n",
       " 'base_repr',\n",
       " 'binary_repr',\n",
       " 'bincount',\n",
       " 'bitwise_and',\n",
       " 'bitwise_not',\n",
       " 'bitwise_or',\n",
       " 'bitwise_xor',\n",
       " 'blackman',\n",
       " 'block',\n",
       " 'bmat',\n",
       " 'bool_',\n",
       " 'broadcast',\n",
       " 'broadcast_arrays',\n",
       " 'broadcast_shapes',\n",
       " 'broadcast_to',\n",
       " 'busday_count',\n",
       " 'busday_offset',\n",
       " 'busdaycalendar',\n",
       " 'byte',\n",
       " 'byte_bounds',\n",
       " 'bytes_',\n",
       " 'c_',\n",
       " 'can_cast',\n",
       " 'cast',\n",
       " 'cbrt',\n",
       " 'cdouble',\n",
       " 'ceil',\n",
       " 'cfloat',\n",
       " 'char',\n",
       " 'character',\n",
       " 'chararray',\n",
       " 'clongdouble',\n",
       " 'clongfloat',\n",
       " 'column_stack',\n",
       " 'common_type',\n",
       " 'compare_chararrays',\n",
       " 'compat',\n",
       " 'complex128',\n",
       " 'complex64',\n",
       " 'complex_',\n",
       " 'complexfloating',\n",
       " 'concatenate',\n",
       " 'convolve',\n",
       " 'copysign',\n",
       " 'copyto',\n",
       " 'corrcoef',\n",
       " 'correlate',\n",
       " 'cos',\n",
       " 'cosh',\n",
       " 'count_nonzero',\n",
       " 'cov',\n",
       " 'cross',\n",
       " 'csingle',\n",
       " 'ctypeslib',\n",
       " 'cumproduct',\n",
       " 'datetime64',\n",
       " 'datetime_as_string',\n",
       " 'datetime_data',\n",
       " 'deg2rad',\n",
       " 'degrees',\n",
       " 'delete',\n",
       " 'deprecate',\n",
       " 'deprecate_with_doc',\n",
       " 'diag',\n",
       " 'diag_indices',\n",
       " 'diag_indices_from',\n",
       " 'diagflat',\n",
       " 'diff',\n",
       " 'digitize',\n",
       " 'disp',\n",
       " 'divide',\n",
       " 'divmod',\n",
       " 'double',\n",
       " 'dsplit',\n",
       " 'dstack',\n",
       " 'dtypes',\n",
       " 'e',\n",
       " 'ediff1d',\n",
       " 'einsum',\n",
       " 'einsum_path',\n",
       " 'emath',\n",
       " 'empty',\n",
       " 'empty_like',\n",
       " 'equal',\n",
       " 'errstate',\n",
       " 'euler_gamma',\n",
       " 'exceptions',\n",
       " 'exp',\n",
       " 'exp2',\n",
       " 'expand_dims',\n",
       " 'expm1',\n",
       " 'expm1x',\n",
       " 'extract',\n",
       " 'eye',\n",
       " 'fabs',\n",
       " 'fastCopyAndTranspose',\n",
       " 'fft',\n",
       " 'fill_diagonal',\n",
       " 'find_common_type',\n",
       " 'finfo',\n",
       " 'fix',\n",
       " 'flatiter',\n",
       " 'flatnonzero',\n",
       " 'flexible',\n",
       " 'flip',\n",
       " 'fliplr',\n",
       " 'flipud',\n",
       " 'float16',\n",
       " 'float32',\n",
       " 'float64',\n",
       " 'float_',\n",
       " 'float_power',\n",
       " 'floating',\n",
       " 'floor',\n",
       " 'floor_divide',\n",
       " 'fmax',\n",
       " 'fmin',\n",
       " 'fmod',\n",
       " 'format_float_positional',\n",
       " 'format_float_scientific',\n",
       " 'format_parser',\n",
       " 'frexp',\n",
       " 'from_dlpack',\n",
       " 'frombuffer',\n",
       " 'fromfile',\n",
       " 'fromfunction',\n",
       " 'fromiter',\n",
       " 'frompyfunc',\n",
       " 'fromregex',\n",
       " 'fromstring',\n",
       " 'full',\n",
       " 'full_like',\n",
       " 'gcd',\n",
       " 'generic',\n",
       " 'genfromtxt',\n",
       " 'geomspace',\n",
       " 'get_array_wrap',\n",
       " 'get_include',\n",
       " 'get_printoptions',\n",
       " 'getbufsize',\n",
       " 'geterr',\n",
       " 'geterrcall',\n",
       " 'geterrobj',\n",
       " 'gradient',\n",
       " 'greater',\n",
       " 'greater_equal',\n",
       " 'half',\n",
       " 'hamming',\n",
       " 'hanning',\n",
       " 'heaviside',\n",
       " 'histogram',\n",
       " 'histogram2d',\n",
       " 'histogram_bin_edges',\n",
       " 'histogramdd',\n",
       " 'hsplit',\n",
       " 'hstack',\n",
       " 'hypot',\n",
       " 'i0',\n",
       " 'identity',\n",
       " 'iinfo',\n",
       " 'in1d',\n",
       " 'index_exp',\n",
       " 'indices',\n",
       " 'inexact',\n",
       " 'inf',\n",
       " 'info',\n",
       " 'infty',\n",
       " 'inner',\n",
       " 'insert',\n",
       " 'int16',\n",
       " 'int32',\n",
       " 'int64',\n",
       " 'int8',\n",
       " 'int_',\n",
       " 'intc',\n",
       " 'integer',\n",
       " 'interp',\n",
       " 'intersect1d',\n",
       " 'intp',\n",
       " 'invert',\n",
       " 'is_busday',\n",
       " 'isclose',\n",
       " 'iscomplex',\n",
       " 'iscomplexobj',\n",
       " 'isfinite',\n",
       " 'isfortran',\n",
       " 'isin',\n",
       " 'isinf',\n",
       " 'isnan',\n",
       " 'isnat',\n",
       " 'isneginf',\n",
       " 'isposinf',\n",
       " 'isreal',\n",
       " 'isrealobj',\n",
       " 'isscalar',\n",
       " 'issctype',\n",
       " 'issubclass_',\n",
       " 'issubdtype',\n",
       " 'issubsctype',\n",
       " 'iterable',\n",
       " 'ix_',\n",
       " 'kaiser',\n",
       " 'kron',\n",
       " 'lcm',\n",
       " 'ldexp',\n",
       " 'left_shift',\n",
       " 'less',\n",
       " 'less_equal',\n",
       " 'lexsort',\n",
       " 'lib',\n",
       " 'linalg',\n",
       " 'linspace',\n",
       " 'little_endian',\n",
       " 'load',\n",
       " 'loadtxt',\n",
       " 'log',\n",
       " 'log10',\n",
       " 'log1p',\n",
       " 'log2',\n",
       " 'logaddexp',\n",
       " 'logaddexp2',\n",
       " 'logical_and',\n",
       " 'logical_not',\n",
       " 'logical_or',\n",
       " 'logical_xor',\n",
       " 'logspace',\n",
       " 'longcomplex',\n",
       " 'longdouble',\n",
       " 'longfloat',\n",
       " 'longlong',\n",
       " 'lookfor',\n",
       " 'ma',\n",
       " 'mask_indices',\n",
       " 'mat',\n",
       " 'matmul',\n",
       " 'matrix',\n",
       " 'maximum',\n",
       " 'maximum_sctype',\n",
       " 'may_share_memory',\n",
       " 'median',\n",
       " 'memmap',\n",
       " 'meshgrid',\n",
       " 'mgrid',\n",
       " 'min_scalar_type',\n",
       " 'minimum',\n",
       " 'mintypecode',\n",
       " 'mod',\n",
       " 'modf',\n",
       " 'moveaxis',\n",
       " 'msort',\n",
       " 'multiply',\n",
       " 'nan',\n",
       " 'nan_to_num',\n",
       " 'nanargmax',\n",
       " 'nanargmin',\n",
       " 'nancumprod',\n",
       " 'nancumsum',\n",
       " 'nanmax',\n",
       " 'nanmean',\n",
       " 'nanmedian',\n",
       " 'nanmin',\n",
       " 'nanpercentile',\n",
       " 'nanprod',\n",
       " 'nanquantile',\n",
       " 'nanstd',\n",
       " 'nansum',\n",
       " 'nanvar',\n",
       " 'ndarray',\n",
       " 'ndenumerate',\n",
       " 'ndindex',\n",
       " 'nditer',\n",
       " 'negative',\n",
       " 'nested_iters',\n",
       " 'newaxis',\n",
       " 'nextafter',\n",
       " 'not_equal',\n",
       " 'numarray',\n",
       " 'number',\n",
       " 'obj2sctype',\n",
       " 'object_',\n",
       " 'ogrid',\n",
       " 'oldnumeric',\n",
       " 'ones',\n",
       " 'ones_like',\n",
       " 'outer',\n",
       " 'packbits',\n",
       " 'pad',\n",
       " 'percentile',\n",
       " 'pi',\n",
       " 'piecewise',\n",
       " 'place',\n",
       " 'poly',\n",
       " 'poly1d',\n",
       " 'polyadd',\n",
       " 'polyder',\n",
       " 'polydiv',\n",
       " 'polyfit',\n",
       " 'polyint',\n",
       " 'polymul',\n",
       " 'polynomial',\n",
       " 'polysub',\n",
       " 'polyval',\n",
       " 'positive',\n",
       " 'power',\n",
       " 'printoptions',\n",
       " 'product',\n",
       " 'promote_types',\n",
       " 'put_along_axis',\n",
       " 'putmask',\n",
       " 'quantile',\n",
       " 'r_',\n",
       " 'rad2deg',\n",
       " 'radians',\n",
       " 'random',\n",
       " 'ravel_multi_index',\n",
       " 'real_if_close',\n",
       " 'rec',\n",
       " 'recarray',\n",
       " 'recfromcsv',\n",
       " 'recfromtxt',\n",
       " 'reciprocal',\n",
       " 'record',\n",
       " 'remainder',\n",
       " 'require',\n",
       " 'result_type',\n",
       " 'right_shift',\n",
       " 'rint',\n",
       " 'roll',\n",
       " 'rollaxis',\n",
       " 'roots',\n",
       " 'rot90',\n",
       " 'round_',\n",
       " 'row_stack',\n",
       " 's_',\n",
       " 'safe_eval',\n",
       " 'save',\n",
       " 'savetxt',\n",
       " 'savez',\n",
       " 'savez_compressed',\n",
       " 'sctype2char',\n",
       " 'sctypeDict',\n",
       " 'sctypes',\n",
       " 'select',\n",
       " 'set_numeric_ops',\n",
       " 'set_printoptions',\n",
       " 'set_string_function',\n",
       " 'setbufsize',\n",
       " 'setdiff1d',\n",
       " 'seterr',\n",
       " 'seterrcall',\n",
       " 'seterrobj',\n",
       " 'setxor1d',\n",
       " 'shares_memory',\n",
       " 'short',\n",
       " 'show_config',\n",
       " 'show_runtime',\n",
       " 'sign',\n",
       " 'signbit',\n",
       " 'signedinteger',\n",
       " 'sin',\n",
       " 'sinc',\n",
       " 'single',\n",
       " 'singlecomplex',\n",
       " 'sinh',\n",
       " 'sometrue',\n",
       " 'sort_complex',\n",
       " 'source',\n",
       " 'spacing',\n",
       " 'split',\n",
       " 'sqrt',\n",
       " 'square',\n",
       " 'stack',\n",
       " 'str_',\n",
       " 'string_',\n",
       " 'subtract',\n",
       " 'take_along_axis',\n",
       " 'tan',\n",
       " 'tanh',\n",
       " 'tensordot',\n",
       " 'test',\n",
       " 'testing',\n",
       " 'tile',\n",
       " 'timedelta64',\n",
       " 'tracemalloc_domain',\n",
       " 'trapz',\n",
       " 'tri',\n",
       " 'tril',\n",
       " 'tril_indices',\n",
       " 'tril_indices_from',\n",
       " 'trim_zeros',\n",
       " 'triu',\n",
       " 'triu_indices',\n",
       " 'triu_indices_from',\n",
       " 'true_divide',\n",
       " 'trunc',\n",
       " 'typecodes',\n",
       " 'typename',\n",
       " 'typing',\n",
       " 'ubyte',\n",
       " 'ufunc',\n",
       " 'uint',\n",
       " 'uint16',\n",
       " 'uint32',\n",
       " 'uint64',\n",
       " 'uint8',\n",
       " 'uintc',\n",
       " 'uintp',\n",
       " 'ulonglong',\n",
       " 'unicode_',\n",
       " 'union1d',\n",
       " 'unique',\n",
       " 'unpackbits',\n",
       " 'unravel_index',\n",
       " 'unsignedinteger',\n",
       " 'unwrap',\n",
       " 'ushort',\n",
       " 'vander',\n",
       " 'vdot',\n",
       " 'vectorize',\n",
       " 'version',\n",
       " 'void',\n",
       " 'vsplit',\n",
       " 'vstack',\n",
       " 'where',\n",
       " 'who',\n",
       " 'zeros',\n",
       " 'zeros_like'}"
      ]
     },
     "execution_count": 212,
     "metadata": {},
     "output_type": "execute_result"
    }
   ],
   "source": [
    "set(dir(np)) - set(dir(np.array([1,2,3])))\n",
    "#기능 확인하기"
   ]
  },
  {
   "cell_type": "code",
   "execution_count": 203,
   "id": "e31fc3e0-0d45-446d-9aab-edc33ffa817b",
   "metadata": {},
   "outputs": [],
   "source": [
    "x = np.arange(-5,5)"
   ]
  },
  {
   "cell_type": "code",
   "execution_count": 205,
   "id": "aa5a13a7-9e90-48ff-b451-2a52c88af803",
   "metadata": {},
   "outputs": [
    {
     "data": {
      "text/plain": [
       "array([5, 4, 3, 2, 1, 0, 1, 2, 3, 4])"
      ]
     },
     "execution_count": 205,
     "metadata": {},
     "output_type": "execute_result"
    }
   ],
   "source": [
    "np.abs(x)"
   ]
  },
  {
   "cell_type": "code",
   "execution_count": 206,
   "id": "1be40359-6a75-41fe-b603-aafac18ac6cc",
   "metadata": {},
   "outputs": [
    {
     "data": {
      "text/plain": [
       "-0.5"
      ]
     },
     "execution_count": 206,
     "metadata": {},
     "output_type": "execute_result"
    }
   ],
   "source": [
    "np.median(x)"
   ]
  },
  {
   "cell_type": "code",
   "execution_count": 207,
   "id": "7b19688a-aacf-485d-880e-a86256087874",
   "metadata": {},
   "outputs": [
    {
     "data": {
      "text/plain": [
       "-0.5"
      ]
     },
     "execution_count": 207,
     "metadata": {},
     "output_type": "execute_result"
    }
   ],
   "source": [
    "x.mean()"
   ]
  },
  {
   "cell_type": "code",
   "execution_count": 214,
   "id": "1ed1f861-fd5c-4d01-b6e3-45a5ff8f776f",
   "metadata": {},
   "outputs": [
    {
     "data": {
      "text/plain": [
       "True"
      ]
     },
     "execution_count": 214,
     "metadata": {},
     "output_type": "execute_result"
    }
   ],
   "source": [
    "np.Inf == np.inf"
   ]
  },
  {
   "cell_type": "code",
   "execution_count": 221,
   "id": "017b7aae-6a70-4f49-ad14-e80301df0fb2",
   "metadata": {},
   "outputs": [
    {
     "name": "stdout",
     "output_type": "stream",
     "text": [
      "6.38905609893065\n"
     ]
    }
   ],
   "source": [
    "import numpy as np\n",
    "\n",
    "result = np.expm1(2)\n",
    "print(result)"
   ]
  },
  {
   "cell_type": "code",
   "execution_count": 232,
   "id": "9490e0c1-3237-4405-8188-7af3569ea9fc",
   "metadata": {},
   "outputs": [],
   "source": [
    "def relu(x):\n",
    "    return [i if i > 0 else 0 for i in x]\n",
    "def relu(x):\n",
    "    return np.maximum(x,0)\n",
    "     "
   ]
  },
  {
   "cell_type": "code",
   "execution_count": 230,
   "id": "33b99ceb-d6c2-45f8-bac1-4946da809c0b",
   "metadata": {},
   "outputs": [
    {
     "data": {
      "text/plain": [
       "[0, 0, 0, 0, 0, 0, 0, 0, 0, 0, 0, 1, 2, 3, 4, 5, 6, 7, 8, 9]"
      ]
     },
     "execution_count": 230,
     "metadata": {},
     "output_type": "execute_result"
    }
   ],
   "source": [
    "relu(np.arange(-10,10))"
   ]
  },
  {
   "cell_type": "code",
   "execution_count": 4,
   "id": "165d2230-8189-4c07-b0a4-3be71f5bf59e",
   "metadata": {},
   "outputs": [],
   "source": [
    "import numpy as np\n",
    "import matplotlib.pyplot as plt\n",
    "\n",
    "# 0부터 10까지의 범위에서 100개의 값을 생성합니다.\n",
    "x = np.linspace(0, 10, 100)\n"
   ]
  },
  {
   "cell_type": "code",
   "execution_count": 5,
   "id": "466db436-2467-4c8a-9d1d-ed09af7fab4b",
   "metadata": {},
   "outputs": [
    {
     "name": "stderr",
     "output_type": "stream",
     "text": [
      "C:\\Users\\user\\AppData\\Local\\Temp\\ipykernel_26060\\2657321608.py:2: RuntimeWarning: invalid value encountered in log\n",
      "  plt.plot(x, np.log(x))\n"
     ]
    },
    {
     "data": {
      "image/png": "[encoded data removed]",
      "text/plain": [
       "<Figure size 640x480 with 1 Axes>"
      ]
     },
     "metadata": {},
     "output_type": "display_data"
    }
   ],
   "source": [
    "x = np.linspace(-10, 10, 100)\n",
    "plt.plot(x, np.log(x))\n",
    "plt.show()"
   ]
  },
  {
   "cell_type": "code",
   "execution_count": 6,
   "id": "22a25264-48c7-4e33-96e8-a5bbfc851ebe",
   "metadata": {},
   "outputs": [],
   "source": [
    "data = plt.imread('cat/cat10.jpg')"
   ]
  },
  {
   "cell_type": "code",
   "execution_count": 7,
   "id": "cce15133-a9ac-4cb8-83f7-51c1c9759f72",
   "metadata": {},
   "outputs": [],
   "source": [
    "np.save('data.npy',data)"
   ]
  },
  {
   "cell_type": "code",
   "execution_count": null,
   "id": "8eacf018-3a46-439b-b7f3-7f9a69e80de4",
   "metadata": {},
   "outputs": [],
   "source": [
    "dt = np.load('data.npy')\n",
    "imshow "
   ]
  }
 ],
 "metadata": {
  "kernelspec": {
   "display_name": "Python 3 (ipykernel)",
   "language": "python",
   "name": "python3"
  },
  "language_info": {
   "codemirror_mode": {
    "name": "ipython",
    "version": 3
   },
   "file_extension": ".py",
   "mimetype": "text/x-python",
   "name": "python",
   "nbconvert_exporter": "python",
   "pygments_lexer": "ipython3",
   "version": "3.11.7"
  }
 },
 "nbformat": 4,
 "nbformat_minor": 5
}
