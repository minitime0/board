{
 "cells": [
  {
   "cell_type": "code",
   "execution_count": 10,
   "id": "99b83ffc-3e94-422a-a866-b101fe83bf36",
   "metadata": {},
   "outputs": [],
   "source": [
    "import numpy as np"
   ]
  },
  {
   "cell_type": "code",
   "execution_count": 100,
   "id": "eb84e559-871e-49b4-a597-77050e6e88dc",
   "metadata": {},
   "outputs": [
    {
     "data": {
      "text/plain": [
       "True"
      ]
     },
     "execution_count": 100,
     "metadata": {},
     "output_type": "execute_result"
    }
   ],
   "source": [
    "cond1 = True\n",
    "cond2 = True\n",
    "cond3 = False\n",
    "condition = [cond1,cond2,cond3]\n",
    "len (condition) == sum(condition)\n",
    "sum(condition) > 0"
   ]
  },
  {
   "cell_type": "code",
   "execution_count": 95,
   "id": "39be8dbc-cf60-469f-a859-5b81ed251338",
   "metadata": {},
   "outputs": [
    {
     "data": {
      "text/plain": [
       "False"
      ]
     },
     "execution_count": 95,
     "metadata": {},
     "output_type": "execute_result"
    }
   ],
   "source": [
    "np.all([True,True,False])"
   ]
  },
  {
   "cell_type": "code",
   "execution_count": 96,
   "id": "e8c86edc-6d99-47d2-98c9-2c72c8f9ca4e",
   "metadata": {},
   "outputs": [
    {
     "data": {
      "text/plain": [
       "True"
      ]
     },
     "execution_count": 96,
     "metadata": {},
     "output_type": "execute_result"
    }
   ],
   "source": [
    "np.any([True,True,False])"
   ]
  },
  {
   "cell_type": "code",
   "execution_count": 92,
   "id": "8d8661ca-6c8a-4001-b9b8-ae608761558b",
   "metadata": {},
   "outputs": [
    {
     "data": {
      "text/plain": [
       "True"
      ]
     },
     "execution_count": 92,
     "metadata": {},
     "output_type": "execute_result"
    }
   ],
   "source": [
    "False in[True,False,False]"
   ]
  },
  {
   "cell_type": "code",
   "execution_count": 378,
   "id": "540e5eb2-1e14-4383-977f-fb8d079efb87",
   "metadata": {
    "editable": true,
    "slideshow": {
     "slide_type": ""
    },
    "tags": []
   },
   "outputs": [],
   "source": [
    "class MyNumpy:\n",
    "    def __init__(self,x,y,method):\n",
    "        self.x = x\n",
    "        self.y = y\n",
    "        if method == \"dot\":\n",
    "            self.dot()\n",
    "        if self.y.ndim > self.x.ndim:\n",
    "            self.x, self.y = self.y, self.x\n",
    "        self.rows = range(self.x.shape[0])\n",
    "        self.cols = range(self.x.shape[1])\n",
    "        cond1 = isinstance(self.y,(int,float))\n",
    "        if cond1:\n",
    "            self.y = np.array(self.y)\n",
    "        if self.y.ndim == 0:\n",
    "            self.broadcast()\n",
    "        if self.y.ndim == 1 and self.y.shape[0] > 1:\n",
    "            if self.x.shape[1] == self.y.shape[0]:\n",
    "                self.element_wise_broadcast_vector()\n",
    "        if self.x.shape == self.y.shape:\n",
    "            self.element_wise()\n",
    "        if self.y.ndim == 2 and (1 in self.y.shape):\n",
    "            if self.x.shape[0] == self.y.shape[0]:\n",
    "                self.element_wise_col()\n",
    "            elif self.x.shape[1] == self.y.shape[1]:\n",
    "                self.element_wise_row()\n",
    "            elif 1 in self.x.shape:\n",
    "                if self.x.shape[0] == self.y.shape[1] or self.x.shape[1] == self.y.shape[0]:\n",
    "                    if self.x.shape[1] == 1:\n",
    "                        self.x, self.y = self.y, self.x\n",
    "                    self.value = np.zeros((self.y.shape[0],self.x.shape[1]))\n",
    "                    self.rows = range(self.y.shape[0])\n",
    "                    self.cols = range(self.x.shape[1])\n",
    "                    self.element_wise_broadcast_matrix()         \n",
    "                else:\n",
    "                    'fail'\n",
    "                \n",
    "                \n",
    "            \n",
    "    def broadcast(self):\n",
    "        self.value = np.zeros_like(self.x)\n",
    "        rows = range(self.x.shape[0])\n",
    "        cols = range(self.x.shape[1])\n",
    "        for row in rows:\n",
    "            for col in cols:\n",
    "                self.value[row,col] = self.x[row,col] + self.y\n",
    "        return self.value\n",
    "    \n",
    "    def element_wise_broadcast_vector(self):\n",
    "        self.value = np.zeros_like(self.x)\n",
    "        rows = range(self.x.shape[0])\n",
    "        cols = range(self.x.shape[1])\n",
    "        for row in rows:\n",
    "            for col in cols:\n",
    "                self.value[row,col] = self.x[row,col] + self.y[col]\n",
    "        return self.value\n",
    "\n",
    "    def element_wise(self):\n",
    "        self.value = np.zeros_like(self.x)\n",
    "        rows = range(self.x.shape[0])\n",
    "        cols = range(self.y.shape[1])\n",
    "        for row in rows:\n",
    "            for col in cols:\n",
    "                self.value[row,col] = self.x[row,col] + self.y[row,col]\n",
    "        return self.value\n",
    "\n",
    "    def element_wise_col(self):\n",
    "        self.value = np.zeros_like(self.x)\n",
    "        for col in self.cols:\n",
    "            for row in self.rows:\n",
    "                self.value[row,col] = self.x[row,col] + self.y[row,0]\n",
    "        return self.value\n",
    "        \n",
    "    def element_wise_row(self):\n",
    "        self.value = np.zeros_like(self.x)\n",
    "        for row in self.rows:\n",
    "            for col in self.cols:\n",
    "                self.value[row,col] = self.x[row,col] + self.y[0,col]\n",
    "        return self.value\n",
    "    def element_wise_broadcast_matrix(self):\n",
    "        for row in self.rows:\n",
    "            for col in self.cols:\n",
    "                self.value[row,col] = self.x[0,col] + self.y[row,0]\n",
    "        return self.value\n",
    "    def dot(self):\n",
    "        if self.x.shape[1] == self.y.shape[0]:\n",
    "            self.value = np.zeros((self.x.shape[0],self.y.shape[1]))\n",
    "            for row in range(self.x.shape[0]):\n",
    "                for col in range(self.y.shape[1]):\n",
    "                    \n",
    "                    # s = 0\n",
    "                \n",
    "                    # for idx in range(self.x.shape[1]):\n",
    "                    #     s += self.x [row,idx]*self.y[idx,col]\n",
    "                    self.value[row,col] = self.element_wise_(self.x[row,:],self.y[:,col])\n",
    "                        \n",
    "                    # s = 0\n",
    "                    # for row1 in range(self.x.shape[0]):\n",
    "                    #     for col1 in range(self.y.shape[1]):\n",
    "                    #         s += self.x[row,col1] * self.y[row1,col]                   \n",
    "                    #     self.value[row,col] = s\n",
    "                  \n",
    "            \n",
    "        else:\n",
    "            print('dot 불가능')\n",
    "\n",
    "    def element_wise_(self,x,y):\n",
    "        s = 0\n",
    "        for i in range(len(x)): \n",
    "            s += x[i]*y[i]\n",
    "        return s"
   ]
  },
  {
   "cell_type": "code",
   "execution_count": 379,
   "id": "1bb98ec3-92aa-4c64-a87c-c71ceae22306",
   "metadata": {},
   "outputs": [
    {
     "data": {
      "text/plain": [
       "39"
      ]
     },
     "execution_count": 379,
     "metadata": {},
     "output_type": "execute_result"
    }
   ],
   "source": [
    "x1 = np.random.randint(1,10,size=(3,2))\n",
    "x = x1[0,:]\n",
    "y = x1[1,:]\n",
    "def element_wise(x,y):\n",
    "    s = 0\n",
    "    for i in range(len(x)):\n",
    "        s += x[i]*y[i]\n",
    "    return s\n",
    "\n",
    "element_wise(x,y)\n"
   ]
  },
  {
   "cell_type": "code",
   "execution_count": 377,
   "id": "66b95e5c-9e44-426a-b496-33da3c5d7e65",
   "metadata": {},
   "outputs": [
    {
     "ename": "NameError",
     "evalue": "name 'element_wise_self' is not defined",
     "output_type": "error",
     "traceback": [
      "\u001b[1;31m---------------------------------------------------------------------------\u001b[0m",
      "\u001b[1;31mNameError\u001b[0m                                 Traceback (most recent call last)",
      "Cell \u001b[1;32mIn[377], line 4\u001b[0m\n\u001b[0;32m      2\u001b[0m x \u001b[38;5;241m=\u001b[39m np\u001b[38;5;241m.\u001b[39mrandom\u001b[38;5;241m.\u001b[39mrandint(\u001b[38;5;241m1\u001b[39m,\u001b[38;5;241m10\u001b[39m,size\u001b[38;5;241m=\u001b[39m(\u001b[38;5;241m3\u001b[39m,\u001b[38;5;241m2\u001b[39m))\n\u001b[0;32m      3\u001b[0m y \u001b[38;5;241m=\u001b[39m np\u001b[38;5;241m.\u001b[39mrandom\u001b[38;5;241m.\u001b[39mrandint(\u001b[38;5;241m1\u001b[39m,\u001b[38;5;241m10\u001b[39m,size\u001b[38;5;241m=\u001b[39m(\u001b[38;5;241m2\u001b[39m,\u001b[38;5;241m2\u001b[39m))\n\u001b[1;32m----> 4\u001b[0m a \u001b[38;5;241m=\u001b[39m \u001b[43mMyNumpy\u001b[49m\u001b[43m(\u001b[49m\u001b[43mx\u001b[49m\u001b[43m,\u001b[49m\u001b[43my\u001b[49m\u001b[43m,\u001b[49m\u001b[43m \u001b[49m\u001b[38;5;124;43m'\u001b[39;49m\u001b[38;5;124;43mdot\u001b[39;49m\u001b[38;5;124;43m'\u001b[39;49m\u001b[43m)\u001b[49m\n",
      "Cell \u001b[1;32mIn[375], line 6\u001b[0m, in \u001b[0;36mMyNumpy.__init__\u001b[1;34m(self, x, y, method)\u001b[0m\n\u001b[0;32m      4\u001b[0m \u001b[38;5;28mself\u001b[39m\u001b[38;5;241m.\u001b[39my \u001b[38;5;241m=\u001b[39m y\n\u001b[0;32m      5\u001b[0m \u001b[38;5;28;01mif\u001b[39;00m method \u001b[38;5;241m==\u001b[39m \u001b[38;5;124m\"\u001b[39m\u001b[38;5;124mdot\u001b[39m\u001b[38;5;124m\"\u001b[39m:\n\u001b[1;32m----> 6\u001b[0m     \u001b[38;5;28;43mself\u001b[39;49m\u001b[38;5;241;43m.\u001b[39;49m\u001b[43mdot\u001b[49m\u001b[43m(\u001b[49m\u001b[43m)\u001b[49m\n\u001b[0;32m      7\u001b[0m \u001b[38;5;28;01mif\u001b[39;00m \u001b[38;5;28mself\u001b[39m\u001b[38;5;241m.\u001b[39my\u001b[38;5;241m.\u001b[39mndim \u001b[38;5;241m>\u001b[39m \u001b[38;5;28mself\u001b[39m\u001b[38;5;241m.\u001b[39mx\u001b[38;5;241m.\u001b[39mndim:\n\u001b[0;32m      8\u001b[0m     \u001b[38;5;28mself\u001b[39m\u001b[38;5;241m.\u001b[39mx, \u001b[38;5;28mself\u001b[39m\u001b[38;5;241m.\u001b[39my \u001b[38;5;241m=\u001b[39m \u001b[38;5;28mself\u001b[39m\u001b[38;5;241m.\u001b[39my, \u001b[38;5;28mself\u001b[39m\u001b[38;5;241m.\u001b[39mx\n",
      "Cell \u001b[1;32mIn[375], line 94\u001b[0m, in \u001b[0;36mMyNumpy.dot\u001b[1;34m(self)\u001b[0m\n\u001b[0;32m     87\u001b[0m     \u001b[38;5;28;01mfor\u001b[39;00m row \u001b[38;5;129;01min\u001b[39;00m \u001b[38;5;28mrange\u001b[39m(\u001b[38;5;28mself\u001b[39m\u001b[38;5;241m.\u001b[39mx\u001b[38;5;241m.\u001b[39mshape[\u001b[38;5;241m0\u001b[39m]):\n\u001b[0;32m     88\u001b[0m         \u001b[38;5;28;01mfor\u001b[39;00m col \u001b[38;5;129;01min\u001b[39;00m \u001b[38;5;28mrange\u001b[39m(\u001b[38;5;28mself\u001b[39m\u001b[38;5;241m.\u001b[39my\u001b[38;5;241m.\u001b[39mshape[\u001b[38;5;241m1\u001b[39m]):\n\u001b[0;32m     89\u001b[0m             \n\u001b[0;32m     90\u001b[0m             \u001b[38;5;66;03m# s = 0\u001b[39;00m\n\u001b[0;32m     91\u001b[0m         \n\u001b[0;32m     92\u001b[0m             \u001b[38;5;66;03m# for idx in range(self.x.shape[1]):\u001b[39;00m\n\u001b[0;32m     93\u001b[0m             \u001b[38;5;66;03m#     s += self.x [row,idx]*self.y[idx,col]\u001b[39;00m\n\u001b[1;32m---> 94\u001b[0m             \u001b[38;5;28mself\u001b[39m\u001b[38;5;241m.\u001b[39mvalue[row,col] \u001b[38;5;241m=\u001b[39m \u001b[43melement_wise_self\u001b[49m(\u001b[38;5;28mself\u001b[39m\u001b[38;5;241m.\u001b[39mx[row,:],\u001b[38;5;28mself\u001b[39m\u001b[38;5;241m.\u001b[39my[:,col])\n\u001b[0;32m     96\u001b[0m             \u001b[38;5;66;03m# s = 0\u001b[39;00m\n\u001b[0;32m     97\u001b[0m             \u001b[38;5;66;03m# for row1 in range(self.x.shape[0]):\u001b[39;00m\n\u001b[0;32m     98\u001b[0m             \u001b[38;5;66;03m#     for col1 in range(self.y.shape[1]):\u001b[39;00m\n\u001b[1;32m   (...)\u001b[0m\n\u001b[0;32m    102\u001b[0m     \n\u001b[0;32m    103\u001b[0m \u001b[38;5;28;01melse\u001b[39;00m:\n\u001b[0;32m    104\u001b[0m     \u001b[38;5;28mprint\u001b[39m(\u001b[38;5;124m'\u001b[39m\u001b[38;5;124mdot 불가능\u001b[39m\u001b[38;5;124m'\u001b[39m)\n",
      "\u001b[1;31mNameError\u001b[0m: name 'element_wise_self' is not defined"
     ]
    }
   ],
   "source": [
    "x = np.random.seed(1)\n",
    "x = np.random.randint(1,10,size=(3,2))\n",
    "y = np.random.randint(1,10,size=(2,2))\n",
    "a = MyNumpy(x,y, 'dot')\n"
   ]
  },
  {
   "cell_type": "code",
   "execution_count": 358,
   "id": "86816c9e-4510-4c8c-9332-c98fb7badc6f",
   "metadata": {},
   "outputs": [
    {
     "data": {
      "text/plain": [
       "array([[75., 87.],\n",
       "       [51., 47.],\n",
       "       [14., 17.]])"
      ]
     },
     "execution_count": 358,
     "metadata": {},
     "output_type": "execute_result"
    }
   ],
   "source": [
    "a.value"
   ]
  },
  {
   "cell_type": "code",
   "execution_count": 359,
   "id": "04d2a9a1-a1d9-496d-818e-9036ec749341",
   "metadata": {},
   "outputs": [
    {
     "data": {
      "text/plain": [
       "array([[8, 7],\n",
       "       [3, 5]])"
      ]
     },
     "execution_count": 359,
     "metadata": {},
     "output_type": "execute_result"
    }
   ],
   "source": [
    "a.y"
   ]
  },
  {
   "cell_type": "code",
   "execution_count": 360,
   "id": "91a73da8-eeb0-4866-baa8-f4cf1b4eb480",
   "metadata": {},
   "outputs": [
    {
     "ename": "ValueError",
     "evalue": "operands could not be broadcast together with shapes (3,2) (2,2) ",
     "output_type": "error",
     "traceback": [
      "\u001b[1;31m---------------------------------------------------------------------------\u001b[0m",
      "\u001b[1;31mValueError\u001b[0m                                Traceback (most recent call last)",
      "Cell \u001b[1;32mIn[360], line 1\u001b[0m\n\u001b[1;32m----> 1\u001b[0m \u001b[43ma\u001b[49m\u001b[38;5;241;43m.\u001b[39;49m\u001b[43mx\u001b[49m\u001b[43m \u001b[49m\u001b[38;5;241;43m+\u001b[39;49m\u001b[43m \u001b[49m\u001b[43ma\u001b[49m\u001b[38;5;241;43m.\u001b[39;49m\u001b[43my\u001b[49m\n",
      "\u001b[1;31mValueError\u001b[0m: operands could not be broadcast together with shapes (3,2) (2,2) "
     ]
    }
   ],
   "source": [
    "a.x + a.y"
   ]
  },
  {
   "cell_type": "code",
   "execution_count": 224,
   "id": "5b631d6e-4eb0-40ce-8e2f-8224409c1121",
   "metadata": {},
   "outputs": [
    {
     "ename": "SyntaxError",
     "evalue": "expected ':' (1703306271.py, line 3)",
     "output_type": "error",
     "traceback": [
      "\u001b[1;36m  Cell \u001b[1;32mIn[224], line 3\u001b[1;36m\u001b[0m\n\u001b[1;33m    if (y.ndim == 2) and (1 in y.shape)\u001b[0m\n\u001b[1;37m                                       ^\u001b[0m\n\u001b[1;31mSyntaxError\u001b[0m\u001b[1;31m:\u001b[0m expected ':'\n"
     ]
    }
   ],
   "source": [
    "y =  np.random.randn(3,1)\n",
    "x = np.random.randn(3,4)\n",
    "if (y.ndim == 2) and (1 in y.shape)"
   ]
  },
  {
   "cell_type": "code",
   "execution_count": 228,
   "id": "f2c4f693-b351-425e-a874-deface9df095",
   "metadata": {},
   "outputs": [
    {
     "ename": "AttributeError",
     "evalue": "'MyNumpy' object has no attribute 'value'",
     "output_type": "error",
     "traceback": [
      "\u001b[1;31m---------------------------------------------------------------------------\u001b[0m",
      "\u001b[1;31mAttributeError\u001b[0m                            Traceback (most recent call last)",
      "Cell \u001b[1;32mIn[228], line 1\u001b[0m\n\u001b[1;32m----> 1\u001b[0m \u001b[43ma\u001b[49m\u001b[38;5;241;43m.\u001b[39;49m\u001b[43mvalue\u001b[49m\n",
      "\u001b[1;31mAttributeError\u001b[0m: 'MyNumpy' object has no attribute 'value'"
     ]
    }
   ],
   "source": [
    "a.value"
   ]
  },
  {
   "cell_type": "code",
   "execution_count": 201,
   "id": "7ba7e934-8f79-4c09-9b98-32b2db42f9a6",
   "metadata": {},
   "outputs": [
    {
     "ename": "ValueError",
     "evalue": "setting an array element with a sequence.",
     "output_type": "error",
     "traceback": [
      "\u001b[1;31m---------------------------------------------------------------------------\u001b[0m",
      "\u001b[1;31mTypeError\u001b[0m                                 Traceback (most recent call last)",
      "\u001b[1;31mTypeError\u001b[0m: only length-1 arrays can be converted to Python scalars",
      "\nThe above exception was the direct cause of the following exception:\n",
      "\u001b[1;31mValueError\u001b[0m                                Traceback (most recent call last)",
      "Cell \u001b[1;32mIn[201], line 1\u001b[0m\n\u001b[1;32m----> 1\u001b[0m \u001b[43ma\u001b[49m\u001b[38;5;241;43m.\u001b[39;49m\u001b[43mbroadcast\u001b[49m\u001b[43m(\u001b[49m\u001b[43m)\u001b[49m\n",
      "Cell \u001b[1;32mIn[199], line 27\u001b[0m, in \u001b[0;36mMyNumpy.broadcast\u001b[1;34m(self)\u001b[0m\n\u001b[0;32m     25\u001b[0m \u001b[38;5;28;01mfor\u001b[39;00m row \u001b[38;5;129;01min\u001b[39;00m rows:\n\u001b[0;32m     26\u001b[0m     \u001b[38;5;28;01mfor\u001b[39;00m col \u001b[38;5;129;01min\u001b[39;00m cols:\n\u001b[1;32m---> 27\u001b[0m         \u001b[38;5;28;43mself\u001b[39;49m\u001b[38;5;241;43m.\u001b[39;49m\u001b[43mvalue\u001b[49m\u001b[43m[\u001b[49m\u001b[43mrow\u001b[49m\u001b[43m,\u001b[49m\u001b[43mcol\u001b[49m\u001b[43m]\u001b[49m \u001b[38;5;241m=\u001b[39m \u001b[38;5;28mself\u001b[39m\u001b[38;5;241m.\u001b[39mx[row,col] \u001b[38;5;241m+\u001b[39m \u001b[38;5;28mself\u001b[39m\u001b[38;5;241m.\u001b[39my       \n\u001b[0;32m     28\u001b[0m \u001b[38;5;28;01mreturn\u001b[39;00m \u001b[38;5;28mself\u001b[39m\u001b[38;5;241m.\u001b[39mvalue\n",
      "\u001b[1;31mValueError\u001b[0m: setting an array element with a sequence."
     ]
    }
   ],
   "source": [
    "a.broadcast()"
   ]
  },
  {
   "cell_type": "code",
   "execution_count": 187,
   "id": "10d1ae45-f41f-4b9f-85a5-47c13f30257c",
   "metadata": {},
   "outputs": [
    {
     "data": {
      "text/plain": [
       "array([[16, 19, 16],\n",
       "       [11, 11, 12],\n",
       "       [18, 17, 13],\n",
       "       [15, 16, 13],\n",
       "       [15, 13, 15]])"
      ]
     },
     "execution_count": 187,
     "metadata": {},
     "output_type": "execute_result"
    }
   ],
   "source": [
    "a.value"
   ]
  },
  {
   "cell_type": "code",
   "execution_count": 181,
   "id": "3759379a-64e2-49c4-bfa4-de86702956a2",
   "metadata": {},
   "outputs": [
    {
     "data": {
      "text/plain": [
       "array([0., 0., 0.])"
      ]
     },
     "execution_count": 181,
     "metadata": {},
     "output_type": "execute_result"
    }
   ],
   "source": [
    "np.random.randn(3,4).shape\n",
    "np.zeros_like(x)"
   ]
  },
  {
   "cell_type": "code",
   "execution_count": 178,
   "id": "b3a06ce6-8d37-458b-a6ab-91d5701d52c2",
   "metadata": {},
   "outputs": [],
   "source": [
    "a.broadcast()"
   ]
  },
  {
   "cell_type": "code",
   "execution_count": 206,
   "id": "efea0257-c47d-40f0-b0f8-a73c07b80abc",
   "metadata": {},
   "outputs": [
    {
     "data": {
      "text/plain": [
       "array([[14, 17,  8],\n",
       "       [ 9,  2,  9],\n",
       "       [16, 14,  5],\n",
       "       [ 6,  8, 12],\n",
       "       [14,  7, 14]])"
      ]
     },
     "execution_count": 206,
     "metadata": {},
     "output_type": "execute_result"
    }
   ],
   "source": [
    "a.x+a.y"
   ]
  },
  {
   "cell_type": "code",
   "execution_count": 146,
   "id": "ccd2eab9-f1f6-4b73-984e-020bfd616623",
   "metadata": {
    "scrolled": true
   },
   "outputs": [
    {
     "name": "stdout",
     "output_type": "stream",
     "text": [
      "a[0,0]==6 + 10\n",
      "a[0,1]==9 + 10\n",
      "a[0,2]==6 + 10\n",
      "a[1,0]==1 + 10\n",
      "a[1,1]==1 + 10\n",
      "a[1,2]==2 + 10\n",
      "a[2,0]==8 + 10\n",
      "a[2,1]==7 + 10\n",
      "a[2,2]==3 + 10\n",
      "a[3,0]==5 + 10\n",
      "a[3,1]==6 + 10\n",
      "a[3,2]==3 + 10\n",
      "a[4,0]==5 + 10\n",
      "a[4,1]==3 + 10\n",
      "a[4,2]==5 + 10\n"
     ]
    }
   ],
   "source": [
    "rows = range(a.x.shape[0])\n",
    "cols = range(a.x.shape[1])\n",
    "for row in rows:\n",
    "    for col in cols:\n",
    "             print(f'a[{row},{col}]=={a.x[row,col]} + {a.y}')"
   ]
  },
  {
   "cell_type": "code",
   "execution_count": 105,
   "id": "88137936-bf17-4207-83f3-7c97b38cfa3a",
   "metadata": {
    "scrolled": true
   },
   "outputs": [
    {
     "ename": "ValueError",
     "evalue": "operands could not be broadcast together with shapes (5,3) (6,) ",
     "output_type": "error",
     "traceback": [
      "\u001b[1;31m---------------------------------------------------------------------------\u001b[0m",
      "\u001b[1;31mValueError\u001b[0m                                Traceback (most recent call last)",
      "Cell \u001b[1;32mIn[105], line 1\u001b[0m\n\u001b[1;32m----> 1\u001b[0m \u001b[43mx\u001b[49m\u001b[38;5;241;43m+\u001b[39;49m\u001b[43mnp\u001b[49m\u001b[38;5;241;43m.\u001b[39;49m\u001b[43marray\u001b[49m\u001b[43m(\u001b[49m\u001b[38;5;28;43mrange\u001b[39;49m\u001b[43m(\u001b[49m\u001b[38;5;241;43m6\u001b[39;49m\u001b[43m)\u001b[49m\u001b[43m)\u001b[49m\n",
      "\u001b[1;31mValueError\u001b[0m: operands could not be broadcast together with shapes (5,3) (6,) "
     ]
    }
   ],
   "source": [
    "x+np.array(range(6))\n"
   ]
  },
  {
   "cell_type": "code",
   "execution_count": 75,
   "id": "cd628267-90c6-4070-a8fb-4fd0c3eca60c",
   "metadata": {},
   "outputs": [
    {
     "data": {
      "text/plain": [
       "'fail'"
      ]
     },
     "execution_count": 75,
     "metadata": {},
     "output_type": "execute_result"
    }
   ],
   "source": [
    "a.result"
   ]
  },
  {
   "cell_type": "code",
   "execution_count": 176,
   "id": "75e6b183-3442-4b5a-a0ff-f5016f0e27a9",
   "metadata": {},
   "outputs": [],
   "source": [
    "arr2 = np.array([[1, 2, 3], [4, 5, 6], [7, 8, 9]])"
   ]
  },
  {
   "cell_type": "code",
   "execution_count": 177,
   "id": "a8008337-fddc-4498-af9c-925acb8673ec",
   "metadata": {},
   "outputs": [
    {
     "data": {
      "text/plain": [
       "array([[1, 2, 3],\n",
       "       [4, 5, 6],\n",
       "       [7, 8, 9]])"
      ]
     },
     "execution_count": 177,
     "metadata": {},
     "output_type": "execute_result"
    }
   ],
   "source": [
    "arr2"
   ]
  },
  {
   "cell_type": "code",
   "execution_count": 179,
   "id": "99531ad8-9a9d-4561-a188-be5d1bdb9831",
   "metadata": {},
   "outputs": [],
   "source": [
    "def solution(matrix_A, matrix_B):\n",
    "    answer = []\n",
    "    for i in range(len(matrix_A)):\n",
    "        row = []\n",
    "        for j in range(len(matrix_A[i])):\n",
    "            row.append(matrix_A[i][j])\n",
    "        answer.append(row)            \n",
    "    return answer"
   ]
  },
  {
   "cell_type": "code",
   "execution_count": null,
   "id": "4161878e-1d34-4528-9d70-76f3bfa48375",
   "metadata": {},
   "outputs": [],
   "source": []
  }
 ],
 "metadata": {
  "kernelspec": {
   "display_name": "Python 3 (ipykernel)",
   "language": "python",
   "name": "python3"
  },
  "language_info": {
   "codemirror_mode": {
    "name": "ipython",
    "version": 3
   },
   "file_extension": ".py",
   "mimetype": "text/x-python",
   "name": "python",
   "nbconvert_exporter": "python",
   "pygments_lexer": "ipython3",
   "version": "3.11.7"
  }
 },
 "nbformat": 4,
 "nbformat_minor": 5
}
