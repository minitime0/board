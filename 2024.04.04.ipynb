{
 "cells": [
  {
   "cell_type": "code",
   "execution_count": 1,
   "id": "d69c3fa2-71a3-4b86-bcb6-a8395e81951b",
   "metadata": {},
   "outputs": [],
   "source": [
    "import requests\n",
    "address = 'https://www.w3schools.com/html/default.asp' \n",
    "res = requests.get(address) \t\t\t\t\t\t\n",
    "from bs4 import BeautifulSoup as bs\n",
    "soup = bs(res.text)\n"
   ]
  },
  {
   "cell_type": "code",
   "execution_count": 3,
   "id": "e39819c2-9cea-4329-96a6-17aedc802741",
   "metadata": {
    "scrolled": true
   },
   "outputs": [
    {
     "name": "stdout",
     "output_type": "stream",
     "text": [
      "HTML HOME default.asp\n",
      "HTML Introduction html_intro.asp\n",
      "HTML Editors html_editors.asp\n",
      "HTML Basic html_basic.asp\n",
      "HTML Elements html_elements.asp\n",
      "HTML Attributes html_attributes.asp\n",
      "HTML Headings html_headings.asp\n",
      "HTML Paragraphs html_paragraphs.asp\n",
      "HTML Styles html_styles.asp\n",
      "HTML Formatting html_formatting.asp\n",
      "HTML Quotations html_quotation_elements.asp\n",
      "HTML Comments html_comments.asp\n",
      "HTML Colors html_colors.asp\n",
      "HTML CSS html_css.asp\n",
      "HTML Links html_links.asp\n",
      "HTML Images html_images.asp\n",
      "HTML Favicon html_favicon.asp\n",
      "HTML Page Title html_page_title.asp\n",
      "HTML Tables html_tables.asp\n",
      "HTML Lists html_lists.asp\n",
      "HTML Block & Inline html_blocks.asp\n",
      "HTML Div html_div.asp\n",
      "HTML Classes html_classes.asp\n",
      "HTML Id html_id.asp\n",
      "HTML Iframes html_iframe.asp\n",
      "HTML JavaScript html_scripts.asp\n",
      "HTML File Paths html_filepaths.asp\n",
      "HTML Head html_head.asp\n",
      "HTML Layout html_layout.asp\n",
      "HTML Responsive html_responsive.asp\n",
      "HTML Computercode html_computercode_elements.asp\n",
      "HTML Semantics html5_semantic_elements.asp\n",
      "HTML Style Guide html5_syntax.asp\n",
      "HTML Entities html_entities.asp\n",
      "HTML Symbols html_symbols.asp\n",
      "HTML Emojis html_emojis.asp\n",
      "HTML Charsets html_charset.asp\n",
      "HTML URL Encode html_urlencode.asp\n",
      "HTML vs. XHTML html_xhtml.asp\n",
      "HTML Forms html_forms.asp\n",
      "HTML Form Attributes html_forms_attributes.asp\n",
      "HTML Form Elements html_form_elements.asp\n",
      "HTML Input Types html_form_input_types.asp\n",
      "HTML Input Attributes html_form_attributes.asp\n",
      "Input Form Attributes html_form_attributes_form.asp\n",
      "HTML Canvas html5_canvas.asp\n",
      "HTML SVG html5_svg.asp\n",
      "HTML Media html_media.asp\n",
      "HTML Video html5_video.asp\n",
      "HTML Audio html5_audio.asp\n",
      "HTML Plug-ins html_object.asp\n",
      "HTML YouTube html_youtube.asp\n",
      "HTML Geolocation html5_geolocation.asp\n",
      "HTML Drag/Drop html5_draganddrop.asp\n",
      "HTML Web Storage html5_webstorage.asp\n",
      "HTML Web Workers html5_webworkers.asp\n",
      "HTML SSE html5_serversentevents.asp\n",
      "HTML Examples html_examples.asp\n",
      "HTML Editor html_editor.asp\n",
      "HTML Quiz html_quiz.asp\n",
      "HTML Exercises html_exercises.asp\n",
      "HTML Website html_website.asp\n",
      "HTML Bootcamp html_bootcamp.asp\n",
      "HTML Certificate html_exam.asp\n",
      "HTML Summary html_summary.asp\n",
      "HTML Accessibility html_accessibility.asp\n",
      "HTML Tag List /tags/default.asp\n",
      "HTML Attributes /tags/ref_attributes.asp\n",
      "HTML Global Attributes /tags/ref_standardattributes.asp\n",
      "HTML Browser Support /tags/ref_html_browsersupport.asp\n",
      "HTML Events /tags/ref_eventattributes.asp\n",
      "HTML Colors /tags/ref_colornames.asp\n",
      "HTML Canvas /tags/ref_canvas.asp\n",
      "HTML Audio/Video /tags/ref_av_dom.asp\n",
      "HTML Doctypes /tags/ref_html_dtd.asp\n",
      "HTML Character Sets /tags/ref_charactersets.asp\n",
      "HTML URL Encode /tags/ref_urlencode.asp\n",
      "HTML Lang Codes /tags/ref_language_codes.asp\n",
      "HTTP Messages /tags/ref_httpmessages.asp\n",
      "HTTP Methods /tags/ref_httpmethods.asp\n",
      "PX to EM Converter /tags/ref_pxtoemconversion.asp\n",
      "Keyboard Shortcuts /tags/ref_keyboardshortcuts.asp\n"
     ]
    }
   ],
   "source": [
    "a_list = soup.select('#leftmenuinnerinner > a')\n",
    "for a in a_list:\n",
    "    print (a.text, a.attrs.get('href'))"
   ]
  },
  {
   "cell_type": "code",
   "execution_count": 4,
   "id": "3347ca99-b859-4fc0-b8cf-845abed9f26e",
   "metadata": {},
   "outputs": [],
   "source": [
    "import requests\n",
    "address = 'http://ggoreb.com/python/html/example.html' \n",
    "res = requests.get(address) \n",
    "from bs4 import BeautifulSoup as bs\n",
    "soup = bs(res.text)"
   ]
  },
  {
   "cell_type": "code",
   "execution_count": 7,
   "id": "43fc0719-d9fe-487f-aae7-ebcf953c799b",
   "metadata": {},
   "outputs": [
    {
     "name": "stdout",
     "output_type": "stream",
     "text": [
      "d\n",
      "e\n",
      "f\n"
     ]
    }
   ],
   "source": [
    "a_list = soup.select ('.ex_class p')\n",
    "for a in a_list:\n",
    "    print(a.text)"
   ]
  },
  {
   "cell_type": "code",
   "execution_count": 1,
   "id": "92e3c497-f1aa-40c6-a4b4-03e9307cda82",
   "metadata": {},
   "outputs": [],
   "source": [
    "import requests\n",
    "address = 'https://dhlottery.co.kr/gameResult.do?method=byWin&wiselog=H_C_1_1' \n",
    "res = requests.get(address) \n",
    "from bs4 import BeautifulSoup as bs\n",
    "soup = bs(res.text)"
   ]
  },
  {
   "cell_type": "code",
   "execution_count": 2,
   "id": "c7482a6d-9d06-403d-9055-eb0361fa04e6",
   "metadata": {},
   "outputs": [
    {
     "name": "stdout",
     "output_type": "stream",
     "text": [
      "10\n",
      "16\n",
      "19\n",
      "32\n",
      "33\n",
      "38\n",
      "3\n"
     ]
    }
   ],
   "source": [
    "a_list = soup.select ('.ball_645')\n",
    "for a in a_list:\n",
    "    print(a.text)\n",
    "    "
   ]
  },
  {
   "cell_type": "code",
   "execution_count": null,
   "id": "f355f824-2e05-4973-8bcb-2abe31101c75",
   "metadata": {},
   "outputs": [],
   "source": []
  },
  {
   "cell_type": "code",
   "execution_count": null,
   "id": "1f27814e-2fa0-4728-9489-82e1705a6a9a",
   "metadata": {},
   "outputs": [],
   "source": []
  }
 ],
 "metadata": {
  "kernelspec": {
   "display_name": "Python 3 (ipykernel)",
   "language": "python",
   "name": "python3"
  },
  "language_info": {
   "codemirror_mode": {
    "name": "ipython",
    "version": 3
   },
   "file_extension": ".py",
   "mimetype": "text/x-python",
   "name": "python",
   "nbconvert_exporter": "python",
   "pygments_lexer": "ipython3",
   "version": "3.11.7"
  }
 },
 "nbformat": 4,
 "nbformat_minor": 5
}
