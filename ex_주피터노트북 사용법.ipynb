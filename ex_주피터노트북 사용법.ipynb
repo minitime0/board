{
 "cells": [
  {
   "cell_type": "markdown",
   "id": "d51bb7a9-091d-4b13-b084-259af21baec9",
   "metadata": {
    "tags": []
   },
   "source": [
    "## 주피터 노트북"
   ]
  },
  {
   "cell_type": "markdown",
   "id": "2239086d-cbc2-4175-be06-12e5f6f43686",
   "metadata": {},
   "source": [
    "- 웹 브라우저(크롬, 파이어폭스, 엣지 등)에서 파이썬 코드를 다룰 수 있는 툴\n",
    "- cell로 구성되어 있으며\n",
    "- cell은 크게 파이썬 코드를 적을 수 있는 **코드셀codecell**\n",
    "- 글이나 그림을 적을 수 있는 **마크다운markdown** 두가지로 구성"
   ]
  },
  {
   "cell_type": "markdown",
   "id": "61a7e7b6-d55e-4453-a96e-3fe49c79f036",
   "metadata": {
    "tags": []
   },
   "source": [
    "## 실행"
   ]
  },
  {
   "cell_type": "markdown",
   "id": "e3277483-843b-44c0-9de0-a280d9e99570",
   "metadata": {
    "jp-MarkdownHeadingCollapsed": true,
    "tags": []
   },
   "source": [
    "- <kbd>Ctrl</kbd> + <kbd>Enter</kbd> : 실행 후 제자리\n",
    "- <kbd>Shift</kbd> + <kbd>Enter</kbd> : 실행 후 아래 셀로 이동\n",
    "- <kbd>Alt</kbd> + <kbd>Enter</kbd> : 실행 후 아래 셀 추가\n",
    "- <kbd>I</kbd> + <kbd>I</kbd> : 실행 중지"
   ]
  },
  {
   "cell_type": "markdown",
   "id": "e992fe30-5afb-41ee-af9e-15e45937c782",
   "metadata": {
    "tags": []
   },
   "source": [
    "## 단축키"
   ]
  },
  {
   "cell_type": "markdown",
   "id": "7b5b4eaa-a857-47e4-bbc8-955e63c6a4ee",
   "metadata": {},
   "source": [
    "#### [명령모드] 상태에서"
   ]
  },
  {
   "cell_type": "markdown",
   "id": "38957588-24bb-4fca-a6f1-e918ceec8c94",
   "metadata": {},
   "source": [
    "<kbd>M</kbd> : 마크다운으로 변경"
   ]
  },
  {
   "cell_type": "markdown",
   "id": "e61e1d9c-493a-4e7f-b111-8ca5397f41c9",
   "metadata": {},
   "source": [
    "<kbd>Y</kbd> : 코드셀로 변경"
   ]
  },
  {
   "cell_type": "markdown",
   "id": "f42d7103-1f74-4a63-badd-588f07b9534a",
   "metadata": {},
   "source": [
    "<kbd>A</kbd> : **현재 셀의 앞에 셀 추가**"
   ]
  },
  {
   "cell_type": "markdown",
   "id": "f5b7dc2c-5369-4136-9cf5-a69642d514af",
   "metadata": {},
   "source": [
    "<kbd>B</kbd> : **현재 셀의 뒤에 셀 추가**"
   ]
  },
  {
   "cell_type": "markdown",
   "id": "7fb28911-fb42-47ec-9822-b779b4101a07",
   "metadata": {},
   "source": [
    "<kbd>C</kbd> : **셀 복사**"
   ]
  },
  {
   "cell_type": "markdown",
   "id": "6f5c6692-23dc-4eec-8208-d7041bfed94b",
   "metadata": {},
   "source": [
    "<kbd>V</kbd> : **셀 붙여넣기**"
   ]
  },
  {
   "cell_type": "markdown",
   "id": "38f5cdee-37d2-4bcc-8a7a-365f54b07912",
   "metadata": {},
   "source": [
    "<kbd>D</kbd> + <kbd>D</kbd> : **셀 삭제**"
   ]
  },
  {
   "cell_type": "markdown",
   "id": "fd51cd7b-127b-4e85-8ce1-597886ed8b20",
   "metadata": {},
   "source": [
    "<kbd>Shift</kbd> + <kbd>M</kbd> : 셀 합치기"
   ]
  },
  {
   "cell_type": "markdown",
   "id": "09dd1c88-23ef-4405-8c8f-a5824a2f33c1",
   "metadata": {},
   "source": [
    "<kbd>Shift</kbd> + <kbd>Arrow up/Arrow down</kbd> : 여러 셀 선택"
   ]
  },
  {
   "cell_type": "markdown",
   "id": "4e27b99d-68f5-418d-aaeb-b2ec4eca2cdc",
   "metadata": {},
   "source": [
    "<kbd>Shift</kbd> + <kbd>Tab</kbd> : 함수에 대한 설명"
   ]
  },
  {
   "cell_type": "markdown",
   "id": "e37dff2e-a44b-4449-a0a2-d94b480e3a6f",
   "metadata": {},
   "source": [
    "# <kbd>1</kbd> : H1\n",
    "\n",
    "## <kbd>2</kbd> : H2\n",
    "\n",
    "### <kbd>3</kbd> : H3\n",
    "\n",
    "#### <kbd>4</kbd> : H4"
   ]
  },
  {
   "cell_type": "markdown",
   "id": "f8fe965a-5972-4306-844c-c07cac3d2644",
   "metadata": {
    "tags": []
   },
   "source": [
    "#### [편집모드] 상태에서"
   ]
  },
  {
   "cell_type": "markdown",
   "id": "a30dc52a-e07e-463c-bd0a-bed07bc95c83",
   "metadata": {},
   "source": [
    "<kbd>Shift</kbd> + <kbd>Ctrl</kbd> + <kbd>M</kbd> : 셀 분리하기"
   ]
  },
  {
   "cell_type": "markdown",
   "id": "23c6c4d3-88d3-42d6-b5a0-49c3b87595ec",
   "metadata": {},
   "source": [
    "<kbd>Tab</kbd> : 코드 자동 완성"
   ]
  },
  {
   "cell_type": "markdown",
   "id": "dc08b47e-2c59-424d-993c-3334ad7b08e6",
   "metadata": {},
   "source": [
    "<kbd>Ctrl</kbd> + <kbd>/</kbd> : 주석 설정 / 해제"
   ]
  },
  {
   "cell_type": "markdown",
   "id": "a5e44de8-4dbc-49f0-9930-4a622016572d",
   "metadata": {},
   "source": [
    "<kbd>Ctrl</kbd> + <kbd>[</kbd> : 내어쓰기 (outdent)"
   ]
  },
  {
   "cell_type": "markdown",
   "id": "2261ae06-e0cd-4962-8df3-74a2f0757cd2",
   "metadata": {},
   "source": [
    "<kbd>Ctrl</kbd> + <kbd>]</kbd> : 들여쓰기 (indent)"
   ]
  },
  {
   "cell_type": "markdown",
   "id": "cef2b119-8632-4008-8a52-ee593a5161a8",
   "metadata": {
    "tags": []
   },
   "source": [
    "## 마크다운"
   ]
  },
  {
   "cell_type": "markdown",
   "id": "4caaa55f-b959-47d8-a51a-b9d66cb37542",
   "metadata": {},
   "source": [
    "- 테이블\n",
    "\n",
    "|순번|제목|날짜|\n",
    "|--|--|--|\n",
    "|1|제목1|2021|\n",
    "|2|제목2|2022|"
   ]
  },
  {
   "cell_type": "code",
   "execution_count": null,
   "id": "b9ca3c95-6222-460b-8bf8-e4f1b6fe02af",
   "metadata": {},
   "outputs": [],
   "source": [
    "|순번|제목|날짜|\n",
    "|--|--|--|\n",
    "|1|제목1|2021|\n",
    "|2|제목2|2022|"
   ]
  },
  {
   "cell_type": "markdown",
   "id": "e6e7336f-e306-4a69-85a1-65f5becab9d2",
   "metadata": {},
   "source": [
    "- 목차(들여쓰기)\n",
    "    - 1번\n",
    "        - 가"
   ]
  },
  {
   "cell_type": "code",
   "execution_count": null,
   "id": "76e0c78f-82b6-4d55-b027-e0191e002fd7",
   "metadata": {},
   "outputs": [],
   "source": [
    "- 목차(들여쓰기)\n",
    "    - 1번\n",
    "        - 가"
   ]
  },
  {
   "cell_type": "markdown",
   "id": "6e3ac988-01e7-43f5-993b-ac1164ae0171",
   "metadata": {},
   "source": [
    "- 인용문"
   ]
  },
  {
   "cell_type": "markdown",
   "id": "dd4afc95-3535-4346-97e9-c2b198bb5bbf",
   "metadata": {},
   "source": [
    "> 첫번째\n",
    ">> 두번째\n",
    ">>> 세번째"
   ]
  },
  {
   "cell_type": "code",
   "execution_count": null,
   "id": "f9010040-906f-4e3e-9638-b659dfb22e6b",
   "metadata": {},
   "outputs": [],
   "source": [
    "> 첫번째\n",
    ">> 두번째\n",
    ">>> 세번째"
   ]
  },
  {
   "cell_type": "markdown",
   "id": "0b54eee6-0136-4c6c-aac9-2877273bc0e3",
   "metadata": {},
   "source": [
    "- 수식 표현"
   ]
  },
  {
   "cell_type": "markdown",
   "id": "5fefff92-af12-4b32-804c-019e68f530d9",
   "metadata": {},
   "source": [
    "$$\\huge MSE=\\frac{\\sum{(y - \\hat{y})^2}}{n}$$"
   ]
  },
  {
   "cell_type": "code",
   "execution_count": null,
   "id": "b0067da6-e510-4753-a6f0-83be4a268778",
   "metadata": {},
   "outputs": [],
   "source": [
    "$$\\huge MSE=\\frac{\\sum{(y - \\hat{y})^2}}{n}$$"
   ]
  },
  {
   "cell_type": "markdown",
   "id": "0b0a8fe7-e93e-4ffe-acce-6b2fe5407fec",
   "metadata": {},
   "source": [
    "$$\\huge MAPE=\\frac{100\\sum{|\\frac{y - \\hat{y}}{y}|}}{n}$$"
   ]
  },
  {
   "cell_type": "code",
   "execution_count": null,
   "id": "c641a806-bcd3-4d07-bd14-70a9e9eb8ac0",
   "metadata": {},
   "outputs": [],
   "source": [
    "$$\\huge MAPE=\\frac{100\\sum{|\\frac{y - \\hat{y}}{y}|}}{n}$$"
   ]
  },
  {
   "cell_type": "markdown",
   "id": "fa43493d-1f39-4a10-b3ca-69b9135d0d0a",
   "metadata": {},
   "source": [
    "$$\\huge (Accuracy)=\\frac{TN + TP}{TN + FP + FN + TP}$$"
   ]
  },
  {
   "cell_type": "code",
   "execution_count": null,
   "id": "765972df-c51b-4686-bde1-0e88a0ca822f",
   "metadata": {},
   "outputs": [],
   "source": [
    "$$\\huge (Accuracy)=\\frac{TN + TP}{TN + FP + FN + TP}$$"
   ]
  },
  {
   "cell_type": "markdown",
   "id": "d19c7241-be18-4f11-996b-c3cc3dd3ac41",
   "metadata": {},
   "source": [
    "$$\\huge \\frac{a+b}{2} \\geqq \\sqrt{ab} \\geqq \\frac{2ab}{a+b}$$"
   ]
  },
  {
   "cell_type": "code",
   "execution_count": null,
   "id": "65ca1b17-19a2-4b56-82c6-3b71752f8ad2",
   "metadata": {},
   "outputs": [],
   "source": [
    "$$\\huge \\frac{a+b}{2} \\geqq \\sqrt{ab} \\geqq \\frac{2ab}{a+b}$$"
   ]
  },
  {
   "cell_type": "markdown",
   "id": "8ee0f713-f802-46cf-8e66-249eab887a95",
   "metadata": {
    "tags": []
   },
   "source": [
    "## HTML 표현"
   ]
  },
  {
   "cell_type": "markdown",
   "id": "cd2fab47-95d4-465e-a86a-24895f57d5f0",
   "metadata": {},
   "source": [
    "- 마크다운에서"
   ]
  },
  {
   "cell_type": "code",
   "execution_count": 4,
   "id": "103bf38e-09e4-4d9d-a985-b052793d020e",
   "metadata": {},
   "outputs": [
    {
     "ename": "SyntaxError",
     "evalue": "invalid syntax (315067554.py, line 1)",
     "output_type": "error",
     "traceback": [
      "\u001b[1;36m  Cell \u001b[1;32mIn[4], line 1\u001b[1;36m\u001b[0m\n\u001b[1;33m    <img src='http://ggoreb.com/images/winter.jpg'>\u001b[0m\n\u001b[1;37m    ^\u001b[0m\n\u001b[1;31mSyntaxError\u001b[0m\u001b[1;31m:\u001b[0m invalid syntax\n"
     ]
    }
   ],
   "source": [
    "<img src='http://ggoreb.com/images/winter.jpg'>"
   ]
  },
  {
   "cell_type": "markdown",
   "id": "7fa92029-ea83-4c39-bb7e-770c7fac4af3",
   "metadata": {},
   "source": [
    "<img src='http://ggoreb.com/images/winter.jpg' style='width: 300px;'>"
   ]
  },
  {
   "cell_type": "markdown",
   "id": "65affc22-fa44-4844-ae27-a39d663f4233",
   "metadata": {},
   "source": [
    "<img src='http://ggoreb.com/images/winter.jpg' style='width: 300px;'>"
   ]
  },
  {
   "cell_type": "markdown",
   "id": "d218cb4b-3872-4b30-ad82-ef67cc1cb9bb",
   "metadata": {},
   "source": [
    "- 코드에서"
   ]
  },
  {
   "cell_type": "code",
   "execution_count": 1,
   "id": "7329b1f4-aa9e-4a26-af4b-5bafd9b63f9e",
   "metadata": {},
   "outputs": [
    {
     "data": {
      "text/html": [
       "<img src='http://ggoreb.com/images/winter.jpg' style='width: 300px;'>\n"
      ],
      "text/plain": [
       "<IPython.core.display.HTML object>"
      ]
     },
     "metadata": {},
     "output_type": "display_data"
    }
   ],
   "source": [
    "%%html\n",
    "<img src='http://ggoreb.com/images/winter.jpg' style='width: 300px;'>"
   ]
  },
  {
   "cell_type": "markdown",
   "id": "8919b97e",
   "metadata": {},
   "source": [
    "- 경고 메시지 무시하기"
   ]
  },
  {
   "cell_type": "code",
   "execution_count": null,
   "id": "06751a1a",
   "metadata": {},
   "outputs": [],
   "source": [
    "import warnings\n",
    "warnings.filterwarnings(action='ignore')"
   ]
  }
 ],
 "metadata": {
  "kernelspec": {
   "display_name": "Python 3 (ipykernel)",
   "language": "python",
   "name": "python3"
  },
  "language_info": {
   "codemirror_mode": {
    "name": "ipython",
    "version": 3
   },
   "file_extension": ".py",
   "mimetype": "text/x-python",
   "name": "python",
   "nbconvert_exporter": "python",
   "pygments_lexer": "ipython3",
   "version": "3.11.7"
  }
 },
 "nbformat": 4,
 "nbformat_minor": 5
}
