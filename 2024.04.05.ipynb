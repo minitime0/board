{
 "cells": [
  {
   "cell_type": "code",
   "execution_count": 2,
   "id": "29a85984-2053-4888-b98a-02ffefec6d45",
   "metadata": {},
   "outputs": [
    {
     "name": "stdout",
     "output_type": "stream",
     "text": [
      "Chat GPT가 MZ세대에게 주는 삶의 지혜\n",
      "CHAT GPT 도입으로 업무 혁신을 이끄는 방법\n",
      "Chat GPT로 만화/웹툰 제작하기 \n",
      "한권으로 끝내는 챗(Chat)GPT 인사이트 가이드북\n",
      "챗GPT CHAT 입문 활용 공부 사용법과  인공지능 지피티 영어 배우기 프롬프트 수업 & AI 기초 책 학원강의 특강 도서 교재보다 좋은 USB 강좌 교육\n",
      "CHAT GPT 플러그인\n",
      "챗GPT CHAT 입문 활용 공부 사용법과  인공지능 지피티 영어 배우기 프롬프트 수업 & AI 기초 책 학원강의 특강 도서 교재보다 좋은 USB 강좌 교육 \n",
      "CHAT GPT 도입으로 업무 혁신을 이끄는 방법\n",
      "AI시대, 취업전략 chat GPT 자기소개서 1시간에 끝내기\n",
      "Chat GPT, Notion AI와 함께 하루 만에 책 쓰기\n",
      "비디오 마스터 + CHAT GPT\n",
      "Chat GPT User Guide\n",
      "How to Make Money with Chat GPT: A Step-by-Step Guide to Financial Success\n",
      "Chat GPT Success: Earning Money with Tasks and Offers in Business\n",
      "chat GPT로 동화책 써서 아마존에 판매하기\n",
      "chat gpt와 함께 만드는 지식의 백과사전\n",
      "Chat Gpt: A Beginner's Guide to Chatgpt-assisted Programmin Chat Gpt and Prompt Engineering Mastery for Professionals\n",
      "CHAT GPT 와 함께 쓴 코칭가이드북\n",
      "Finding Your Next Job with Chat GPT: A Guide for Everyone\n",
      "Finding Your Next Job with Chat GPT: A Guide for Everyone\n",
      "Chat GPT, l'avenir de l'IA et une nouvelle economie pour le monde\n",
      "Chat GPT, o futuro da IA e uma nova economia para o mundo\n",
      "Chat GPT, futuro dell'AI e nuova economia per il mondo\n",
      "Chat GPT, будущее ИИ и новая экон&#1\n",
      "CHAT GPT 도입으로 업무 혁신을 이끄는 방법\n",
      "챗GPT 사용설명서\n",
      "Chat GPT로 만화/웹툰 제작하기 \n",
      "비디오 마스터 + CHAT GPT\n",
      "CHAT GPT와 근현대사 시인 7인의 만남\n",
      "챗GPT : 마침내 찾아온 특이점\n",
      "챗GPT 새로운 기회\n"
     ]
    }
   ],
   "source": [
    "import requests\n",
    "address = 'https://www.yes24.com/Product/Search?domain=ALL&query=chat%20gpt'\n",
    "res = requests.get(address)                        \n",
    "from bs4 import BeautifulSoup as bs\n",
    "soup = bs(res.text)\n",
    "a_list = soup.select('.gd_name')\n",
    "for a in a_list:\n",
    "    print(a.text)\n"
   ]
  },
  {
   "cell_type": "code",
   "execution_count": null,
   "id": "e622045f",
   "metadata": {},
   "outputs": [],
   "source": [
    "address='https://sj.hongik.ac.kr/site/food/food_menu.html'\n",
    "import requests\n",
    "res = requests.get(address)                        \n",
    "from bs4 import BeautifulSoup as bs\n",
    "soup = bs(res.text)"
   ]
  },
  {
   "cell_type": "code",
   "execution_count": null,
   "id": "85d8a387",
   "metadata": {},
   "outputs": [],
   "source": [
    "tr = soup.select_one('table tbody tr:nth-child(1)')\n",
    "tds = tr.select('td.mon')\n",
    "for td in tds:\n",
    "    div=td.select_one('div')\n",
    "    print(div.text)\n",
    "\n"
   ]
  },
  {
   "cell_type": "code",
   "execution_count": 19,
   "id": "12af55e3-edc7-4ea6-b6e3-66b34490b3d0",
   "metadata": {},
   "outputs": [],
   "source": [
    "import requests\n",
    "address = 'https://www.yes24.com/Product/Search?domain=ALL&query=chat%20gpt'\n",
    "res = requests.get(address)                        \n",
    "from bs4 import BeautifulSoup as bs\n",
    "soup = bs(res.text)"
   ]
  },
  {
   "cell_type": "code",
   "execution_count": 12,
   "id": "ff64585b-632b-4686-93f8-372355090272",
   "metadata": {},
   "outputs": [
    {
     "ename": "IndentationError",
     "evalue": "expected an indented block after 'for' statement on line 3 (3670155784.py, line 4)",
     "output_type": "error",
     "traceback": [
      "\u001b[1;36m  Cell \u001b[1;32mIn[12], line 4\u001b[1;36m\u001b[0m\n\u001b[1;33m    c = a_list + b_list\u001b[0m\n\u001b[1;37m    ^\u001b[0m\n\u001b[1;31mIndentationError\u001b[0m\u001b[1;31m:\u001b[0m expected an indented block after 'for' statement on line 3\n"
     ]
    }
   ],
   "source": [
    "a_list = soup.select('.gd_name')\n",
    "b_list = soup.select('span.authPub.info_date')\n",
    "for a in a_list:\n",
    "c = a_list + b_list\n",
    "    \n",
    "list(zip(c.text))\n",
    "for a in c_list:\n",
    "     print(c.text)\n"
   ]
  },
  {
   "cell_type": "code",
   "execution_count": 13,
   "id": "41fe1c1e-2235-4618-a18a-a7fa9ff9ce41",
   "metadata": {
    "scrolled": true
   },
   "outputs": [
    {
     "name": "stdout",
     "output_type": "stream",
     "text": [
      "Chat GPT가 MZ세대에게 주는 삶의 지혜 2024년 03월\n",
      "CHAT GPT 도입으로 업무 혁신을 이끄는 방법 2023년 08월\n",
      "Chat GPT로 만화/웹툰 제작하기  2023년 04월\n",
      "한권으로 끝내는 챗(Chat)GPT 인사이트 가이드북 2023년 05월\n",
      "챗GPT CHAT 입문 활용 공부 사용법과  인공지능 지피티 영어 배우기 프롬프트 수업 & AI 기초 책 학원강의 특강 도서 교재보다 좋은 USB 강좌 교육 2023년 09월\n",
      "CHAT GPT 플러그인 2023년 07월\n",
      "챗GPT CHAT 입문 활용 공부 사용법과  인공지능 지피티 영어 배우기 프롬프트 수업 & AI 기초 책 학원강의 특강 도서 교재보다 좋은 USB 강좌 교육  2023년 09월\n",
      "CHAT GPT 도입으로 업무 혁신을 이끄는 방법 2023년 08월\n",
      "AI시대, 취업전략 chat GPT 자기소개서 1시간에 끝내기 2023년 08월\n",
      "Chat GPT, Notion AI와 함께 하루 만에 책 쓰기 2023년 03월\n",
      "비디오 마스터 + CHAT GPT 2023년 05월\n",
      "Chat GPT User Guide 2023년 07월\n",
      "How to Make Money with Chat GPT: A Step-by-Step Guide to Financial Success 2024년 03월\n",
      "Chat GPT Success: Earning Money with Tasks and Offers in Business 2024년 02월\n",
      "chat GPT로 동화책 써서 아마존에 판매하기 2023년 12월\n",
      "chat gpt와 함께 만드는 지식의 백과사전 2023년 12월\n",
      "Chat Gpt: A Beginner's Guide to Chatgpt-assisted Programmin Chat Gpt and Prompt Engineering Mastery for Professionals 2023년 12월\n",
      "CHAT GPT 와 함께 쓴 코칭가이드북 2023년 10월\n",
      "Finding Your Next Job with Chat GPT: A Guide for Everyone 2023년 10월\n",
      "Finding Your Next Job with Chat GPT: A Guide for Everyone 2023년 10월\n",
      "Chat GPT, l'avenir de l'IA et une nouvelle economie pour le monde 2023년 09월\n",
      "Chat GPT, o futuro da IA e uma nova economia para o mundo 2023년 09월\n",
      "Chat GPT, futuro dell'AI e nuova economia per il mondo 2023년 09월\n",
      "Chat GPT, будущее ИИ и новая экон&#1 2023년 09월\n",
      "CHAT GPT 도입으로 업무 혁신을 이끄는 방법 2023년 08월\n",
      "챗GPT 사용설명서 2023년 03월\n",
      "Chat GPT로 만화/웹툰 제작하기  2023년 04월\n",
      "비디오 마스터 + CHAT GPT 2023년 05월\n",
      "CHAT GPT와 근현대사 시인 7인의 만남 2023년 04월\n",
      "챗GPT : 마침내 찾아온 특이점 2023년 02월\n",
      "챗GPT 새로운 기회 2023년 03월\n"
     ]
    }
   ],
   "source": [
    "a_list = soup.select('.gd_name')\n",
    "b_list = soup.select('span.authPub.info_date')\n",
    "for i,a in enumerate(a_list):\n",
    "     print(a.text, b_list[i].text)"
   ]
  },
  {
   "cell_type": "code",
   "execution_count": 15,
   "id": "bc7998cc-8313-4ea9-af27-ba8662061670",
   "metadata": {},
   "outputs": [
    {
     "name": "stdout",
     "output_type": "stream",
     "text": [
      "Chat GPT가 MZ세대에게 주는 삶의 지혜 2024년 03월\n",
      "CHAT GPT 도입으로 업무 혁신을 이끄는 방법 2023년 08월\n",
      "Chat GPT로 만화/웹툰 제작하기  2023년 04월\n",
      "한권으로 끝내는 챗(Chat)GPT 인사이트 가이드북 2023년 05월\n",
      "챗GPT CHAT 입문 활용 공부 사용법과  인공지능 지피티 영어 배우기 프롬프트 수업 & AI 기초 책 학원강의 특강 도서 교재보다 좋은 USB 강좌 교육 2023년 09월\n",
      "CHAT GPT 플러그인 2023년 07월\n",
      "챗GPT CHAT 입문 활용 공부 사용법과  인공지능 지피티 영어 배우기 프롬프트 수업 & AI 기초 책 학원강의 특강 도서 교재보다 좋은 USB 강좌 교육  2023년 09월\n",
      "CHAT GPT 도입으로 업무 혁신을 이끄는 방법 2023년 08월\n",
      "AI시대, 취업전략 chat GPT 자기소개서 1시간에 끝내기 2023년 08월\n",
      "Chat GPT, Notion AI와 함께 하루 만에 책 쓰기 2023년 03월\n",
      "비디오 마스터 + CHAT GPT 2023년 05월\n",
      "Chat GPT User Guide 2023년 07월\n",
      "How to Make Money with Chat GPT: A Step-by-Step Guide to Financial Success 2024년 03월\n",
      "Chat GPT Success: Earning Money with Tasks and Offers in Business 2024년 02월\n",
      "chat GPT로 동화책 써서 아마존에 판매하기 2023년 12월\n",
      "chat gpt와 함께 만드는 지식의 백과사전 2023년 12월\n",
      "Chat Gpt: A Beginner's Guide to Chatgpt-assisted Programmin Chat Gpt and Prompt Engineering Mastery for Professionals 2023년 12월\n",
      "CHAT GPT 와 함께 쓴 코칭가이드북 2023년 10월\n",
      "Finding Your Next Job with Chat GPT: A Guide for Everyone 2023년 10월\n",
      "Finding Your Next Job with Chat GPT: A Guide for Everyone 2023년 10월\n",
      "Chat GPT, l'avenir de l'IA et une nouvelle economie pour le monde 2023년 09월\n",
      "Chat GPT, o futuro da IA e uma nova economia para o mundo 2023년 09월\n",
      "Chat GPT, futuro dell'AI e nuova economia per il mondo 2023년 09월\n",
      "Chat GPT, будущее ИИ и новая экон&#1 2023년 09월\n",
      "CHAT GPT 도입으로 업무 혁신을 이끄는 방법 2023년 08월\n",
      "챗GPT 사용설명서 2023년 03월\n",
      "Chat GPT로 만화/웹툰 제작하기  2023년 04월\n",
      "비디오 마스터 + CHAT GPT 2023년 05월\n",
      "CHAT GPT와 근현대사 시인 7인의 만남 2023년 04월\n",
      "챗GPT : 마침내 찾아온 특이점 2023년 02월\n",
      "챗GPT 새로운 기회 2023년 03월\n"
     ]
    }
   ],
   "source": [
    "a_list = soup.select('.gd_name')\n",
    "b_list = soup.select('span.authPub.info_date')\n",
    "for data in zip(a_list,b_list):\n",
    "     print(data[0].text, data[1].text)"
   ]
  },
  {
   "cell_type": "code",
   "execution_count": 21,
   "id": "1cf874d2-ba5d-401f-8b44-b637f5ecb6b4",
   "metadata": {},
   "outputs": [
    {
     "name": "stdout",
     "output_type": "stream",
     "text": [
      "Chat GPT가 MZ세대에게 주는 삶의 지혜 2024년 03월\n",
      "CHAT GPT 도입으로 업무 혁신을 이끄는 방법 2023년 08월\n",
      "Chat GPT로 만화/웹툰 제작하기  2023년 04월\n",
      "한권으로 끝내는 챗(Chat)GPT 인사이트 가이드북 2023년 05월\n",
      "챗GPT CHAT 입문 활용 공부 사용법과  인공지능 지피티 영어 배우기 프롬프트 수업 & AI 기초 책 학원강의 특강 도서 교재보다 좋은 USB 강좌 교육 2023년 09월\n",
      "CHAT GPT 플러그인 2023년 07월\n",
      "챗GPT CHAT 입문 활용 공부 사용법과  인공지능 지피티 영어 배우기 프롬프트 수업 & AI 기초 책 학원강의 특강 도서 교재보다 좋은 USB 강좌 교육  2023년 09월\n",
      "CHAT GPT 도입으로 업무 혁신을 이끄는 방법 2023년 08월\n",
      "AI시대, 취업전략 chat GPT 자기소개서 1시간에 끝내기 2023년 08월\n",
      "Chat GPT, Notion AI와 함께 하루 만에 책 쓰기 2023년 03월\n",
      "비디오 마스터 + CHAT GPT 2023년 05월\n",
      "Chat GPT User Guide 2023년 07월\n",
      "How to Make Money with Chat GPT: A Step-by-Step Guide to Financial Success 2024년 03월\n",
      "Chat GPT Success: Earning Money with Tasks and Offers in Business 2024년 02월\n",
      "chat GPT로 동화책 써서 아마존에 판매하기 2023년 12월\n",
      "chat gpt와 함께 만드는 지식의 백과사전 2023년 12월\n",
      "Chat Gpt: A Beginner's Guide to Chatgpt-assisted Programmin Chat Gpt and Prompt Engineering Mastery for Professionals 2023년 12월\n",
      "CHAT GPT 와 함께 쓴 코칭가이드북 2023년 10월\n",
      "Finding Your Next Job with Chat GPT: A Guide for Everyone 2023년 10월\n",
      "Finding Your Next Job with Chat GPT: A Guide for Everyone 2023년 10월\n",
      "Chat GPT, l'avenir de l'IA et une nouvelle economie pour le monde 2023년 09월\n",
      "Chat GPT, o futuro da IA e uma nova economia para o mundo 2023년 09월\n",
      "Chat GPT, futuro dell'AI e nuova economia per il mondo 2023년 09월\n",
      "Chat GPT, будущее ИИ и новая экон&#1 2023년 09월\n",
      "CHAT GPT 도입으로 업무 혁신을 이끄는 방법 2023년 08월\n",
      "챗GPT 사용설명서 2023년 03월\n",
      "Chat GPT로 만화/웹툰 제작하기  2023년 04월\n",
      "비디오 마스터 + CHAT GPT 2023년 05월\n",
      "CHAT GPT와 근현대사 시인 7인의 만남 2023년 04월\n",
      "챗GPT : 마침내 찾아온 특이점 2023년 02월\n",
      "챗GPT 새로운 기회 2023년 03월\n"
     ]
    }
   ],
   "source": [
    "items = soup.select('.item_info')\n",
    "for item in items:\n",
    "    제목 = item.select_one('.gd_name')\n",
    "    연월 = item.select_one('span.authPub.info_date')\n",
    "    print(제목.text,연월.text)"
   ]
  },
  {
   "cell_type": "code",
   "execution_count": null,
   "id": "4b39aac7-1f91-4e84-b9a5-8053726256c0",
   "metadata": {},
   "outputs": [],
   "source": []
  }
 ],
 "metadata": {
  "kernelspec": {
   "display_name": "Python 3 (ipykernel)",
   "language": "python",
   "name": "python3"
  },
  "language_info": {
   "codemirror_mode": {
    "name": "ipython",
    "version": 3
   },
   "file_extension": ".py",
   "mimetype": "text/x-python",
   "name": "python",
   "nbconvert_exporter": "python",
   "pygments_lexer": "ipython3",
   "version": "3.11.7"
  }
 },
 "nbformat": 4,
 "nbformat_minor": 5
}
