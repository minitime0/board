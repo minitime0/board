{
 "cells": [
  {
   "cell_type": "markdown",
   "id": "16d8e7fe-12d0-4448-9ade-9b9856df58e1",
   "metadata": {},
   "source": [
    "# "
   ]
  },
  {
   "cell_type": "markdown",
   "id": "c7490a1b-f86e-48a2-a89a-48fecf4e2d04",
   "metadata": {},
   "source": [
    "#"
   ]
  },
  {
   "cell_type": "code",
   "execution_count": 1,
   "id": "57513a3a-8253-4596-af48-646a85bb0f09",
   "metadata": {},
   "outputs": [
    {
     "data": {
      "text/plain": [
       "'C:\\\\Users\\\\user\\\\anaconda3\\\\python.exe'"
      ]
     },
     "execution_count": 1,
     "metadata": {},
     "output_type": "execute_result"
    }
   ],
   "source": [
    "import sys\n",
    "sys.executable #젖ㅇ 위치 확인하"
   ]
  },
  {
   "cell_type": "code",
   "execution_count": 1,
   "id": "4c286858-5528-4f74-b99e-7d10b245d909",
   "metadata": {},
   "outputs": [
    {
     "data": {
      "text/plain": [
       "['C:\\\\crawling',\n",
       " 'C:\\\\Users\\\\user\\\\anaconda3\\\\python311.zip',\n",
       " 'C:\\\\Users\\\\user\\\\anaconda3\\\\DLLs',\n",
       " 'C:\\\\Users\\\\user\\\\anaconda3\\\\Lib',\n",
       " 'C:\\\\Users\\\\user\\\\anaconda3',\n",
       " '',\n",
       " 'C:\\\\Users\\\\user\\\\AppData\\\\Roaming\\\\Python\\\\Python311\\\\site-packages',\n",
       " 'C:\\\\Users\\\\user\\\\AppData\\\\Roaming\\\\Python\\\\Python311\\\\site-packages\\\\win32',\n",
       " 'C:\\\\Users\\\\user\\\\AppData\\\\Roaming\\\\Python\\\\Python311\\\\site-packages\\\\win32\\\\lib',\n",
       " 'C:\\\\Users\\\\user\\\\AppData\\\\Roaming\\\\Python\\\\Python311\\\\site-packages\\\\Pythonwin',\n",
       " 'C:\\\\Users\\\\user\\\\anaconda3\\\\Lib\\\\site-packages',\n",
       " 'C:\\\\Users\\\\user\\\\anaconda3\\\\Lib\\\\site-packages\\\\win32',\n",
       " 'C:\\\\Users\\\\user\\\\anaconda3\\\\Lib\\\\site-packages\\\\win32\\\\lib',\n",
       " 'C:\\\\Users\\\\user\\\\anaconda3\\\\Lib\\\\site-packages\\\\Pythonwin']"
      ]
     },
     "execution_count": 1,
     "metadata": {},
     "output_type": "execute_result"
    }
   ],
   "source": [
    "import sys\n",
    "sys.path"
   ]
  },
  {
   "cell_type": "code",
   "execution_count": 3,
   "id": "eaa44a8d-e17d-4a8c-8a97-bb3d9d3ca0c6",
   "metadata": {},
   "outputs": [],
   "source": [
    "from urllib.request import urlopen \n"
   ]
  },
  {
   "cell_type": "code",
   "execution_count": 4,
   "id": "9287080a-039e-4684-a0b3-1082080b9ba2",
   "metadata": {},
   "outputs": [
    {
     "data": {
      "text/plain": [
       "True"
      ]
     },
     "execution_count": 4,
     "metadata": {},
     "output_type": "execute_result"
    }
   ],
   "source": [
    "callable(urlopen)"
   ]
  },
  {
   "cell_type": "code",
   "execution_count": 5,
   "id": "a3a54a92-d302-4a16-b351-4c74a5db3903",
   "metadata": {},
   "outputs": [
    {
     "data": {
      "text/plain": [
       "False"
      ]
     },
     "execution_count": 5,
     "metadata": {},
     "output_type": "execute_result"
    }
   ],
   "source": [
    "callable(len({1,2,3,4}))"
   ]
  },
  {
   "cell_type": "code",
   "execution_count": 6,
   "id": "ca22557c-262b-4249-8f0b-fbfbb9b26c09",
   "metadata": {},
   "outputs": [
    {
     "data": {
      "text/plain": [
       "True"
      ]
     },
     "execution_count": 6,
     "metadata": {},
     "output_type": "execute_result"
    }
   ],
   "source": [
    "callable(len)"
   ]
  },
  {
   "cell_type": "code",
   "execution_count": 7,
   "id": "8f3f147b-b71f-4495-ab92-1b80c33baebe",
   "metadata": {},
   "outputs": [
    {
     "data": {
      "text/plain": [
       "False"
      ]
     },
     "execution_count": 7,
     "metadata": {},
     "output_type": "execute_result"
    }
   ],
   "source": [
    "callable(5+3)"
   ]
  },
  {
   "cell_type": "code",
   "execution_count": 8,
   "id": "dbc3deae-5ac7-4be4-a084-1aadc6e6ff6e",
   "metadata": {
    "scrolled": true
   },
   "outputs": [
    {
     "data": {
      "text/plain": [
       "http.client.HTTPResponse"
      ]
     },
     "execution_count": 8,
     "metadata": {},
     "output_type": "execute_result"
    }
   ],
   "source": [
    "type(urlopen(\"http://naver.com\"))"
   ]
  },
  {
   "cell_type": "markdown",
   "id": "b10e4592-e50b-4f7d-b38c-e38cba8e656f",
   "metadata": {},
   "source": []
  },
  {
   "cell_type": "code",
   "execution_count": 1,
   "id": "3dd7e783-ccc5-4a3f-a00a-4478c4ee5ec1",
   "metadata": {},
   "outputs": [],
   "source": [
    "url = 'http://www.pythonscraping.com/pages/page1.html'"
   ]
  },
  {
   "cell_type": "code",
   "execution_count": 2,
   "id": "7706bf3a-6f03-4c6a-b28c-3184d1670fe7",
   "metadata": {},
   "outputs": [
    {
     "name": "stdout",
     "output_type": "stream",
     "text": [
      "http://www.pythonscraping.com/pages/page1.html\n"
     ]
    }
   ],
   "source": [
    "print(url)"
   ]
  },
  {
   "cell_type": "code",
   "execution_count": 3,
   "id": "cde9c7a4-4021-42ca-baeb-2b8c72eb6c26",
   "metadata": {},
   "outputs": [],
   "source": [
    "from urllib.request import urlopen\n",
    "from bs4 import BeautifulSoup"
   ]
  },
  {
   "cell_type": "code",
   "execution_count": 4,
   "id": "e3566da0-c4a3-4389-a0f1-32be5d9b57e6",
   "metadata": {
    "scrolled": true
   },
   "outputs": [
    {
     "data": {
      "text/plain": [
       "<body>\n",
       "<h1>An Interesting Title</h1>\n",
       "<div>\n",
       "Lorem ipsum dolor sit amet, consectetur adipisicing elit, sed do eiusmod tempor incididunt ut labore et dolore magna aliqua. Ut enim ad minim veniam, quis nostrud exercitation ullamco laboris nisi ut aliquip ex ea commodo consequat. Duis aute irure dolor in reprehenderit in voluptate velit esse cillum dolore eu fugiat nulla pariatur. Excepteur sint occaecat cupidatat non proident, sunt in culpa qui officia deserunt mollit anim id est laborum.\n",
       "</div>\n",
       "</body>"
      ]
     },
     "execution_count": 4,
     "metadata": {},
     "output_type": "execute_result"
    }
   ],
   "source": [
    "html = urlopen(url)\n",
    "source = html.read()\n",
    "bs = BeautifulSoup(source,'html.parser')\n",
    "bs.find('body')"
   ]
  },
  {
   "cell_type": "code",
   "execution_count": 5,
   "id": "175c6b70-f690-4106-959a-1205b4fcb815",
   "metadata": {},
   "outputs": [
    {
     "data": {
      "text/plain": [
       "bs4.BeautifulSoup"
      ]
     },
     "execution_count": 5,
     "metadata": {},
     "output_type": "execute_result"
    }
   ],
   "source": [
    "type(bs)"
   ]
  },
  {
   "cell_type": "code",
   "execution_count": 19,
   "id": "b103bae9-4123-4df6-bdbb-0dd02c8d37dc",
   "metadata": {},
   "outputs": [],
   "source": [
    "from urllib.request import urlopen\n",
    "from bs4 import BeautifulSoup\n"
   ]
  },
  {
   "cell_type": "code",
   "execution_count": 20,
   "id": "02e45f17-0c47-4f7e-a4fe-6843dcbaa419",
   "metadata": {},
   "outputs": [],
   "source": [
    "url = 'https://en.wikipedia.org/wiki/Iron_Gwazi'\n",
    "source = html.read()"
   ]
  },
  {
   "cell_type": "code",
   "execution_count": 21,
   "id": "1817a893-afb2-4201-bee7-a9b55649ca34",
   "metadata": {},
   "outputs": [],
   "source": [
    "bs = BeautifulSoup(source,'html.parser')"
   ]
  },
  {
   "cell_type": "code",
   "execution_count": 22,
   "id": "57105735-94e2-4533-97bc-26f1421e7862",
   "metadata": {},
   "outputs": [
    {
     "data": {
      "text/plain": [
       "[]"
      ]
     },
     "execution_count": 22,
     "metadata": {},
     "output_type": "execute_result"
    }
   ],
   "source": [
    "# bs.find_all(attrs={'class': ['mw-ui-icon-wikimedia-listBullet', 'vector-icon']})\n",
    "bs.find_all(attrs={'class':'mw-ui-icon-wikimedia-listBullet'})\n"
   ]
  },
  {
   "cell_type": "code",
   "execution_count": 23,
   "id": "e28a972d-2aef-4c82-982b-c793a15c6ef1",
   "metadata": {},
   "outputs": [
    {
     "data": {
      "text/plain": [
       "[]"
      ]
     },
     "execution_count": 23,
     "metadata": {},
     "output_type": "execute_result"
    }
   ],
   "source": [
    "bs.find_all(_class='mw-ui-icon-wikimedia-listBullet')"
   ]
  },
  {
   "cell_type": "code",
   "execution_count": 26,
   "id": "365db798-55b9-4049-8831-baa85a0bbb7c",
   "metadata": {},
   "outputs": [],
   "source": [
    "from urllib.request import urlopen\n",
    "from urllib.error import HTTPError\n",
    "from urllib.error import URLError"
   ]
  },
  {
   "cell_type": "code",
   "execution_count": 28,
   "id": "94c30d0d-7016-4de3-ad47-818b332935c6",
   "metadata": {},
   "outputs": [
    {
     "name": "stdout",
     "output_type": "stream",
     "text": [
      "URL이 존재하지 않습니다 <urlopen error [Errno 11001] getaddrinfo failed>\n"
     ]
    }
   ],
   "source": [
    "try:\n",
    "    html = urlopen(\"https://pythonscrapingthisurldoesnotexist.com\")\n",
    "except URLError as e:\n",
    "    print(\"URL이 존재하지 않습니다\", e)\n",
    "except HTTPError as e:\n",
    "    print(\"통신이 이상합니다\", e)\n",
    "else:\n",
    "    print(html.read())\n",
    "    \n",
    "    "
   ]
  },
  {
   "cell_type": "code",
   "execution_count": 60,
   "id": "1892ec98-429e-4468-ad64-3fc2cb7f79ac",
   "metadata": {},
   "outputs": [],
   "source": [
    "url = 'http://www.pythonscraping.com/pages/warandpeace.html'"
   ]
  },
  {
   "cell_type": "code",
   "execution_count": 61,
   "id": "41607a87-bc90-43fd-9850-f1d99d97c3fa",
   "metadata": {},
   "outputs": [],
   "source": [
    "from urllib.request import urlopen\n",
    "from urllib.error import URLError\n",
    "from urllib.error import HTTPError"
   ]
  },
  {
   "cell_type": "code",
   "execution_count": 57,
   "id": "570c2df1-84ef-40d0-87a4-305a04702d7d",
   "metadata": {},
   "outputs": [],
   "source": [
    "def get_title(url):\n",
    "    try:\n",
    "        html = urlopen(url)\n",
    "    except URLError as e:\n",
    "        print(e)\n",
    "        return\n",
    "    except HTTPError as e:\n",
    "        print(e)\n",
    "        return\n",
    "    else:\n",
    "        source = html.read()\n",
    "        bs = BeautifulSoup(source,'html.parser')\n",
    "        try:\n",
    "            title = bs.find('title').text\n",
    "        except:\n",
    "            print('title이 존재하지 않습니다')"
   ]
  },
  {
   "cell_type": "code",
   "execution_count": 58,
   "id": "d8df0082-a449-4c2f-81c0-0000c35df292",
   "metadata": {},
   "outputs": [],
   "source": [
    "bs.find('title')"
   ]
  },
  {
   "cell_type": "raw",
   "id": "1fde45e8-d4c0-414b-9e8d-6db89ccbd728",
   "metadata": {},
   "source": [
    "for i in bs.findAll('span'):\n",
    "    print(i)\n",
    "    print('/n/n') "
   ]
  },
  {
   "cell_type": "code",
   "execution_count": 54,
   "id": "198ad6e6-d353-46fa-be3d-88c101ac9f6e",
   "metadata": {},
   "outputs": [
    {
     "name": "stdout",
     "output_type": "stream",
     "text": [
      "title이 존재하지 않습니다\n"
     ]
    }
   ],
   "source": [
    "get_title(url)"
   ]
  },
  {
   "cell_type": "code",
   "execution_count": 40,
   "id": "11c41be2-e09b-4ea3-8d81-7e54edb7264d",
   "metadata": {},
   "outputs": [
    {
     "data": {
      "text/plain": [
       "'NAVER'"
      ]
     },
     "execution_count": 40,
     "metadata": {},
     "output_type": "execute_result"
    }
   ],
   "source": [
    "get_title(\"https://naver.com\")"
   ]
  },
  {
   "cell_type": "code",
   "execution_count": 36,
   "id": "7268cb5f-ced9-496d-b5d8-49723003616d",
   "metadata": {},
   "outputs": [
    {
     "name": "stdout",
     "output_type": "stream",
     "text": [
      "<urlopen error unknown url type: xxx>\n"
     ]
    }
   ],
   "source": [
    "get_title(\"xxx://naver\")"
   ]
  },
  {
   "cell_type": "code",
   "execution_count": 75,
   "id": "192a32be-fb4a-4608-b550-84a7e20c2a94",
   "metadata": {},
   "outputs": [],
   "source": [
    "html =urlopen(url)\n",
    "source = html.read()\n",
    "bs= BeautifulSoup()"
   ]
  },
  {
   "cell_type": "code",
   "execution_count": 79,
   "id": "88123227-2f66-4c21-955d-94e86bc5d00f",
   "metadata": {},
   "outputs": [],
   "source": [
    "from urllib.request import urlopen\n",
    "from bs4 import BeautifulSoup\n",
    "html = urlopen('http://www.pythonscraping.com/pages/warandpeace.html')\n",
    "bs = BeautifulSoup(html, \"html.parser\")"
   ]
  },
  {
   "cell_type": "code",
   "execution_count": 80,
   "id": "15b86dcc-e7b7-4ed6-afcf-4225473b22df",
   "metadata": {
    "scrolled": true
   },
   "outputs": [
    {
     "name": "stdout",
     "output_type": "stream",
     "text": [
      "Well, Prince, so Genoa and Lucca are now just family estates of the\n",
      "Buonapartes. But I warn you, if you don't tell me that this means war,\n",
      "if you still try to defend the infamies and horrors perpetrated by\n",
      "that Antichrist- I really believe he is Antichrist- I will have\n",
      "nothing more to do with you and you are no longer my friend, no longer\n",
      "my 'faithful slave,' as you call yourself! But how do you do? I see\n",
      "I have frightened you- sit down and tell me all the news.\n",
      "Anna\n",
      "Pavlovna Scherer\n",
      "Empress Marya\n",
      "Fedorovna\n",
      "Prince Vasili Kuragin\n",
      "Anna Pavlovna\n",
      "St. Petersburg\n",
      "If you have nothing better to do, Count [or Prince], and if the\n",
      "prospect of spending an evening with a poor invalid is not too\n",
      "terrible, I shall be very charmed to see you tonight between 7 and 10-\n",
      "Annette Scherer.\n",
      "Heavens! what a virulent attack!\n",
      "the prince\n",
      "Anna Pavlovna\n",
      "First of all, dear friend, tell me how you are. Set your friend's\n",
      "mind at rest,\n",
      "Can one be well while suffering morally? Can one be calm in times\n",
      "like these if one has any feeling?\n",
      "Anna Pavlovna\n",
      "You are\n",
      "staying the whole evening, I hope?\n",
      "And the fete at the English ambassador's? Today is Wednesday. I\n",
      "must put in an appearance there,\n",
      "the prince\n",
      "My daughter is\n",
      "coming for me to take me there.\n",
      "I thought today's fete had been canceled. I confess all these\n",
      "festivities and fireworks are becoming wearisome.\n",
      "If they had known that you wished it, the entertainment would\n",
      "have been put off,\n",
      "the prince\n",
      "Don't tease! Well, and what has been decided about Novosiltsev's\n",
      "dispatch? You know everything.\n",
      "What can one say about it?\n",
      "the prince\n",
      "What has been decided? They have decided that\n",
      "Buonaparte has burnt his boats, and I believe that we are ready to\n",
      "burn ours.\n",
      "Prince Vasili\n",
      "Anna Pavlovna\n",
      "Anna Pavlovna\n",
      "Oh, don't speak to me of Austria. Perhaps I don't understand\n",
      "things, but Austria never has wished, and does not wish, for war.\n",
      "She is betraying us! Russia alone must save Europe. Our gracious\n",
      "sovereign recognizes his high vocation and will be true to it. That is\n",
      "the one thing I have faith in! Our good and wonderful sovereign has to\n",
      "perform the noblest role on earth, and he is so virtuous and noble\n",
      "that God will not forsake him. He will fulfill his vocation and\n",
      "crush the hydra of revolution, which has become more terrible than\n",
      "ever in the person of this murderer and villain! We alone must\n",
      "avenge the blood of the just one.... Whom, I ask you, can we rely\n",
      "on?... England with her commercial spirit will not and cannot\n",
      "understand the Emperor Alexander's loftiness of soul. She has\n",
      "refused to evacuate Malta. She wanted to find, and still seeks, some\n",
      "secret motive in our actions. What answer did Novosiltsev get? None.\n",
      "The English have not understood and cannot understand the\n",
      "self-abnegation of our Emperor who wants nothing for himself, but only\n",
      "desires the good of mankind. And what have they promised? Nothing! And\n",
      "what little they have promised they will not perform! Prussia has\n",
      "always declared that Buonaparte is invincible, and that all Europe\n",
      "is powerless before him.... And I don't believe a word that Hardenburg\n",
      "says, or Haugwitz either. This famous Prussian neutrality is just a\n",
      "trap. I have faith only in God and the lofty destiny of our adored\n",
      "monarch. He will save Europe!\n",
      "I think,\n",
      "the prince\n",
      "that if you had been\n",
      "sent instead of our dear Wintzingerode you would have captured the\n",
      "King of Prussia's consent by assault. You are so eloquent. Will you\n",
      "give me a cup of tea?\n",
      "Wintzingerode\n",
      "King of Prussia\n",
      "In a moment. A propos,\n",
      "I am\n",
      "expecting two very interesting men tonight, le Vicomte de Mortemart,\n",
      "who is connected with the Montmorencys through the Rohans, one of\n",
      "the best French families. He is one of the genuine emigres, the good\n",
      "ones. And also the Abbe Morio. Do you know that profound thinker? He\n",
      "has been received by the Emperor. Had you heard?\n",
      "le Vicomte de Mortemart\n",
      "Montmorencys\n",
      "Rohans\n",
      "Abbe Morio\n",
      "the Emperor\n",
      "I shall be delighted to meet them,\n",
      "the prince\n",
      "But tell me,\n",
      "is it true that the Dowager Empress wants Baron Funke\n",
      "to be appointed first secretary at Vienna? The baron by all accounts\n",
      "is a poor creature.\n",
      "Prince Vasili\n",
      "Dowager Empress Marya Fedorovna\n",
      "the baron\n",
      "Anna Pavlovna\n",
      "the Empress\n",
      "Baron Funke has been recommended to the Dowager Empress by her\n",
      "sister,\n",
      "the Empress\n",
      "Anna Pavlovna's\n",
      "Her Majesty\n",
      "Baron\n",
      "Funke\n",
      "The prince\n",
      "Anna\n",
      "Pavlovna\n",
      "the Empress\n",
      "Now about your family. Do you know that since your daughter came\n",
      "out everyone has been enraptured by her? They say she is amazingly\n",
      "beautiful.\n",
      "The prince\n",
      "I often think,\n",
      "I often think how unfairly sometimes the\n",
      "joys of life are distributed. Why has fate given you two such splendid\n",
      "children? I don't speak of Anatole, your youngest. I don't like\n",
      "him,\n",
      "Anatole\n",
      "Two such charming children. And really you appreciate\n",
      "them less than anyone, and so you don't deserve to have them.\n",
      "I can't help it,\n",
      "the prince\n",
      "Lavater would have said I\n",
      "lack the bump of paternity.\n",
      "Don't joke; I mean to have a serious talk with you. Do you know I\n",
      "am dissatisfied with your younger son? Between ourselves\n",
      "he was mentioned at Her\n",
      "Majesty's and you were pitied....\n",
      "The prince\n",
      "What would you have me do?\n",
      "You know I did all\n",
      "a father could for their education, and they have both turned out\n",
      "fools. Hippolyte is at least a quiet fool, but Anatole is an active\n",
      "one. That is the only difference between them.\n",
      "And why are children born to such men as you? If you were not a\n",
      "father there would be nothing I could reproach you with,\n",
      "Anna\n",
      "Pavlovna\n",
      "I am your faithful slave and to you alone I can confess that my\n",
      "children are the bane of my life. It is the cross I have to bear. That\n",
      "is how I explain it to myself. It can't be helped!\n",
      "Anna Pavlovna\n"
     ]
    }
   ],
   "source": [
    "for i in bs.findAll('span', {'class':['green', 'red']}):\n",
    "    print(i.get_text())"
   ]
  },
  {
   "cell_type": "code",
   "execution_count": 81,
   "id": "070291ef-bdc2-48a7-b6ea-f7488afa4d8d",
   "metadata": {},
   "outputs": [
    {
     "data": {
      "text/plain": [
       "[<h1>War and Peace</h1>, <h2>Chapter 1</h2>]"
      ]
     },
     "execution_count": 81,
     "metadata": {},
     "output_type": "execute_result"
    }
   ],
   "source": [
    "bs.find_all(['h'+ str(i) for i in range(1,7)]) # 리스트컴프리렌션 많이 쓸 수록 좋다 연습하자"
   ]
  },
  {
   "cell_type": "code",
   "execution_count": null,
   "id": "fabce619-9add-48cd-bbca-37ea3a9e6a79",
   "metadata": {},
   "outputs": [],
   "source": [
    "name_list = bs.find_all('span',{'class':green})\n",
    "name_ =[]\n",
    "for name in name_list:\n",
    "    name_.append(name.get_text())"
   ]
  },
  {
   "cell_type": "code",
   "execution_count": 66,
   "id": "55558f2c-80d4-40f8-a431-0a628d001ba8",
   "metadata": {},
   "outputs": [
    {
     "data": {
      "text/plain": [
       "[]"
      ]
     },
     "execution_count": 66,
     "metadata": {},
     "output_type": "execute_result"
    }
   ],
   "source": [
    "html =urlopen(url)\n",
    "source = html.read()\n",
    "bs= BeautifulSoup()\n",
    "bs.find_all(['h' + str(i) for i in range(1,7)])"
   ]
  },
  {
   "cell_type": "code",
   "execution_count": 67,
   "id": "0dea29e4-2f9c-4fde-8908-ae37f0cc6b84",
   "metadata": {},
   "outputs": [
    {
     "name": "stdout",
     "output_type": "stream",
     "text": [
      "../img/gifts/img1.jpg\n",
      "../img/gifts/img2.jpg\n",
      "../img/gifts/img3.jpg\n",
      "../img/gifts/img4.jpg\n",
      "../img/gifts/img6.jpg\n"
     ]
    }
   ],
   "source": [
    "from urllib.request import urlopen\n",
    "from bs4 import BeautifulSoup\n",
    "import re\n",
    "\n",
    "html = urlopen('http://www.pythonscraping.com/pages/page3.html')\n",
    "bs = BeautifulSoup(html, 'html.parser')\n",
    "images = bs.find_all('img', {'src':re.compile('\\.\\.\\/img\\/gifts/img.*\\.jpg')})\n",
    "for image in images: \n",
    "    print(image['src'])"
   ]
  },
  {
   "cell_type": "code",
   "execution_count": 82,
   "id": "a1439280-cccd-4767-a631-446b48452306",
   "metadata": {},
   "outputs": [
    {
     "data": {
      "text/plain": [
       "[<h1>War and Peace</h1>, <h2>Chapter 1</h2>]"
      ]
     },
     "execution_count": 82,
     "metadata": {},
     "output_type": "execute_result"
    }
   ],
   "source": [
    "bs.find_all(['h'+ str(i) for i in range(1,7)]) # 리스트컴프리렌션 많이 쓸 수록 좋다 연습하자"
   ]
  },
  {
   "cell_type": "code",
   "execution_count": 85,
   "id": "453cffe0-9ffe-4652-ae98-e17bc7e4a4bb",
   "metadata": {},
   "outputs": [
    {
     "ename": "AttributeError",
     "evalue": "module 'warnings' has no attribute 'filterwarning'",
     "output_type": "error",
     "traceback": [
      "\u001b[1;31m---------------------------------------------------------------------------\u001b[0m",
      "\u001b[1;31mAttributeError\u001b[0m                            Traceback (most recent call last)",
      "Cell \u001b[1;32mIn[85], line 2\u001b[0m\n\u001b[0;32m      1\u001b[0m \u001b[38;5;28;01mimport\u001b[39;00m \u001b[38;5;21;01mwarnings\u001b[39;00m\n\u001b[1;32m----> 2\u001b[0m \u001b[43mwarnings\u001b[49m\u001b[38;5;241;43m.\u001b[39;49m\u001b[43mfilterwarning\u001b[49m(\u001b[38;5;124m'\u001b[39m\u001b[38;5;124mingnore\u001b[39m\u001b[38;5;124m'\u001b[39m)\n\u001b[0;32m      3\u001b[0m name_list \u001b[38;5;241m=\u001b[39m bs\u001b[38;5;241m.\u001b[39mfind_all(text\u001b[38;5;241m=\u001b[39m\u001b[38;5;124m'\u001b[39m\u001b[38;5;124mthe prince\u001b[39m\u001b[38;5;124m'\u001b[39m)\n",
      "\u001b[1;31mAttributeError\u001b[0m: module 'warnings' has no attribute 'filterwarning'"
     ]
    }
   ],
   "source": [
    "import warnings\n",
    "warnings.filterwarning('ingnore')\n",
    "name_list = bs.find_all(text='the prince')"
   ]
  },
  {
   "cell_type": "code",
   "execution_count": 87,
   "id": "b150367a-7528-410c-9cd7-ef1f27bf1fa7",
   "metadata": {},
   "outputs": [],
   "source": [
    "def xxx(a,b):\n",
    "    return a-b\n"
   ]
  },
  {
   "cell_type": "code",
   "execution_count": 88,
   "id": "01c43659-d5ca-4f44-9bd9-78f1e05307a8",
   "metadata": {},
   "outputs": [
    {
     "data": {
      "text/plain": [
       "-1"
      ]
     },
     "execution_count": 88,
     "metadata": {},
     "output_type": "execute_result"
    }
   ],
   "source": [
    "xxx(a=10,b=11)"
   ]
  },
  {
   "cell_type": "code",
   "execution_count": 89,
   "id": "41af197d-bbc4-4e07-aa13-bba6f4c017b7",
   "metadata": {},
   "outputs": [
    {
     "data": {
      "text/plain": [
       "-1"
      ]
     },
     "execution_count": 89,
     "metadata": {},
     "output_type": "execute_result"
    }
   ],
   "source": [
    "x = {'a':10,'b':11}\n",
    "xxx(**x)"
   ]
  },
  {
   "cell_type": "code",
   "execution_count": 90,
   "id": "6789d73f-04e5-4e0e-a55c-dade27febde2",
   "metadata": {},
   "outputs": [
    {
     "data": {
      "text/plain": [
       "[]"
      ]
     },
     "execution_count": 90,
     "metadata": {},
     "output_type": "execute_result"
    }
   ],
   "source": [
    "bs.find_all(class_='text', id='title' )"
   ]
  },
  {
   "cell_type": "code",
   "execution_count": 91,
   "id": "ea0f9b86-6f22-4e77-87a7-bd0af0a92f50",
   "metadata": {},
   "outputs": [
    {
     "ename": "NameError",
     "evalue": "name 'allText' is not defined",
     "output_type": "error",
     "traceback": [
      "\u001b[1;31m---------------------------------------------------------------------------\u001b[0m",
      "\u001b[1;31mNameError\u001b[0m                                 Traceback (most recent call last)",
      "Cell \u001b[1;32mIn[91], line 2\u001b[0m\n\u001b[0;32m      1\u001b[0m title \u001b[38;5;241m=\u001b[39m bs\u001b[38;5;241m.\u001b[39mfind_all(\u001b[38;5;28mid\u001b[39m\u001b[38;5;241m=\u001b[39m\u001b[38;5;124m'\u001b[39m\u001b[38;5;124mtitle\u001b[39m\u001b[38;5;124m'\u001b[39m, class_\u001b[38;5;241m=\u001b[39m\u001b[38;5;124m'\u001b[39m\u001b[38;5;124mtext\u001b[39m\u001b[38;5;124m'\u001b[39m)\n\u001b[1;32m----> 2\u001b[0m \u001b[38;5;28mprint\u001b[39m([text \u001b[38;5;28;01mfor\u001b[39;00m text \u001b[38;5;129;01min\u001b[39;00m \u001b[43mallText\u001b[49m])\n",
      "\u001b[1;31mNameError\u001b[0m: name 'allText' is not defined"
     ]
    }
   ],
   "source": [
    "title = bs.find_all(id='title', class_='text')\n",
    "print([text for text in allText])"
   ]
  },
  {
   "cell_type": "code",
   "execution_count": 93,
   "id": "39fbc2f9-5839-4bf6-bcb1-32ebb4fe4e2a",
   "metadata": {},
   "outputs": [],
   "source": [
    "allText = bs.find_all('span', {'class':{'green', 'red'}})"
   ]
  },
  {
   "cell_type": "code",
   "execution_count": 95,
   "id": "70152506-7bfb-49dc-9beb-70ff723a59f7",
   "metadata": {
    "scrolled": true
   },
   "outputs": [
    {
     "data": {
      "text/plain": [
       "[<span class=\"red\">Well, Prince, so Genoa and Lucca are now just family estates of the\n",
       " Buonapartes. But I warn you, if you don't tell me that this means war,\n",
       " if you still try to defend the infamies and horrors perpetrated by\n",
       " that Antichrist- I really believe he is Antichrist- I will have\n",
       " nothing more to do with you and you are no longer my friend, no longer\n",
       " my 'faithful slave,' as you call yourself! But how do you do? I see\n",
       " I have frightened you- sit down and tell me all the news.</span>,\n",
       " <span class=\"green\">Anna\n",
       " Pavlovna Scherer</span>,\n",
       " <span class=\"green\">Empress Marya\n",
       " Fedorovna</span>,\n",
       " <span class=\"green\">Prince Vasili Kuragin</span>,\n",
       " <span class=\"green\">Anna Pavlovna</span>,\n",
       " <span class=\"green\">St. Petersburg</span>,\n",
       " <span class=\"red\">If you have nothing better to do, Count [or Prince], and if the\n",
       " prospect of spending an evening with a poor invalid is not too\n",
       " terrible, I shall be very charmed to see you tonight between 7 and 10-\n",
       " Annette Scherer.</span>,\n",
       " <span class=\"red\">Heavens! what a virulent attack!</span>,\n",
       " <span class=\"green\">the prince</span>,\n",
       " <span class=\"green\">Anna Pavlovna</span>,\n",
       " <span class=\"red\">First of all, dear friend, tell me how you are. Set your friend's\n",
       " mind at rest,</span>,\n",
       " <span class=\"red\">Can one be well while suffering morally? Can one be calm in times\n",
       " like these if one has any feeling?</span>,\n",
       " <span class=\"green\">Anna Pavlovna</span>,\n",
       " <span class=\"red\">You are\n",
       " staying the whole evening, I hope?</span>,\n",
       " <span class=\"red\">And the fete at the English ambassador's? Today is Wednesday. I\n",
       " must put in an appearance there,</span>,\n",
       " <span class=\"green\">the prince</span>,\n",
       " <span class=\"red\">My daughter is\n",
       " coming for me to take me there.</span>,\n",
       " <span class=\"red\">I thought today's fete had been canceled. I confess all these\n",
       " festivities and fireworks are becoming wearisome.</span>,\n",
       " <span class=\"red\">If they had known that you wished it, the entertainment would\n",
       " have been put off,</span>,\n",
       " <span class=\"green\">the prince</span>,\n",
       " <span class=\"red\">Don't tease! Well, and what has been decided about Novosiltsev's\n",
       " dispatch? You know everything.</span>,\n",
       " <span class=\"red\">What can one say about it?</span>,\n",
       " <span class=\"green\">the prince</span>,\n",
       " <span class=\"red\">What has been decided? They have decided that\n",
       " Buonaparte has burnt his boats, and I believe that we are ready to\n",
       " burn ours.</span>,\n",
       " <span class=\"green\">Prince Vasili</span>,\n",
       " <span class=\"green\">Anna Pavlovna</span>,\n",
       " <span class=\"green\">Anna Pavlovna</span>,\n",
       " <span class=\"red\">Oh, don't speak to me of Austria. Perhaps I don't understand\n",
       " things, but Austria never has wished, and does not wish, for war.\n",
       " She is betraying us! Russia alone must save Europe. Our gracious\n",
       " sovereign recognizes his high vocation and will be true to it. That is\n",
       " the one thing I have faith in! Our good and wonderful sovereign has to\n",
       " perform the noblest role on earth, and he is so virtuous and noble\n",
       " that God will not forsake him. He will fulfill his vocation and\n",
       " crush the hydra of revolution, which has become more terrible than\n",
       " ever in the person of this murderer and villain! We alone must\n",
       " avenge the blood of the just one.... Whom, I ask you, can we rely\n",
       " on?... England with her commercial spirit will not and cannot\n",
       " understand the Emperor Alexander's loftiness of soul. She has\n",
       " refused to evacuate Malta. She wanted to find, and still seeks, some\n",
       " secret motive in our actions. What answer did Novosiltsev get? None.\n",
       " The English have not understood and cannot understand the\n",
       " self-abnegation of our Emperor who wants nothing for himself, but only\n",
       " desires the good of mankind. And what have they promised? Nothing! And\n",
       " what little they have promised they will not perform! Prussia has\n",
       " always declared that Buonaparte is invincible, and that all Europe\n",
       " is powerless before him.... And I don't believe a word that Hardenburg\n",
       " says, or Haugwitz either. This famous Prussian neutrality is just a\n",
       " trap. I have faith only in God and the lofty destiny of our adored\n",
       " monarch. He will save Europe!</span>,\n",
       " <span class=\"red\">I think,</span>,\n",
       " <span class=\"green\">the prince</span>,\n",
       " <span class=\"red\">that if you had been\n",
       " sent instead of our dear <span class=\"green\">Wintzingerode</span> you would have captured the\n",
       " <span class=\"green\">King of Prussia</span>'s consent by assault. You are so eloquent. Will you\n",
       " give me a cup of tea?</span>,\n",
       " <span class=\"green\">Wintzingerode</span>,\n",
       " <span class=\"green\">King of Prussia</span>,\n",
       " <span class=\"red\">In a moment. A propos,</span>,\n",
       " <span class=\"red\">I am\n",
       " expecting two very interesting men tonight, <span class=\"green\">le Vicomte de Mortemart</span>,\n",
       " who is connected with the <span class=\"green\">Montmorencys</span> through the <span class=\"green\">Rohans</span>, one of\n",
       " the best French families. He is one of the genuine emigres, the good\n",
       " ones. And also the <span class=\"green\">Abbe Morio</span>. Do you know that profound thinker? He\n",
       " has been received by <span class=\"green\">the Emperor</span>. Had you heard?</span>,\n",
       " <span class=\"green\">le Vicomte de Mortemart</span>,\n",
       " <span class=\"green\">Montmorencys</span>,\n",
       " <span class=\"green\">Rohans</span>,\n",
       " <span class=\"green\">Abbe Morio</span>,\n",
       " <span class=\"green\">the Emperor</span>,\n",
       " <span class=\"red\">I shall be delighted to meet them,</span>,\n",
       " <span class=\"green\">the prince</span>,\n",
       " <span class=\"red\">But tell me,</span>,\n",
       " <span class=\"red\">is it true that the Dowager Empress wants Baron Funke\n",
       " to be appointed first secretary at Vienna? The baron by all accounts\n",
       " is a poor creature.</span>,\n",
       " <span class=\"green\">Prince Vasili</span>,\n",
       " <span class=\"green\">Dowager Empress Marya Fedorovna</span>,\n",
       " <span class=\"green\">the baron</span>,\n",
       " <span class=\"green\">Anna Pavlovna</span>,\n",
       " <span class=\"green\">the Empress</span>,\n",
       " <span class=\"red\">Baron Funke has been recommended to the Dowager Empress by her\n",
       " sister,</span>,\n",
       " <span class=\"green\">the Empress</span>,\n",
       " <span class=\"green\">Anna Pavlovna's</span>,\n",
       " <span class=\"green\">Her Majesty</span>,\n",
       " <span class=\"green\">Baron\n",
       " Funke</span>,\n",
       " <span class=\"green\">The prince</span>,\n",
       " <span class=\"green\">Anna\n",
       " Pavlovna</span>,\n",
       " <span class=\"green\">the Empress</span>,\n",
       " <span class=\"red\">Now about your family. Do you know that since your daughter came\n",
       " out everyone has been enraptured by her? They say she is amazingly\n",
       " beautiful.</span>,\n",
       " <span class=\"green\">The prince</span>,\n",
       " <span class=\"red\">I often think,</span>,\n",
       " <span class=\"red\">I often think how unfairly sometimes the\n",
       " joys of life are distributed. Why has fate given you two such splendid\n",
       " children? I don't speak of <span class=\"green\">Anatole</span>, your youngest. I don't like\n",
       " him,</span>,\n",
       " <span class=\"green\">Anatole</span>,\n",
       " <span class=\"red\">Two such charming children. And really you appreciate\n",
       " them less than anyone, and so you don't deserve to have them.</span>,\n",
       " <span class=\"red\">I can't help it,</span>,\n",
       " <span class=\"green\">the prince</span>,\n",
       " <span class=\"red\">Lavater would have said I\n",
       " lack the bump of paternity.</span>,\n",
       " <span class=\"red\">Don't joke; I mean to have a serious talk with you. Do you know I\n",
       " am dissatisfied with your younger son? Between ourselves</span>,\n",
       " <span class=\"red\">he was mentioned at Her\n",
       " Majesty's and you were pitied....</span>,\n",
       " <span class=\"green\">The prince</span>,\n",
       " <span class=\"red\">What would you have me do?</span>,\n",
       " <span class=\"red\">You know I did all\n",
       " a father could for their education, and they have both turned out\n",
       " fools. Hippolyte is at least a quiet fool, but Anatole is an active\n",
       " one. That is the only difference between them.</span>,\n",
       " <span class=\"red\">And why are children born to such men as you? If you were not a\n",
       " father there would be nothing I could reproach you with,</span>,\n",
       " <span class=\"green\">Anna\n",
       " Pavlovna</span>,\n",
       " <span class=\"red\">I am your faithful slave and to you alone I can confess that my\n",
       " children are the bane of my life. It is the cross I have to bear. That\n",
       " is how I explain it to myself. It can't be helped!</span>,\n",
       " <span class=\"green\">Anna Pavlovna</span>]"
      ]
     },
     "execution_count": 95,
     "metadata": {},
     "output_type": "execute_result"
    }
   ],
   "source": [
    "allText"
   ]
  },
  {
   "cell_type": "code",
   "execution_count": 99,
   "id": "b3027545-2525-400d-99cb-c398bf223a7a",
   "metadata": {},
   "outputs": [
    {
     "name": "stdout",
     "output_type": "stream",
     "text": [
      "[<span class=\"red\">Well, Prince, so Genoa and Lucca are now just family estates of the\n",
      "Buonapartes. But I warn you, if you don't tell me that this means war,\n",
      "if you still try to defend the infamies and horrors perpetrated by\n",
      "that Antichrist- I really believe he is Antichrist- I will have\n",
      "nothing more to do with you and you are no longer my friend, no longer\n",
      "my 'faithful slave,' as you call yourself! But how do you do? I see\n",
      "I have frightened you- sit down and tell me all the news.</span>, <span class=\"green\">Anna\n",
      "Pavlovna Scherer</span>, <span class=\"green\">Empress Marya\n",
      "Fedorovna</span>, <span class=\"green\">Prince Vasili Kuragin</span>, <span class=\"green\">Anna Pavlovna</span>, <span class=\"green\">St. Petersburg</span>, <span class=\"red\">If you have nothing better to do, Count [or Prince], and if the\n",
      "prospect of spending an evening with a poor invalid is not too\n",
      "terrible, I shall be very charmed to see you tonight between 7 and 10-\n",
      "Annette Scherer.</span>, <span class=\"red\">Heavens! what a virulent attack!</span>, <span class=\"green\">the prince</span>, <span class=\"green\">Anna Pavlovna</span>, <span class=\"red\">First of all, dear friend, tell me how you are. Set your friend's\n",
      "mind at rest,</span>, <span class=\"red\">Can one be well while suffering morally? Can one be calm in times\n",
      "like these if one has any feeling?</span>, <span class=\"green\">Anna Pavlovna</span>, <span class=\"red\">You are\n",
      "staying the whole evening, I hope?</span>, <span class=\"red\">And the fete at the English ambassador's? Today is Wednesday. I\n",
      "must put in an appearance there,</span>, <span class=\"green\">the prince</span>, <span class=\"red\">My daughter is\n",
      "coming for me to take me there.</span>, <span class=\"red\">I thought today's fete had been canceled. I confess all these\n",
      "festivities and fireworks are becoming wearisome.</span>, <span class=\"red\">If they had known that you wished it, the entertainment would\n",
      "have been put off,</span>, <span class=\"green\">the prince</span>, <span class=\"red\">Don't tease! Well, and what has been decided about Novosiltsev's\n",
      "dispatch? You know everything.</span>, <span class=\"red\">What can one say about it?</span>, <span class=\"green\">the prince</span>, <span class=\"red\">What has been decided? They have decided that\n",
      "Buonaparte has burnt his boats, and I believe that we are ready to\n",
      "burn ours.</span>, <span class=\"green\">Prince Vasili</span>, <span class=\"green\">Anna Pavlovna</span>, <span class=\"green\">Anna Pavlovna</span>, <span class=\"red\">Oh, don't speak to me of Austria. Perhaps I don't understand\n",
      "things, but Austria never has wished, and does not wish, for war.\n",
      "She is betraying us! Russia alone must save Europe. Our gracious\n",
      "sovereign recognizes his high vocation and will be true to it. That is\n",
      "the one thing I have faith in! Our good and wonderful sovereign has to\n",
      "perform the noblest role on earth, and he is so virtuous and noble\n",
      "that God will not forsake him. He will fulfill his vocation and\n",
      "crush the hydra of revolution, which has become more terrible than\n",
      "ever in the person of this murderer and villain! We alone must\n",
      "avenge the blood of the just one.... Whom, I ask you, can we rely\n",
      "on?... England with her commercial spirit will not and cannot\n",
      "understand the Emperor Alexander's loftiness of soul. She has\n",
      "refused to evacuate Malta. She wanted to find, and still seeks, some\n",
      "secret motive in our actions. What answer did Novosiltsev get? None.\n",
      "The English have not understood and cannot understand the\n",
      "self-abnegation of our Emperor who wants nothing for himself, but only\n",
      "desires the good of mankind. And what have they promised? Nothing! And\n",
      "what little they have promised they will not perform! Prussia has\n",
      "always declared that Buonaparte is invincible, and that all Europe\n",
      "is powerless before him.... And I don't believe a word that Hardenburg\n",
      "says, or Haugwitz either. This famous Prussian neutrality is just a\n",
      "trap. I have faith only in God and the lofty destiny of our adored\n",
      "monarch. He will save Europe!</span>, <span class=\"red\">I think,</span>, <span class=\"green\">the prince</span>, <span class=\"red\">that if you had been\n",
      "sent instead of our dear <span class=\"green\">Wintzingerode</span> you would have captured the\n",
      "<span class=\"green\">King of Prussia</span>'s consent by assault. You are so eloquent. Will you\n",
      "give me a cup of tea?</span>, <span class=\"green\">Wintzingerode</span>, <span class=\"green\">King of Prussia</span>, <span class=\"red\">In a moment. A propos,</span>, <span class=\"red\">I am\n",
      "expecting two very interesting men tonight, <span class=\"green\">le Vicomte de Mortemart</span>,\n",
      "who is connected with the <span class=\"green\">Montmorencys</span> through the <span class=\"green\">Rohans</span>, one of\n",
      "the best French families. He is one of the genuine emigres, the good\n",
      "ones. And also the <span class=\"green\">Abbe Morio</span>. Do you know that profound thinker? He\n",
      "has been received by <span class=\"green\">the Emperor</span>. Had you heard?</span>, <span class=\"green\">le Vicomte de Mortemart</span>, <span class=\"green\">Montmorencys</span>, <span class=\"green\">Rohans</span>, <span class=\"green\">Abbe Morio</span>, <span class=\"green\">the Emperor</span>, <span class=\"red\">I shall be delighted to meet them,</span>, <span class=\"green\">the prince</span>, <span class=\"red\">But tell me,</span>, <span class=\"red\">is it true that the Dowager Empress wants Baron Funke\n",
      "to be appointed first secretary at Vienna? The baron by all accounts\n",
      "is a poor creature.</span>, <span class=\"green\">Prince Vasili</span>, <span class=\"green\">Dowager Empress Marya Fedorovna</span>, <span class=\"green\">the baron</span>, <span class=\"green\">Anna Pavlovna</span>, <span class=\"green\">the Empress</span>, <span class=\"red\">Baron Funke has been recommended to the Dowager Empress by her\n",
      "sister,</span>, <span class=\"green\">the Empress</span>, <span class=\"green\">Anna Pavlovna's</span>, <span class=\"green\">Her Majesty</span>, <span class=\"green\">Baron\n",
      "Funke</span>, <span class=\"green\">The prince</span>, <span class=\"green\">Anna\n",
      "Pavlovna</span>, <span class=\"green\">the Empress</span>, <span class=\"red\">Now about your family. Do you know that since your daughter came\n",
      "out everyone has been enraptured by her? They say she is amazingly\n",
      "beautiful.</span>, <span class=\"green\">The prince</span>, <span class=\"red\">I often think,</span>, <span class=\"red\">I often think how unfairly sometimes the\n",
      "joys of life are distributed. Why has fate given you two such splendid\n",
      "children? I don't speak of <span class=\"green\">Anatole</span>, your youngest. I don't like\n",
      "him,</span>, <span class=\"green\">Anatole</span>, <span class=\"red\">Two such charming children. And really you appreciate\n",
      "them less than anyone, and so you don't deserve to have them.</span>, <span class=\"red\">I can't help it,</span>, <span class=\"green\">the prince</span>, <span class=\"red\">Lavater would have said I\n",
      "lack the bump of paternity.</span>, <span class=\"red\">Don't joke; I mean to have a serious talk with you. Do you know I\n",
      "am dissatisfied with your younger son? Between ourselves</span>, <span class=\"red\">he was mentioned at Her\n",
      "Majesty's and you were pitied....</span>, <span class=\"green\">The prince</span>, <span class=\"red\">What would you have me do?</span>, <span class=\"red\">You know I did all\n",
      "a father could for their education, and they have both turned out\n",
      "fools. Hippolyte is at least a quiet fool, but Anatole is an active\n",
      "one. That is the only difference between them.</span>, <span class=\"red\">And why are children born to such men as you? If you were not a\n",
      "father there would be nothing I could reproach you with,</span>, <span class=\"green\">Anna\n",
      "Pavlovna</span>, <span class=\"red\">I am your faithful slave and to you alone I can confess that my\n",
      "children are the bane of my life. It is the cross I have to bear. That\n",
      "is how I explain it to myself. It can't be helped!</span>, <span class=\"green\">Anna Pavlovna</span>]\n"
     ]
    }
   ],
   "source": [
    "\n",
    "print([text for text in allText])"
   ]
  },
  {
   "cell_type": "code",
   "execution_count": null,
   "id": "0cfdfc55-262e-443b-a101-88eef232a96f",
   "metadata": {},
   "outputs": [],
   "source": [
    "\n",
    "from urllib.request import urlopen\n",
    "from bs4 import BeautifulSoup\n",
    "\n",
    "html = urlopen('http://www.pythonscraping.com/pages/page3.html')\n",
    "bs = BeautifulSoup(html, 'html.parser')\n",
    "\n",
    "for child in bs.find('table',{'id':'giftList'}).children:\n",
    "    print(child)"
   ]
  },
  {
   "cell_type": "code",
   "execution_count": 102,
   "id": "d0d041a7-9cb5-4932-9543-5f48aa872476",
   "metadata": {},
   "outputs": [
    {
     "data": {
      "text/plain": [
       "'http://www.pythonscraping.com/pages/page3.html'"
      ]
     },
     "execution_count": 102,
     "metadata": {},
     "output_type": "execute_result"
    }
   ],
   "source": [
    "url = \"http://www.pythonscraping.com/pages/page3.html\"\n",
    "url"
   ]
  },
  {
   "cell_type": "code",
   "execution_count": 202,
   "id": "ccf616ab-eee4-4553-b4af-a45bd062d773",
   "metadata": {},
   "outputs": [
    {
     "name": "stdout",
     "output_type": "stream",
     "text": [
      "../img/gifts/img1.jpg\n",
      "../img/gifts/img2.jpg\n",
      "../img/gifts/img3.jpg\n",
      "../img/gifts/img4.jpg\n",
      "../img/gifts/img6.jpg\n"
     ]
    }
   ],
   "source": [
    "import re\n",
    "url = 'http://www.pythonscraping.com/pages/page3.html'\n",
    "html = urlopen(url)\n",
    "bs = BeautifulSoup(html, 'html.parser')\n",
    "{'src':re.compile('\\.\\.\\/img\\/gifts/img.*\\.jpg')}\n",
    "images = bs.find_all('img', {'src':re.compile('\\.\\.\\/img\\/gifts/img.*\\.jpg')})\n",
    "for image in images:\n",
    "    print(image.attrs.get('src'))"
   ]
  },
  {
   "cell_type": "code",
   "execution_count": 208,
   "id": "157be956-0367-4134-8d41-9b7c7a77f1d5",
   "metadata": {},
   "outputs": [
    {
     "name": "stdout",
     "output_type": "stream",
     "text": [
      "http://www.pythonscraping.com/img/gifts/img1.jpg\n",
      "http://www.pythonscraping.com/img/gifts/img2.jpg\n",
      "http://www.pythonscraping.com/img/gifts/img3.jpg\n",
      "http://www.pythonscraping.com/img/gifts/img4.jpg\n",
      "http://www.pythonscraping.com/img/gifts/img6.jpg\n"
     ]
    }
   ],
   "source": [
    "import re\n",
    "base_url = 'http://www.pythonscraping.com'\n",
    "target_page = \"/pages/page3.html\"\n",
    "html = urlopen(base_url+target_page)\n",
    "bs = BeautifulSoup(html, 'html.parser')\n",
    "{'src':re.compile('\\.\\.\\/img\\/gifts/img.*\\.jpg')}\n",
    "images = bs.find_all('img', {'src':re.compile('\\.\\.\\/img\\/gifts/img.*\\.jpg')})\n",
    "for image in images:\n",
    "    print(base_url+image.attrs.get('src')[2:])"
   ]
  },
  {
   "cell_type": "code",
   "execution_count": 114,
   "id": "adb48d21-9bb7-460d-8223-7360ebe2b714",
   "metadata": {
    "scrolled": true
   },
   "outputs": [],
   "source": [
    "x= bs.findAll('table',{'id':'giftList'})[0].children"
   ]
  },
  {
   "cell_type": "code",
   "execution_count": 116,
   "id": "8c645086-6d99-4778-bcd9-ddff7f899335",
   "metadata": {},
   "outputs": [
    {
     "data": {
      "text/plain": [
       "'\\n'"
      ]
     },
     "execution_count": 116,
     "metadata": {},
     "output_type": "execute_result"
    }
   ],
   "source": [
    "x.__next__()"
   ]
  },
  {
   "cell_type": "code",
   "execution_count": 117,
   "id": "06048c8a-7daa-474c-905e-8b4899d21377",
   "metadata": {
    "scrolled": true
   },
   "outputs": [
    {
     "data": {
      "text/plain": [
       "<tr><th>\n",
       "Item Title\n",
       "</th><th>\n",
       "Description\n",
       "</th><th>\n",
       "Cost\n",
       "</th><th>\n",
       "Image\n",
       "</th></tr>"
      ]
     },
     "execution_count": 117,
     "metadata": {},
     "output_type": "execute_result"
    }
   ],
   "source": [
    "next(x)"
   ]
  },
  {
   "cell_type": "code",
   "execution_count": 118,
   "id": "c28c9e1f-5979-4426-b363-0856c96693dd",
   "metadata": {},
   "outputs": [
    {
     "data": {
      "text/plain": [
       "88"
      ]
     },
     "execution_count": 118,
     "metadata": {},
     "output_type": "execute_result"
    }
   ],
   "source": [
    "import sys\n",
    "sys.getsizeof([12,2,3])\n"
   ]
  },
  {
   "cell_type": "code",
   "execution_count": 119,
   "id": "458b8170-7980-415f-b5a9-48c838a6833a",
   "metadata": {},
   "outputs": [],
   "source": [
    "children = bs.findAll('table',{'id':'giftList'})[0].children\n"
   ]
  },
  {
   "cell_type": "code",
   "execution_count": 120,
   "id": "44fffc2a-1b65-4053-aea9-36ed3c744ad8",
   "metadata": {},
   "outputs": [
    {
     "ename": "SyntaxError",
     "evalue": "invalid syntax (4009609881.py, line 1)",
     "output_type": "error",
     "traceback": [
      "\u001b[1;36m  Cell \u001b[1;32mIn[120], line 1\u001b[1;36m\u001b[0m\n\u001b[1;33m    child for child in children\u001b[0m\n\u001b[1;37m          ^\u001b[0m\n\u001b[1;31mSyntaxError\u001b[0m\u001b[1;31m:\u001b[0m invalid syntax\n"
     ]
    }
   ],
   "source": [
    "child for child in children"
   ]
  },
  {
   "cell_type": "code",
   "execution_count": 121,
   "id": "bf9cf6b8-0a53-4d3c-8a27-11038aef5c50",
   "metadata": {},
   "outputs": [
    {
     "data": {
      "text/plain": [
       "<th>\n",
       "Item Title\n",
       "</th>"
      ]
     },
     "execution_count": 121,
     "metadata": {},
     "output_type": "execute_result"
    }
   ],
   "source": [
    "# 아래 두가지로 뽑애낼수 있음\n",
    "bs.find('table').find('tr').find('th')"
   ]
  },
  {
   "cell_type": "code",
   "execution_count": 128,
   "id": "dbe8a288-e74d-4d2d-a75c-65820a1edbf2",
   "metadata": {},
   "outputs": [
    {
     "data": {
      "text/plain": [
       "<th>\n",
       "Item Title\n",
       "</th>"
      ]
     },
     "execution_count": 128,
     "metadata": {},
     "output_type": "execute_result"
    }
   ],
   "source": [
    "bs.table.tr.th"
   ]
  },
  {
   "cell_type": "code",
   "execution_count": 130,
   "id": "abe00fb6-305d-4335-987c-4edd3cb0344f",
   "metadata": {},
   "outputs": [
    {
     "data": {
      "text/plain": [
       "<generator object PageElement.next_siblings at 0x00000239F5032EC0>"
      ]
     },
     "execution_count": 130,
     "metadata": {},
     "output_type": "execute_result"
    }
   ],
   "source": [
    "bs.find('table', {'id':'giftList'}).tr.next_siblings"
   ]
  },
  {
   "cell_type": "code",
   "execution_count": 131,
   "id": "60dd7619-4d7d-4261-b5f7-6c0788a41a7f",
   "metadata": {
    "scrolled": true
   },
   "outputs": [
    {
     "data": {
      "text/plain": [
       "['\\n',\n",
       " <tr class=\"gift\" id=\"gift1\"><td>\n",
       " Vegetable Basket\n",
       " </td><td>\n",
       " This vegetable basket is the perfect gift for your health conscious (or overweight) friends!\n",
       " <span class=\"excitingNote\">Now with super-colorful bell peppers!</span>\n",
       " </td><td>\n",
       " $15.00\n",
       " </td><td>\n",
       " <img src=\"../img/gifts/img1.jpg\"/>\n",
       " </td></tr>,\n",
       " '\\n',\n",
       " <tr class=\"gift\" id=\"gift2\"><td>\n",
       " Russian Nesting Dolls\n",
       " </td><td>\n",
       " Hand-painted by trained monkeys, these exquisite dolls are priceless! And by \"priceless,\" we mean \"extremely expensive\"! <span class=\"excitingNote\">8 entire dolls per set! Octuple the presents!</span>\n",
       " </td><td>\n",
       " $10,000.52\n",
       " </td><td>\n",
       " <img src=\"../img/gifts/img2.jpg\"/>\n",
       " </td></tr>,\n",
       " '\\n',\n",
       " <tr class=\"gift\" id=\"gift3\"><td>\n",
       " Fish Painting\n",
       " </td><td>\n",
       " If something seems fishy about this painting, it's because it's a fish! <span class=\"excitingNote\">Also hand-painted by trained monkeys!</span>\n",
       " </td><td>\n",
       " $10,005.00\n",
       " </td><td>\n",
       " <img src=\"../img/gifts/img3.jpg\"/>\n",
       " </td></tr>,\n",
       " '\\n',\n",
       " <tr class=\"gift\" id=\"gift4\"><td>\n",
       " Dead Parrot\n",
       " </td><td>\n",
       " This is an ex-parrot! <span class=\"excitingNote\">Or maybe he's only resting?</span>\n",
       " </td><td>\n",
       " $0.50\n",
       " </td><td>\n",
       " <img src=\"../img/gifts/img4.jpg\"/>\n",
       " </td></tr>,\n",
       " '\\n',\n",
       " <tr class=\"gift\" id=\"gift5\"><td>\n",
       " Mystery Box\n",
       " </td><td>\n",
       " If you love suprises, this mystery box is for you! Do not place on light-colored surfaces. May cause oil staining. <span class=\"excitingNote\">Keep your friends guessing!</span>\n",
       " </td><td>\n",
       " $1.50\n",
       " </td><td>\n",
       " <img src=\"../img/gifts/img6.jpg\"/>\n",
       " </td></tr>,\n",
       " '\\n']"
      ]
     },
     "execution_count": 131,
     "metadata": {},
     "output_type": "execute_result"
    }
   ],
   "source": [
    "list(bs.find('table', {'id':'giftList'}).tr.next_siblings) #형제를 여러개 뽑아내기"
   ]
  },
  {
   "cell_type": "code",
   "execution_count": 132,
   "id": "f85ee782-9846-4d5f-a8ed-8e2984bb8d7b",
   "metadata": {
    "collapsed": true,
    "jupyter": {
     "outputs_hidden": true
    }
   },
   "outputs": [
    {
     "data": {
      "text/plain": [
       "[<th>\n",
       " Item Title\n",
       " </th>,\n",
       " <th>\n",
       " Description\n",
       " </th>,\n",
       " <th>\n",
       " Cost\n",
       " </th>,\n",
       " <th>\n",
       " Image\n",
       " </th>]"
      ]
     },
     "execution_count": 132,
     "metadata": {},
     "output_type": "execute_result"
    }
   ],
   "source": [
    "list(bs.find('table', {'id':'giftList'}).tr)"
   ]
  },
  {
   "cell_type": "code",
   "execution_count": 133,
   "id": "13e62d7f-72e1-4852-86b6-e8828270fd6c",
   "metadata": {
    "collapsed": true,
    "jupyter": {
     "outputs_hidden": true
    }
   },
   "outputs": [
    {
     "data": {
      "text/plain": [
       "<tr><th>\n",
       "Item Title\n",
       "</th><th>\n",
       "Description\n",
       "</th><th>\n",
       "Cost\n",
       "</th><th>\n",
       "Image\n",
       "</th></tr>"
      ]
     },
     "execution_count": 133,
     "metadata": {},
     "output_type": "execute_result"
    }
   ],
   "source": [
    "bs.find('table', {'id':'giftList'}).tr"
   ]
  },
  {
   "cell_type": "code",
   "execution_count": 134,
   "id": "dcb3e9e7-fed4-4972-8ab3-fc633ed9b3b4",
   "metadata": {},
   "outputs": [
    {
     "data": {
      "text/plain": [
       "11"
      ]
     },
     "execution_count": 134,
     "metadata": {},
     "output_type": "execute_result"
    }
   ],
   "source": [
    "len(list(bs.find('table', {'id':'giftList'}).tr.next_siblings))"
   ]
  },
  {
   "cell_type": "code",
   "execution_count": 137,
   "id": "3ccb3be9-ed89-4df1-8cb4-fb311a35df40",
   "metadata": {},
   "outputs": [
    {
     "data": {
      "text/plain": [
       "7"
      ]
     },
     "execution_count": 137,
     "metadata": {},
     "output_type": "execute_result"
    }
   ],
   "source": [
    "len(list(bs.find('table', {'id':'giftList'}).findAll('tr')[2].next_siblings))"
   ]
  },
  {
   "cell_type": "code",
   "execution_count": 138,
   "id": "167a4dd2-c6f5-40fc-964a-cc0a6b6e7da0",
   "metadata": {},
   "outputs": [],
   "source": [
    "html = urlopen('http://www.pythonscraping.com/pages/page3.html')\n",
    "bs = BeautifulSoup(html, 'html.parser')"
   ]
  },
  {
   "cell_type": "code",
   "execution_count": 139,
   "id": "e3443ccd-687e-4f25-949a-3d7007cd81cd",
   "metadata": {},
   "outputs": [
    {
     "data": {
      "text/plain": [
       "[<img src=\"../img/gifts/logo.jpg\" style=\"float:left;\"/>,\n",
       " <img src=\"../img/gifts/img1.jpg\"/>,\n",
       " <img src=\"../img/gifts/img2.jpg\"/>,\n",
       " <img src=\"../img/gifts/img3.jpg\"/>,\n",
       " <img src=\"../img/gifts/img4.jpg\"/>,\n",
       " <img src=\"../img/gifts/img6.jpg\"/>]"
      ]
     },
     "execution_count": 139,
     "metadata": {},
     "output_type": "execute_result"
    }
   ],
   "source": [
    "bs.findAll('img')"
   ]
  },
  {
   "cell_type": "code",
   "execution_count": 147,
   "id": "68bf5fac-5e7d-45c4-8a5e-95bbc38e0abb",
   "metadata": {},
   "outputs": [
    {
     "data": {
      "text/plain": [
       "'$15.00'"
      ]
     },
     "execution_count": 147,
     "metadata": {},
     "output_type": "execute_result"
    }
   ],
   "source": [
    "bs.findAll('tr')[1].findAll('td')[2].text.replace('\\n',\"\")"
   ]
  },
  {
   "cell_type": "code",
   "execution_count": 152,
   "id": "5a4a6e0a-bf8e-492b-95c2-306876f16ec5",
   "metadata": {
    "scrolled": true
   },
   "outputs": [
    {
     "data": {
      "text/plain": [
       "['\\n']"
      ]
     },
     "execution_count": 152,
     "metadata": {},
     "output_type": "execute_result"
    }
   ],
   "source": [
    "list(bs.find('img').parent.previous_siblings)"
   ]
  },
  {
   "cell_type": "code",
   "execution_count": 157,
   "id": "89c70aa4-d8ec-4e43-9bcb-b5c18e2d47e0",
   "metadata": {},
   "outputs": [
    {
     "ename": "SyntaxError",
     "evalue": "closing parenthesis ')' does not match opening parenthesis '{' (1932644084.py, line 1)",
     "output_type": "error",
     "traceback": [
      "\u001b[1;36m  Cell \u001b[1;32mIn[157], line 1\u001b[1;36m\u001b[0m\n\u001b[1;33m    bs.find('img', {'src':'..\\/img\\/gifts/img.*\\.jpg')}).parent\u001b[0m\n\u001b[1;37m                                                     ^\u001b[0m\n\u001b[1;31mSyntaxError\u001b[0m\u001b[1;31m:\u001b[0m closing parenthesis ')' does not match opening parenthesis '{'\n"
     ]
    }
   ],
   "source": [
    "bs.find('img', {'src':'..\\/img\\/gifts/img.*\\.jpg')}).parent\n"
   ]
  },
  {
   "cell_type": "code",
   "execution_count": 163,
   "id": "de8dd4e1-1641-443b-b9ee-c30cde60d56f",
   "metadata": {},
   "outputs": [
    {
     "ename": "SyntaxError",
     "evalue": "closing parenthesis ')' does not match opening parenthesis '{' (4293359212.py, line 1)",
     "output_type": "error",
     "traceback": [
      "\u001b[1;36m  Cell \u001b[1;32mIn[163], line 1\u001b[1;36m\u001b[0m\n\u001b[1;33m    bs.find_all('img', {'src':'..\\/img\\/gifts/img.*\\.jpg')}).parent.previous_siblings)\u001b[0m\n\u001b[1;37m                                                         ^\u001b[0m\n\u001b[1;31mSyntaxError\u001b[0m\u001b[1;31m:\u001b[0m closing parenthesis ')' does not match opening parenthesis '{'\n"
     ]
    }
   ],
   "source": [
    "bs.find_all('img', {'src':'..\\/img\\/gifts/img.*\\.jpg')}).parent.previous_siblings)\n",
    "\n",
    "    "
   ]
  },
  {
   "cell_type": "code",
   "execution_count": 168,
   "id": "f5d2ccf2-d266-4dad-83f1-1bcedab52033",
   "metadata": {},
   "outputs": [
    {
     "name": "stdout",
     "output_type": "stream",
     "text": [
      "../img/gifts/img1.jpg\n",
      "../img/gifts/img2.jpg\n",
      "../img/gifts/img3.jpg\n",
      "../img/gifts/img4.jpg\n",
      "../img/gifts/img6.jpg\n"
     ]
    }
   ],
   "source": [
    "import re\n",
    "\n",
    "images = bs.find_all('img', {'src':re.compile('\\.\\.\\/img\\/gifts/img.*\\.jpg')})\n",
    "for image in images: \n",
    "    print(image['src'])"
   ]
  },
  {
   "cell_type": "code",
   "execution_count": 175,
   "id": "2947fc48-48bc-4095-84c9-75b7c0111e9c",
   "metadata": {},
   "outputs": [
    {
     "data": {
      "text/plain": [
       "'../img/gifts/img1.jpg'"
      ]
     },
     "execution_count": 175,
     "metadata": {},
     "output_type": "execute_result"
    }
   ],
   "source": [
    "# 둘다 사용하면 좋음\n",
    "images[0].attrs.get('src') # 딕셔러리 오류메세지 없음, 삽입이 불가능\n",
    "images[0].attrs['src'] # 에러잡을수 있음, none이 있을 경우 사용"
   ]
  },
  {
   "cell_type": "code",
   "execution_count": 176,
   "id": "857d735d-f03e-497b-8704-c56d74b40dd3",
   "metadata": {},
   "outputs": [
    {
     "data": {
      "text/plain": [
       "'../img/gifts/img1.jpg'"
      ]
     },
     "execution_count": 176,
     "metadata": {},
     "output_type": "execute_result"
    }
   ],
   "source": [
    "images[0].attrs['src'] "
   ]
  },
  {
   "cell_type": "code",
   "execution_count": 177,
   "id": "cd7ef109-66b6-4a6b-aff2-fad4e63a3c93",
   "metadata": {},
   "outputs": [
    {
     "ename": "SyntaxError",
     "evalue": "cannot assign to function call here. Maybe you meant '==' instead of '='? (3130306333.py, line 1)",
     "output_type": "error",
     "traceback": [
      "\u001b[1;36m  Cell \u001b[1;32mIn[177], line 1\u001b[1;36m\u001b[0m\n\u001b[1;33m    images[0].attrs.get('src') = 'dd'\u001b[0m\n\u001b[1;37m    ^\u001b[0m\n\u001b[1;31mSyntaxError\u001b[0m\u001b[1;31m:\u001b[0m cannot assign to function call here. Maybe you meant '==' instead of '='?\n"
     ]
    }
   ],
   "source": [
    "images[0].attrs.get('src') = 'dd'"
   ]
  },
  {
   "cell_type": "code",
   "execution_count": 182,
   "id": "9c45b069-a847-4c85-beab-869f1faafee9",
   "metadata": {},
   "outputs": [
    {
     "data": {
      "text/plain": [
       "['../img/gifts/img1.jpg',\n",
       " '../img/gifts/img2.jpg',\n",
       " '../img/gifts/img3.jpg',\n",
       " '../img/gifts/img4.jpg',\n",
       " '../img/gifts/img6.jpg']"
      ]
     },
     "execution_count": 182,
     "metadata": {},
     "output_type": "execute_result"
    }
   ],
   "source": [
    "image_url = []\n",
    "for image in images:\n",
    "    image_url.append(image.attrs.get('src'))\n",
    "image_url"
   ]
  },
  {
   "cell_type": "code",
   "execution_count": 212,
   "id": "e6553615-57d0-4c7e-b7d9-2e82932ed56e",
   "metadata": {},
   "outputs": [
    {
     "data": {
      "text/plain": [
       "[5, 5, 5, 5, 5, 5, 5, 5, 5, 5]"
      ]
     },
     "execution_count": 212,
     "metadata": {},
     "output_type": "execute_result"
    }
   ],
   "source": [
    "(lambda n,v: [v]*n) (10,5)"
   ]
  },
  {
   "cell_type": "code",
   "execution_count": 210,
   "id": "092c624a-a298-424d-acac-6dc63fb6e213",
   "metadata": {},
   "outputs": [],
   "source": [
    "def xx(n,v):\n",
    "    return [v]*n"
   ]
  },
  {
   "cell_type": "code",
   "execution_count": 211,
   "id": "4a5557a2-d95b-48bb-a75b-a073b8a67610",
   "metadata": {
    "scrolled": true
   },
   "outputs": [
    {
     "data": {
      "text/plain": [
       "[5, 5, 5, 5, 5, 5, 5, 5, 5, 5]"
      ]
     },
     "execution_count": 211,
     "metadata": {},
     "output_type": "execute_result"
    }
   ],
   "source": [
    "xx(10,5)"
   ]
  },
  {
   "cell_type": "code",
   "execution_count": null,
   "id": "fbdd3f0c-0845-46e8-bcc9-12a6e5aea42d",
   "metadata": {},
   "outputs": [],
   "source": [
    "(lambda n,v: [v]*n) (10,5)"
   ]
  },
  {
   "cell_type": "code",
   "execution_count": 216,
   "id": "54c721e6-89f8-46fa-b9f1-1d755bdc204c",
   "metadata": {},
   "outputs": [
    {
     "data": {
      "text/plain": [
       "[0, 0, 0, 0, 0, 0, 0, 0, 0, 0]"
      ]
     },
     "execution_count": 216,
     "metadata": {},
     "output_type": "execute_result"
    }
   ],
   "source": [
    "(lambda x:[0] * 10) (10)"
   ]
  },
  {
   "cell_type": "code",
   "execution_count": 219,
   "id": "0246d4fb-b144-463a-b3bc-5bf7f5872957",
   "metadata": {
    "scrolled": true
   },
   "outputs": [
    {
     "data": {
      "text/plain": [
       "[<img src=\"../img/gifts/logo.jpg\" style=\"float:left;\"/>,\n",
       " <tr class=\"gift\" id=\"gift1\"><td>\n",
       " Vegetable Basket\n",
       " </td><td>\n",
       " This vegetable basket is the perfect gift for your health conscious (or overweight) friends!\n",
       " <span class=\"excitingNote\">Now with super-colorful bell peppers!</span>\n",
       " </td><td>\n",
       " $15.00\n",
       " </td><td>\n",
       " <img src=\"../img/gifts/img1.jpg\"/>\n",
       " </td></tr>,\n",
       " <tr class=\"gift\" id=\"gift2\"><td>\n",
       " Russian Nesting Dolls\n",
       " </td><td>\n",
       " Hand-painted by trained monkeys, these exquisite dolls are priceless! And by \"priceless,\" we mean \"extremely expensive\"! <span class=\"excitingNote\">8 entire dolls per set! Octuple the presents!</span>\n",
       " </td><td>\n",
       " $10,000.52\n",
       " </td><td>\n",
       " <img src=\"../img/gifts/img2.jpg\"/>\n",
       " </td></tr>,\n",
       " <tr class=\"gift\" id=\"gift3\"><td>\n",
       " Fish Painting\n",
       " </td><td>\n",
       " If something seems fishy about this painting, it's because it's a fish! <span class=\"excitingNote\">Also hand-painted by trained monkeys!</span>\n",
       " </td><td>\n",
       " $10,005.00\n",
       " </td><td>\n",
       " <img src=\"../img/gifts/img3.jpg\"/>\n",
       " </td></tr>,\n",
       " <tr class=\"gift\" id=\"gift4\"><td>\n",
       " Dead Parrot\n",
       " </td><td>\n",
       " This is an ex-parrot! <span class=\"excitingNote\">Or maybe he's only resting?</span>\n",
       " </td><td>\n",
       " $0.50\n",
       " </td><td>\n",
       " <img src=\"../img/gifts/img4.jpg\"/>\n",
       " </td></tr>,\n",
       " <tr class=\"gift\" id=\"gift5\"><td>\n",
       " Mystery Box\n",
       " </td><td>\n",
       " If you love suprises, this mystery box is for you! Do not place on light-colored surfaces. May cause oil staining. <span class=\"excitingNote\">Keep your friends guessing!</span>\n",
       " </td><td>\n",
       " $1.50\n",
       " </td><td>\n",
       " <img src=\"../img/gifts/img6.jpg\"/>\n",
       " </td></tr>]"
      ]
     },
     "execution_count": 219,
     "metadata": {},
     "output_type": "execute_result"
    }
   ],
   "source": [
    "bs.findAll(lambda x: len(x.attrs) == 2)"
   ]
  },
  {
   "cell_type": "code",
   "execution_count": null,
   "id": "ea2099b0-b650-45c0-9aa6-6e10c0dad4a8",
   "metadata": {},
   "outputs": [],
   "source": [
    "bs.findAll(lambda x: len(x.attrs) == 2)"
   ]
  },
  {
   "cell_type": "code",
   "execution_count": 221,
   "id": "f99fe169-dea9-4c3d-88c3-f21875518410",
   "metadata": {},
   "outputs": [],
   "source": [
    "def xx(x):# true여야지 출력\n",
    "    return len(x.attrs) ==2"
   ]
  },
  {
   "cell_type": "code",
   "execution_count": 222,
   "id": "c6471a55-a5d5-4b05-8ca0-828617c4c063",
   "metadata": {
    "scrolled": true
   },
   "outputs": [
    {
     "data": {
      "text/plain": [
       "[<img src=\"../img/gifts/logo.jpg\" style=\"float:left;\"/>,\n",
       " <tr class=\"gift\" id=\"gift1\"><td>\n",
       " Vegetable Basket\n",
       " </td><td>\n",
       " This vegetable basket is the perfect gift for your health conscious (or overweight) friends!\n",
       " <span class=\"excitingNote\">Now with super-colorful bell peppers!</span>\n",
       " </td><td>\n",
       " $15.00\n",
       " </td><td>\n",
       " <img src=\"../img/gifts/img1.jpg\"/>\n",
       " </td></tr>,\n",
       " <tr class=\"gift\" id=\"gift2\"><td>\n",
       " Russian Nesting Dolls\n",
       " </td><td>\n",
       " Hand-painted by trained monkeys, these exquisite dolls are priceless! And by \"priceless,\" we mean \"extremely expensive\"! <span class=\"excitingNote\">8 entire dolls per set! Octuple the presents!</span>\n",
       " </td><td>\n",
       " $10,000.52\n",
       " </td><td>\n",
       " <img src=\"../img/gifts/img2.jpg\"/>\n",
       " </td></tr>,\n",
       " <tr class=\"gift\" id=\"gift3\"><td>\n",
       " Fish Painting\n",
       " </td><td>\n",
       " If something seems fishy about this painting, it's because it's a fish! <span class=\"excitingNote\">Also hand-painted by trained monkeys!</span>\n",
       " </td><td>\n",
       " $10,005.00\n",
       " </td><td>\n",
       " <img src=\"../img/gifts/img3.jpg\"/>\n",
       " </td></tr>,\n",
       " <tr class=\"gift\" id=\"gift4\"><td>\n",
       " Dead Parrot\n",
       " </td><td>\n",
       " This is an ex-parrot! <span class=\"excitingNote\">Or maybe he's only resting?</span>\n",
       " </td><td>\n",
       " $0.50\n",
       " </td><td>\n",
       " <img src=\"../img/gifts/img4.jpg\"/>\n",
       " </td></tr>,\n",
       " <tr class=\"gift\" id=\"gift5\"><td>\n",
       " Mystery Box\n",
       " </td><td>\n",
       " If you love suprises, this mystery box is for you! Do not place on light-colored surfaces. May cause oil staining. <span class=\"excitingNote\">Keep your friends guessing!</span>\n",
       " </td><td>\n",
       " $1.50\n",
       " </td><td>\n",
       " <img src=\"../img/gifts/img6.jpg\"/>\n",
       " </td></tr>]"
      ]
     },
     "execution_count": 222,
     "metadata": {},
     "output_type": "execute_result"
    }
   ],
   "source": [
    "bs.findAll(xx)"
   ]
  },
  {
   "cell_type": "code",
   "execution_count": 226,
   "id": "64b1e706-3cda-4d3e-a907-e56037ccb399",
   "metadata": {
    "collapsed": true,
    "jupyter": {
     "outputs_hidden": true
    }
   },
   "outputs": [
    {
     "data": {
      "text/plain": [
       "[<html>\n",
       " <head>\n",
       " <style>\n",
       " img{\n",
       " \twidth:75px;\n",
       " }\n",
       " table{\n",
       " \twidth:50%;\n",
       " }\n",
       " td{\n",
       " \tmargin:10px;\n",
       " \tpadding:10px;\n",
       " }\n",
       " .wrapper{\n",
       " \twidth:800px;\n",
       " }\n",
       " .excitingNote{\n",
       " \tfont-style:italic;\n",
       " \tfont-weight:bold;\n",
       " }\n",
       " </style>\n",
       " </head>\n",
       " <body>\n",
       " <div id=\"wrapper\">\n",
       " <img src=\"../img/gifts/logo.jpg\" style=\"float:left;\"/>\n",
       " <h1>Totally Normal Gifts</h1>\n",
       " <div id=\"content\">Here is a collection of totally normal, totally reasonable gifts that your friends are sure to love! Our collection is\n",
       " hand-curated by well-paid, free-range Tibetan monks.<p>\n",
       " We haven't figured out how to make online shopping carts yet, but you can send us a check to:<br/>\n",
       " 123 Main St.<br/>\n",
       " Abuja, Nigeria\n",
       " We will then send your totally amazing gift, pronto! Please include an extra $5.00 for gift wrapping.</p></div>\n",
       " <table id=\"giftList\">\n",
       " <tr><th>\n",
       " Item Title\n",
       " </th><th>\n",
       " Description\n",
       " </th><th>\n",
       " Cost\n",
       " </th><th>\n",
       " Image\n",
       " </th></tr>\n",
       " <tr class=\"gift\" id=\"gift1\"><td>\n",
       " Vegetable Basket\n",
       " </td><td>\n",
       " This vegetable basket is the perfect gift for your health conscious (or overweight) friends!\n",
       " <span class=\"excitingNote\">Now with super-colorful bell peppers!</span>\n",
       " </td><td>\n",
       " $15.00\n",
       " </td><td>\n",
       " <img src=\"../img/gifts/img1.jpg\"/>\n",
       " </td></tr>\n",
       " <tr class=\"gift\" id=\"gift2\"><td>\n",
       " Russian Nesting Dolls\n",
       " </td><td>\n",
       " Hand-painted by trained monkeys, these exquisite dolls are priceless! And by \"priceless,\" we mean \"extremely expensive\"! <span class=\"excitingNote\">8 entire dolls per set! Octuple the presents!</span>\n",
       " </td><td>\n",
       " $10,000.52\n",
       " </td><td>\n",
       " <img src=\"../img/gifts/img2.jpg\"/>\n",
       " </td></tr>\n",
       " <tr class=\"gift\" id=\"gift3\"><td>\n",
       " Fish Painting\n",
       " </td><td>\n",
       " If something seems fishy about this painting, it's because it's a fish! <span class=\"excitingNote\">Also hand-painted by trained monkeys!</span>\n",
       " </td><td>\n",
       " $10,005.00\n",
       " </td><td>\n",
       " <img src=\"../img/gifts/img3.jpg\"/>\n",
       " </td></tr>\n",
       " <tr class=\"gift\" id=\"gift4\"><td>\n",
       " Dead Parrot\n",
       " </td><td>\n",
       " This is an ex-parrot! <span class=\"excitingNote\">Or maybe he's only resting?</span>\n",
       " </td><td>\n",
       " $0.50\n",
       " </td><td>\n",
       " <img src=\"../img/gifts/img4.jpg\"/>\n",
       " </td></tr>\n",
       " <tr class=\"gift\" id=\"gift5\"><td>\n",
       " Mystery Box\n",
       " </td><td>\n",
       " If you love suprises, this mystery box is for you! Do not place on light-colored surfaces. May cause oil staining. <span class=\"excitingNote\">Keep your friends guessing!</span>\n",
       " </td><td>\n",
       " $1.50\n",
       " </td><td>\n",
       " <img src=\"../img/gifts/img6.jpg\"/>\n",
       " </td></tr>\n",
       " </table>\n",
       " \n",
       " <div id=\"footer\">\n",
       " © Totally Normal Gifts, Inc. <br/>\n",
       " +234 (617) 863-0736\n",
       " </div>\n",
       " </div>\n",
       " </body>\n",
       " </html>,\n",
       " <head>\n",
       " <style>\n",
       " img{\n",
       " \twidth:75px;\n",
       " }\n",
       " table{\n",
       " \twidth:50%;\n",
       " }\n",
       " td{\n",
       " \tmargin:10px;\n",
       " \tpadding:10px;\n",
       " }\n",
       " .wrapper{\n",
       " \twidth:800px;\n",
       " }\n",
       " .excitingNote{\n",
       " \tfont-style:italic;\n",
       " \tfont-weight:bold;\n",
       " }\n",
       " </style>\n",
       " </head>,\n",
       " <style>\n",
       " img{\n",
       " \twidth:75px;\n",
       " }\n",
       " table{\n",
       " \twidth:50%;\n",
       " }\n",
       " td{\n",
       " \tmargin:10px;\n",
       " \tpadding:10px;\n",
       " }\n",
       " .wrapper{\n",
       " \twidth:800px;\n",
       " }\n",
       " .excitingNote{\n",
       " \tfont-style:italic;\n",
       " \tfont-weight:bold;\n",
       " }\n",
       " </style>,\n",
       " <body>\n",
       " <div id=\"wrapper\">\n",
       " <img src=\"../img/gifts/logo.jpg\" style=\"float:left;\"/>\n",
       " <h1>Totally Normal Gifts</h1>\n",
       " <div id=\"content\">Here is a collection of totally normal, totally reasonable gifts that your friends are sure to love! Our collection is\n",
       " hand-curated by well-paid, free-range Tibetan monks.<p>\n",
       " We haven't figured out how to make online shopping carts yet, but you can send us a check to:<br/>\n",
       " 123 Main St.<br/>\n",
       " Abuja, Nigeria\n",
       " We will then send your totally amazing gift, pronto! Please include an extra $5.00 for gift wrapping.</p></div>\n",
       " <table id=\"giftList\">\n",
       " <tr><th>\n",
       " Item Title\n",
       " </th><th>\n",
       " Description\n",
       " </th><th>\n",
       " Cost\n",
       " </th><th>\n",
       " Image\n",
       " </th></tr>\n",
       " <tr class=\"gift\" id=\"gift1\"><td>\n",
       " Vegetable Basket\n",
       " </td><td>\n",
       " This vegetable basket is the perfect gift for your health conscious (or overweight) friends!\n",
       " <span class=\"excitingNote\">Now with super-colorful bell peppers!</span>\n",
       " </td><td>\n",
       " $15.00\n",
       " </td><td>\n",
       " <img src=\"../img/gifts/img1.jpg\"/>\n",
       " </td></tr>\n",
       " <tr class=\"gift\" id=\"gift2\"><td>\n",
       " Russian Nesting Dolls\n",
       " </td><td>\n",
       " Hand-painted by trained monkeys, these exquisite dolls are priceless! And by \"priceless,\" we mean \"extremely expensive\"! <span class=\"excitingNote\">8 entire dolls per set! Octuple the presents!</span>\n",
       " </td><td>\n",
       " $10,000.52\n",
       " </td><td>\n",
       " <img src=\"../img/gifts/img2.jpg\"/>\n",
       " </td></tr>\n",
       " <tr class=\"gift\" id=\"gift3\"><td>\n",
       " Fish Painting\n",
       " </td><td>\n",
       " If something seems fishy about this painting, it's because it's a fish! <span class=\"excitingNote\">Also hand-painted by trained monkeys!</span>\n",
       " </td><td>\n",
       " $10,005.00\n",
       " </td><td>\n",
       " <img src=\"../img/gifts/img3.jpg\"/>\n",
       " </td></tr>\n",
       " <tr class=\"gift\" id=\"gift4\"><td>\n",
       " Dead Parrot\n",
       " </td><td>\n",
       " This is an ex-parrot! <span class=\"excitingNote\">Or maybe he's only resting?</span>\n",
       " </td><td>\n",
       " $0.50\n",
       " </td><td>\n",
       " <img src=\"../img/gifts/img4.jpg\"/>\n",
       " </td></tr>\n",
       " <tr class=\"gift\" id=\"gift5\"><td>\n",
       " Mystery Box\n",
       " </td><td>\n",
       " If you love suprises, this mystery box is for you! Do not place on light-colored surfaces. May cause oil staining. <span class=\"excitingNote\">Keep your friends guessing!</span>\n",
       " </td><td>\n",
       " $1.50\n",
       " </td><td>\n",
       " <img src=\"../img/gifts/img6.jpg\"/>\n",
       " </td></tr>\n",
       " </table>\n",
       " \n",
       " <div id=\"footer\">\n",
       " © Totally Normal Gifts, Inc. <br/>\n",
       " +234 (617) 863-0736\n",
       " </div>\n",
       " </div>\n",
       " </body>,\n",
       " <div id=\"wrapper\">\n",
       " <img src=\"../img/gifts/logo.jpg\" style=\"float:left;\"/>\n",
       " <h1>Totally Normal Gifts</h1>\n",
       " <div id=\"content\">Here is a collection of totally normal, totally reasonable gifts that your friends are sure to love! Our collection is\n",
       " hand-curated by well-paid, free-range Tibetan monks.<p>\n",
       " We haven't figured out how to make online shopping carts yet, but you can send us a check to:<br/>\n",
       " 123 Main St.<br/>\n",
       " Abuja, Nigeria\n",
       " We will then send your totally amazing gift, pronto! Please include an extra $5.00 for gift wrapping.</p></div>\n",
       " <table id=\"giftList\">\n",
       " <tr><th>\n",
       " Item Title\n",
       " </th><th>\n",
       " Description\n",
       " </th><th>\n",
       " Cost\n",
       " </th><th>\n",
       " Image\n",
       " </th></tr>\n",
       " <tr class=\"gift\" id=\"gift1\"><td>\n",
       " Vegetable Basket\n",
       " </td><td>\n",
       " This vegetable basket is the perfect gift for your health conscious (or overweight) friends!\n",
       " <span class=\"excitingNote\">Now with super-colorful bell peppers!</span>\n",
       " </td><td>\n",
       " $15.00\n",
       " </td><td>\n",
       " <img src=\"../img/gifts/img1.jpg\"/>\n",
       " </td></tr>\n",
       " <tr class=\"gift\" id=\"gift2\"><td>\n",
       " Russian Nesting Dolls\n",
       " </td><td>\n",
       " Hand-painted by trained monkeys, these exquisite dolls are priceless! And by \"priceless,\" we mean \"extremely expensive\"! <span class=\"excitingNote\">8 entire dolls per set! Octuple the presents!</span>\n",
       " </td><td>\n",
       " $10,000.52\n",
       " </td><td>\n",
       " <img src=\"../img/gifts/img2.jpg\"/>\n",
       " </td></tr>\n",
       " <tr class=\"gift\" id=\"gift3\"><td>\n",
       " Fish Painting\n",
       " </td><td>\n",
       " If something seems fishy about this painting, it's because it's a fish! <span class=\"excitingNote\">Also hand-painted by trained monkeys!</span>\n",
       " </td><td>\n",
       " $10,005.00\n",
       " </td><td>\n",
       " <img src=\"../img/gifts/img3.jpg\"/>\n",
       " </td></tr>\n",
       " <tr class=\"gift\" id=\"gift4\"><td>\n",
       " Dead Parrot\n",
       " </td><td>\n",
       " This is an ex-parrot! <span class=\"excitingNote\">Or maybe he's only resting?</span>\n",
       " </td><td>\n",
       " $0.50\n",
       " </td><td>\n",
       " <img src=\"../img/gifts/img4.jpg\"/>\n",
       " </td></tr>\n",
       " <tr class=\"gift\" id=\"gift5\"><td>\n",
       " Mystery Box\n",
       " </td><td>\n",
       " If you love suprises, this mystery box is for you! Do not place on light-colored surfaces. May cause oil staining. <span class=\"excitingNote\">Keep your friends guessing!</span>\n",
       " </td><td>\n",
       " $1.50\n",
       " </td><td>\n",
       " <img src=\"../img/gifts/img6.jpg\"/>\n",
       " </td></tr>\n",
       " </table>\n",
       " \n",
       " <div id=\"footer\">\n",
       " © Totally Normal Gifts, Inc. <br/>\n",
       " +234 (617) 863-0736\n",
       " </div>\n",
       " </div>,\n",
       " <img src=\"../img/gifts/logo.jpg\" style=\"float:left;\"/>,\n",
       " <h1>Totally Normal Gifts</h1>,\n",
       " <div id=\"content\">Here is a collection of totally normal, totally reasonable gifts that your friends are sure to love! Our collection is\n",
       " hand-curated by well-paid, free-range Tibetan monks.<p>\n",
       " We haven't figured out how to make online shopping carts yet, but you can send us a check to:<br/>\n",
       " 123 Main St.<br/>\n",
       " Abuja, Nigeria\n",
       " We will then send your totally amazing gift, pronto! Please include an extra $5.00 for gift wrapping.</p></div>,\n",
       " <p>\n",
       " We haven't figured out how to make online shopping carts yet, but you can send us a check to:<br/>\n",
       " 123 Main St.<br/>\n",
       " Abuja, Nigeria\n",
       " We will then send your totally amazing gift, pronto! Please include an extra $5.00 for gift wrapping.</p>,\n",
       " <br/>,\n",
       " <br/>,\n",
       " <table id=\"giftList\">\n",
       " <tr><th>\n",
       " Item Title\n",
       " </th><th>\n",
       " Description\n",
       " </th><th>\n",
       " Cost\n",
       " </th><th>\n",
       " Image\n",
       " </th></tr>\n",
       " <tr class=\"gift\" id=\"gift1\"><td>\n",
       " Vegetable Basket\n",
       " </td><td>\n",
       " This vegetable basket is the perfect gift for your health conscious (or overweight) friends!\n",
       " <span class=\"excitingNote\">Now with super-colorful bell peppers!</span>\n",
       " </td><td>\n",
       " $15.00\n",
       " </td><td>\n",
       " <img src=\"../img/gifts/img1.jpg\"/>\n",
       " </td></tr>\n",
       " <tr class=\"gift\" id=\"gift2\"><td>\n",
       " Russian Nesting Dolls\n",
       " </td><td>\n",
       " Hand-painted by trained monkeys, these exquisite dolls are priceless! And by \"priceless,\" we mean \"extremely expensive\"! <span class=\"excitingNote\">8 entire dolls per set! Octuple the presents!</span>\n",
       " </td><td>\n",
       " $10,000.52\n",
       " </td><td>\n",
       " <img src=\"../img/gifts/img2.jpg\"/>\n",
       " </td></tr>\n",
       " <tr class=\"gift\" id=\"gift3\"><td>\n",
       " Fish Painting\n",
       " </td><td>\n",
       " If something seems fishy about this painting, it's because it's a fish! <span class=\"excitingNote\">Also hand-painted by trained monkeys!</span>\n",
       " </td><td>\n",
       " $10,005.00\n",
       " </td><td>\n",
       " <img src=\"../img/gifts/img3.jpg\"/>\n",
       " </td></tr>\n",
       " <tr class=\"gift\" id=\"gift4\"><td>\n",
       " Dead Parrot\n",
       " </td><td>\n",
       " This is an ex-parrot! <span class=\"excitingNote\">Or maybe he's only resting?</span>\n",
       " </td><td>\n",
       " $0.50\n",
       " </td><td>\n",
       " <img src=\"../img/gifts/img4.jpg\"/>\n",
       " </td></tr>\n",
       " <tr class=\"gift\" id=\"gift5\"><td>\n",
       " Mystery Box\n",
       " </td><td>\n",
       " If you love suprises, this mystery box is for you! Do not place on light-colored surfaces. May cause oil staining. <span class=\"excitingNote\">Keep your friends guessing!</span>\n",
       " </td><td>\n",
       " $1.50\n",
       " </td><td>\n",
       " <img src=\"../img/gifts/img6.jpg\"/>\n",
       " </td></tr>\n",
       " </table>,\n",
       " <tr><th>\n",
       " Item Title\n",
       " </th><th>\n",
       " Description\n",
       " </th><th>\n",
       " Cost\n",
       " </th><th>\n",
       " Image\n",
       " </th></tr>,\n",
       " <th>\n",
       " Item Title\n",
       " </th>,\n",
       " <th>\n",
       " Description\n",
       " </th>,\n",
       " <th>\n",
       " Cost\n",
       " </th>,\n",
       " <th>\n",
       " Image\n",
       " </th>,\n",
       " <tr class=\"gift\" id=\"gift1\"><td>\n",
       " Vegetable Basket\n",
       " </td><td>\n",
       " This vegetable basket is the perfect gift for your health conscious (or overweight) friends!\n",
       " <span class=\"excitingNote\">Now with super-colorful bell peppers!</span>\n",
       " </td><td>\n",
       " $15.00\n",
       " </td><td>\n",
       " <img src=\"../img/gifts/img1.jpg\"/>\n",
       " </td></tr>,\n",
       " <td>\n",
       " Vegetable Basket\n",
       " </td>,\n",
       " <td>\n",
       " This vegetable basket is the perfect gift for your health conscious (or overweight) friends!\n",
       " <span class=\"excitingNote\">Now with super-colorful bell peppers!</span>\n",
       " </td>,\n",
       " <span class=\"excitingNote\">Now with super-colorful bell peppers!</span>,\n",
       " <td>\n",
       " $15.00\n",
       " </td>,\n",
       " <td>\n",
       " <img src=\"../img/gifts/img1.jpg\"/>\n",
       " </td>,\n",
       " <img src=\"../img/gifts/img1.jpg\"/>,\n",
       " <tr class=\"gift\" id=\"gift2\"><td>\n",
       " Russian Nesting Dolls\n",
       " </td><td>\n",
       " Hand-painted by trained monkeys, these exquisite dolls are priceless! And by \"priceless,\" we mean \"extremely expensive\"! <span class=\"excitingNote\">8 entire dolls per set! Octuple the presents!</span>\n",
       " </td><td>\n",
       " $10,000.52\n",
       " </td><td>\n",
       " <img src=\"../img/gifts/img2.jpg\"/>\n",
       " </td></tr>,\n",
       " <td>\n",
       " Russian Nesting Dolls\n",
       " </td>,\n",
       " <td>\n",
       " Hand-painted by trained monkeys, these exquisite dolls are priceless! And by \"priceless,\" we mean \"extremely expensive\"! <span class=\"excitingNote\">8 entire dolls per set! Octuple the presents!</span>\n",
       " </td>,\n",
       " <span class=\"excitingNote\">8 entire dolls per set! Octuple the presents!</span>,\n",
       " <td>\n",
       " $10,000.52\n",
       " </td>,\n",
       " <td>\n",
       " <img src=\"../img/gifts/img2.jpg\"/>\n",
       " </td>,\n",
       " <img src=\"../img/gifts/img2.jpg\"/>,\n",
       " <tr class=\"gift\" id=\"gift3\"><td>\n",
       " Fish Painting\n",
       " </td><td>\n",
       " If something seems fishy about this painting, it's because it's a fish! <span class=\"excitingNote\">Also hand-painted by trained monkeys!</span>\n",
       " </td><td>\n",
       " $10,005.00\n",
       " </td><td>\n",
       " <img src=\"../img/gifts/img3.jpg\"/>\n",
       " </td></tr>,\n",
       " <td>\n",
       " Fish Painting\n",
       " </td>,\n",
       " <td>\n",
       " If something seems fishy about this painting, it's because it's a fish! <span class=\"excitingNote\">Also hand-painted by trained monkeys!</span>\n",
       " </td>,\n",
       " <span class=\"excitingNote\">Also hand-painted by trained monkeys!</span>,\n",
       " <td>\n",
       " $10,005.00\n",
       " </td>,\n",
       " <td>\n",
       " <img src=\"../img/gifts/img3.jpg\"/>\n",
       " </td>,\n",
       " <img src=\"../img/gifts/img3.jpg\"/>,\n",
       " <tr class=\"gift\" id=\"gift4\"><td>\n",
       " Dead Parrot\n",
       " </td><td>\n",
       " This is an ex-parrot! <span class=\"excitingNote\">Or maybe he's only resting?</span>\n",
       " </td><td>\n",
       " $0.50\n",
       " </td><td>\n",
       " <img src=\"../img/gifts/img4.jpg\"/>\n",
       " </td></tr>,\n",
       " <td>\n",
       " Dead Parrot\n",
       " </td>,\n",
       " <td>\n",
       " This is an ex-parrot! <span class=\"excitingNote\">Or maybe he's only resting?</span>\n",
       " </td>,\n",
       " <span class=\"excitingNote\">Or maybe he's only resting?</span>,\n",
       " <td>\n",
       " $0.50\n",
       " </td>,\n",
       " <td>\n",
       " <img src=\"../img/gifts/img4.jpg\"/>\n",
       " </td>,\n",
       " <img src=\"../img/gifts/img4.jpg\"/>,\n",
       " <tr class=\"gift\" id=\"gift5\"><td>\n",
       " Mystery Box\n",
       " </td><td>\n",
       " If you love suprises, this mystery box is for you! Do not place on light-colored surfaces. May cause oil staining. <span class=\"excitingNote\">Keep your friends guessing!</span>\n",
       " </td><td>\n",
       " $1.50\n",
       " </td><td>\n",
       " <img src=\"../img/gifts/img6.jpg\"/>\n",
       " </td></tr>,\n",
       " <td>\n",
       " Mystery Box\n",
       " </td>,\n",
       " <td>\n",
       " If you love suprises, this mystery box is for you! Do not place on light-colored surfaces. May cause oil staining. <span class=\"excitingNote\">Keep your friends guessing!</span>\n",
       " </td>,\n",
       " <span class=\"excitingNote\">Keep your friends guessing!</span>,\n",
       " <td>\n",
       " $1.50\n",
       " </td>,\n",
       " <td>\n",
       " <img src=\"../img/gifts/img6.jpg\"/>\n",
       " </td>,\n",
       " <img src=\"../img/gifts/img6.jpg\"/>,\n",
       " <div id=\"footer\">\n",
       " © Totally Normal Gifts, Inc. <br/>\n",
       " +234 (617) 863-0736\n",
       " </div>,\n",
       " <br/>]"
      ]
     },
     "execution_count": 226,
     "metadata": {},
     "output_type": "execute_result"
    }
   ],
   "source": [
    "bs.findAll([True,False,True])"
   ]
  },
  {
   "cell_type": "code",
   "execution_count": 23,
   "id": "2f8a08ba-afc8-42e2-99c7-965fad01eec9",
   "metadata": {
    "scrolled": true
   },
   "outputs": [],
   "source": [
    "from urllib.request import urlopen\n",
    "from bs4 import BeautifulSoup\n",
    "html = urlopen('https://en.wikipedia.org/wiki/Kevin_Bacon')"
   ]
  },
  {
   "cell_type": "code",
   "execution_count": 24,
   "id": "b4c1a7f2-6873-4dbf-9c59-47e3cf38efdc",
   "metadata": {},
   "outputs": [],
   "source": [
    "bs = BeautifulSoup(html, 'html.parser')"
   ]
  },
  {
   "cell_type": "code",
   "execution_count": 25,
   "id": "9466de7e-c62e-4035-83c7-f3f159e9ddc8",
   "metadata": {},
   "outputs": [],
   "source": [
    "links =[]\n",
    "for link in bs .find_all('a'):\n",
    "    if 'href' in link.attrs:\n",
    "        links.append(link.attrs['href'])"
   ]
  },
  {
   "cell_type": "code",
   "execution_count": 26,
   "id": "6843e60d-56f2-43e9-9c62-3da862e63e16",
   "metadata": {},
   "outputs": [
    {
     "data": {
      "text/plain": [
       "False"
      ]
     },
     "execution_count": 26,
     "metadata": {},
     "output_type": "execute_result"
    }
   ],
   "source": [
    "'abc' in {'href':'abc'}"
   ]
  },
  {
   "cell_type": "code",
   "execution_count": 27,
   "id": "2e874fa8-efff-459b-ba6f-b45f711ba1c9",
   "metadata": {},
   "outputs": [],
   "source": [
    "links =[]\n",
    "for link in bs.find_all('a'):\n",
    "    link.attrs.get('href')"
   ]
  },
  {
   "cell_type": "code",
   "execution_count": 28,
   "id": "636d1bd4-4207-4e53-a1a5-2b8653292708",
   "metadata": {},
   "outputs": [],
   "source": [
    "links =[]\n",
    "for link in bs.find_all('a'):\n",
    "    \n",
    "        links.append(link.attrs.get('href'))"
   ]
  },
  {
   "cell_type": "code",
   "execution_count": 29,
   "id": "33aace9f-1dff-41e0-8e88-a16c9a4eb29a",
   "metadata": {
    "scrolled": true
   },
   "outputs": [
    {
     "data": {
      "text/plain": [
       "['#bodyContent',\n",
       " '/wiki/Main_Page',\n",
       " '/wiki/Wikipedia:Contents',\n",
       " '/wiki/Portal:Current_events',\n",
       " '/wiki/Special:Random',\n",
       " '/wiki/Wikipedia:About',\n",
       " '//en.wikipedia.org/wiki/Wikipedia:Contact_us',\n",
       " 'https://donate.wikimedia.org/wiki/Special:FundraiserRedirector?utm_source=donate&utm_medium=sidebar&utm_campaign=C13_en.wikipedia.org&uselang=en',\n",
       " '/wiki/Help:Contents',\n",
       " '/wiki/Help:Introduction',\n",
       " '/wiki/Wikipedia:Community_portal',\n",
       " '/wiki/Special:RecentChanges',\n",
       " '/wiki/Wikipedia:File_upload_wizard',\n",
       " '/wiki/Main_Page',\n",
       " '/wiki/Special:Search',\n",
       " '/w/index.php?title=Special:CreateAccount&returnto=Kevin+Bacon',\n",
       " '/w/index.php?title=Special:UserLogin&returnto=Kevin+Bacon',\n",
       " '/w/index.php?title=Special:CreateAccount&returnto=Kevin+Bacon',\n",
       " '/w/index.php?title=Special:UserLogin&returnto=Kevin+Bacon',\n",
       " '/wiki/Help:Introduction',\n",
       " '/wiki/Special:MyContributions',\n",
       " '/wiki/Special:MyTalk',\n",
       " '#',\n",
       " '#Early_life_and_education',\n",
       " '#Acting_career',\n",
       " '#Early_work',\n",
       " '#1980s',\n",
       " '#1990s',\n",
       " '#2000s',\n",
       " '#2010s',\n",
       " '#Other_ventures',\n",
       " '#Six_Degrees_of_Kevin_Bacon',\n",
       " '#Personal_life',\n",
       " '#Accolades',\n",
       " '#Awards_and_nominations',\n",
       " '#Other_honors',\n",
       " '#See_also',\n",
       " '#References',\n",
       " '#External_links',\n",
       " 'https://af.wikipedia.org/wiki/Kevin_Bacon',\n",
       " 'https://ar.wikipedia.org/wiki/%D9%83%D9%8A%D9%81%D9%8A%D9%86_%D8%A8%D9%8A%D9%83%D9%86',\n",
       " 'https://an.wikipedia.org/wiki/Kevin_Bacon',\n",
       " 'https://ast.wikipedia.org/wiki/Kevin_Bacon',\n",
       " 'https://azb.wikipedia.org/wiki/%DA%A9%D9%88%DB%8C%D9%86_%D8%A8%DB%8C%DA%A9%D9%86',\n",
       " 'https://zh-min-nan.wikipedia.org/wiki/Kevin_Bacon',\n",
       " 'https://be.wikipedia.org/wiki/%D0%9A%D0%B5%D0%B2%D1%96%D0%BD_%D0%91%D1%8D%D0%B9%D0%BA%D0%B0%D0%BD',\n",
       " 'https://bi.wikipedia.org/wiki/Kevin_Bacon',\n",
       " 'https://bg.wikipedia.org/wiki/%D0%9A%D0%B5%D0%B2%D0%B8%D0%BD_%D0%91%D0%B5%D0%B9%D0%BA%D1%8A%D0%BD',\n",
       " 'https://bs.wikipedia.org/wiki/Kevin_Bacon',\n",
       " 'https://ca.wikipedia.org/wiki/Kevin_Bacon',\n",
       " 'https://cs.wikipedia.org/wiki/Kevin_Bacon',\n",
       " 'https://da.wikipedia.org/wiki/Kevin_Bacon',\n",
       " 'https://de.wikipedia.org/wiki/Kevin_Bacon',\n",
       " 'https://el.wikipedia.org/wiki/%CE%9A%CE%AD%CE%B2%CE%B9%CE%BD_%CE%9C%CF%80%CE%AD%CE%B9%CE%BA%CE%BF%CE%BD',\n",
       " 'https://eml.wikipedia.org/wiki/Kevin_Bacon',\n",
       " 'https://es.wikipedia.org/wiki/Kevin_Bacon',\n",
       " 'https://eo.wikipedia.org/wiki/Kevin_Bacon',\n",
       " 'https://eu.wikipedia.org/wiki/Kevin_Bacon',\n",
       " 'https://fa.wikipedia.org/wiki/%DA%A9%D9%88%DB%8C%D9%86_%D8%A8%DB%8C%DA%A9%D9%86',\n",
       " 'https://fr.wikipedia.org/wiki/Kevin_Bacon',\n",
       " 'https://ga.wikipedia.org/wiki/Kevin_Bacon',\n",
       " 'https://gl.wikipedia.org/wiki/Kevin_Bacon',\n",
       " 'https://ko.wikipedia.org/wiki/%EC%BC%80%EB%B9%88_%EB%B2%A0%EC%9D%B4%EC%BB%A8',\n",
       " 'https://hy.wikipedia.org/wiki/%D5%94%D6%87%D5%AB%D5%B6_%D4%B2%D5%A5%D5%B5%D6%84%D5%B8%D5%B6',\n",
       " 'https://hr.wikipedia.org/wiki/Kevin_Bacon',\n",
       " 'https://io.wikipedia.org/wiki/Kevin_Bacon',\n",
       " 'https://id.wikipedia.org/wiki/Kevin_Bacon',\n",
       " 'https://it.wikipedia.org/wiki/Kevin_Bacon',\n",
       " 'https://he.wikipedia.org/wiki/%D7%A7%D7%95%D7%95%D7%99%D7%9F_%D7%91%D7%99%D7%99%D7%A7%D7%95%D7%9F',\n",
       " 'https://ka.wikipedia.org/wiki/%E1%83%99%E1%83%94%E1%83%95%E1%83%98%E1%83%9C_%E1%83%91%E1%83%94%E1%83%98%E1%83%99%E1%83%9D%E1%83%9C%E1%83%98',\n",
       " 'https://kk.wikipedia.org/wiki/%D0%9A%D0%B5%D0%B2%D0%B8%D0%BD_%D0%91%D1%8D%D0%B9%D0%BA%D0%BE%D0%BD',\n",
       " 'https://lv.wikipedia.org/wiki/Kevins_Beikons',\n",
       " 'https://hu.wikipedia.org/wiki/Kevin_Bacon',\n",
       " 'https://xmf.wikipedia.org/wiki/%E1%83%99%E1%83%94%E1%83%95%E1%83%98%E1%83%9C_%E1%83%91%E1%83%94%E1%83%98%E1%83%99%E1%83%9D%E1%83%9C%E1%83%98',\n",
       " 'https://arz.wikipedia.org/wiki/%D9%83%D9%8A%D9%81%D9%8A%D9%86_%D8%A8%D9%8A%D9%83%D9%86',\n",
       " 'https://ms.wikipedia.org/wiki/Kevin_Bacon',\n",
       " 'https://mn.wikipedia.org/wiki/%D0%9A%D0%B5%D0%B2%D0%B8%D0%BD_%D0%91%D1%8D%D0%B9%D0%BA%D0%BE%D0%BD',\n",
       " 'https://nl.wikipedia.org/wiki/Kevin_Bacon',\n",
       " 'https://ja.wikipedia.org/wiki/%E3%82%B1%E3%83%B4%E3%82%A3%E3%83%B3%E3%83%BB%E3%83%99%E3%83%BC%E3%82%B3%E3%83%B3',\n",
       " 'https://no.wikipedia.org/wiki/Kevin_Bacon',\n",
       " 'https://oc.wikipedia.org/wiki/Kevin_Bacon',\n",
       " 'https://uz.wikipedia.org/wiki/Kevin_Bacon',\n",
       " 'https://pl.wikipedia.org/wiki/Kevin_Bacon',\n",
       " 'https://pt.wikipedia.org/wiki/Kevin_Bacon',\n",
       " 'https://ro.wikipedia.org/wiki/Kevin_Bacon',\n",
       " 'https://ru.wikipedia.org/wiki/%D0%91%D0%B5%D0%B9%D0%BA%D0%BE%D0%BD,_%D0%9A%D0%B5%D0%B2%D0%B8%D0%BD',\n",
       " 'https://sco.wikipedia.org/wiki/Kevin_Bacon',\n",
       " 'https://simple.wikipedia.org/wiki/Kevin_Bacon',\n",
       " 'https://sk.wikipedia.org/wiki/Kevin_Bacon',\n",
       " 'https://ckb.wikipedia.org/wiki/%DA%A9%DB%8E%DA%A4%D9%86_%D8%A8%DB%95%DB%8C%DA%A9%D9%86',\n",
       " 'https://sr.wikipedia.org/wiki/%D0%9A%D0%B5%D0%B2%D0%B8%D0%BD_%D0%91%D0%B5%D1%98%D0%BA%D0%BE%D0%BD',\n",
       " 'https://sh.wikipedia.org/wiki/Kevin_Bacon',\n",
       " 'https://fi.wikipedia.org/wiki/Kevin_Bacon',\n",
       " 'https://sv.wikipedia.org/wiki/Kevin_Bacon',\n",
       " 'https://th.wikipedia.org/wiki/%E0%B9%80%E0%B8%84%E0%B8%A7%E0%B8%B4%E0%B8%99_%E0%B9%80%E0%B8%9A%E0%B8%84%E0%B8%AD%E0%B8%99',\n",
       " 'https://tr.wikipedia.org/wiki/Kevin_Bacon',\n",
       " 'https://uk.wikipedia.org/wiki/%D0%9A%D0%B5%D0%B2%D1%96%D0%BD_%D0%91%D0%B5%D0%B9%D0%BA%D0%BE%D0%BD',\n",
       " 'https://vi.wikipedia.org/wiki/Kevin_Bacon',\n",
       " 'https://wuu.wikipedia.org/wiki/%E5%87%AF%E6%96%87%C2%B7%E8%B4%9D%E8%82%AF',\n",
       " 'https://zh-yue.wikipedia.org/wiki/%E5%A5%87%E9%9B%B2%E8%B2%9D%E6%A0%B9',\n",
       " 'https://zh.wikipedia.org/wiki/%E5%87%AF%E6%96%87%C2%B7%E8%B4%9D%E8%82%AF',\n",
       " 'https://www.wikidata.org/wiki/Special:EntityPage/Q3454165#sitelinks-wikipedia',\n",
       " '/wiki/Kevin_Bacon',\n",
       " '/wiki/Talk:Kevin_Bacon',\n",
       " '/wiki/Kevin_Bacon',\n",
       " '/w/index.php?title=Kevin_Bacon&action=edit',\n",
       " '/w/index.php?title=Kevin_Bacon&action=history',\n",
       " '/wiki/Kevin_Bacon',\n",
       " '/w/index.php?title=Kevin_Bacon&action=edit',\n",
       " '/w/index.php?title=Kevin_Bacon&action=history',\n",
       " '/wiki/Special:WhatLinksHere/Kevin_Bacon',\n",
       " '/wiki/Special:RecentChangesLinked/Kevin_Bacon',\n",
       " '/wiki/Wikipedia:File_Upload_Wizard',\n",
       " '/wiki/Special:SpecialPages',\n",
       " '/w/index.php?title=Kevin_Bacon&oldid=1212708853',\n",
       " '/w/index.php?title=Kevin_Bacon&action=info',\n",
       " '/w/index.php?title=Special:CiteThisPage&page=Kevin_Bacon&id=1212708853&wpFormIdentifier=titleform',\n",
       " '/w/index.php?title=Special:UrlShortener&url=https%3A%2F%2Fen.wikipedia.org%2Fwiki%2FKevin_Bacon',\n",
       " '/w/index.php?title=Special:QrCode&url=https%3A%2F%2Fen.wikipedia.org%2Fwiki%2FKevin_Bacon',\n",
       " 'https://www.wikidata.org/wiki/Special:EntityPage/Q3454165',\n",
       " '/w/index.php?title=Special:DownloadAsPdf&page=Kevin_Bacon&action=show-download-screen',\n",
       " '/w/index.php?title=Kevin_Bacon&printable=yes',\n",
       " 'https://commons.wikimedia.org/wiki/Kevin_Bacon',\n",
       " '/wiki/Wikipedia:Protection_policy#semi',\n",
       " '/wiki/Kevin_Bacon_(disambiguation)',\n",
       " '/wiki/File:Kevin_Bacon_SDCC_2014.jpg',\n",
       " '/wiki/Philadelphia',\n",
       " '/wiki/Kevin_Bacon_filmography',\n",
       " '/wiki/Kyra_Sedgwick',\n",
       " '/wiki/Sosie_Bacon',\n",
       " '#cite_note-1',\n",
       " '/wiki/Edmund_Bacon_(architect)',\n",
       " '/wiki/Michael_Bacon_(musician)',\n",
       " 'http://baconbros.com',\n",
       " '#cite_note-2',\n",
       " '#cite_note-actor-3',\n",
       " '/wiki/Leading_man',\n",
       " '/wiki/Character_actor',\n",
       " '/wiki/Golden_Globe_Award',\n",
       " '/wiki/Screen_Actors_Guild_Award',\n",
       " '/wiki/Primetime_Emmy_Award',\n",
       " '/wiki/National_Lampoon%27s_Animal_House',\n",
       " '/wiki/Footloose_(1984_film)',\n",
       " '/wiki/Diner_(1982_film)',\n",
       " '/wiki/JFK_(film)',\n",
       " '/wiki/A_Few_Good_Men',\n",
       " '/wiki/Apollo_13_(film)',\n",
       " '/wiki/Mystic_River_(film)',\n",
       " '/wiki/Frost/Nixon_(film)',\n",
       " '/wiki/Friday_the_13th_(1980_film)',\n",
       " '/wiki/Tremors_(1990_film)',\n",
       " '/wiki/The_River_Wild',\n",
       " '/wiki/The_Woodsman_(2004_film)',\n",
       " '/wiki/Crazy,_Stupid,_Love',\n",
       " '/wiki/X-Men:_First_Class',\n",
       " '/wiki/Patriots_Day_(film)',\n",
       " '/wiki/Losing_Chase',\n",
       " '/wiki/Loverboy_(2005_film)',\n",
       " '/wiki/Golden_Globe_Award_for_Best_Actor_%E2%80%93_Miniseries_or_Television_Film',\n",
       " '/wiki/Screen_Actors_Guild_Award_for_Outstanding_Performance_by_a_Male_Actor_in_a_Miniseries_or_Television_Movie',\n",
       " '/wiki/Michael_Strobl',\n",
       " '/wiki/HBO',\n",
       " '/wiki/Taking_Chance',\n",
       " '/wiki/Fox_Broadcasting_Company',\n",
       " '/wiki/The_Following',\n",
       " '/wiki/Amazon_Prime_Video',\n",
       " '/wiki/I_Love_Dick_(TV_series)',\n",
       " '/wiki/Golden_Globe_Award_for_Best_Actor_%E2%80%93_Television_Series_Musical_or_Comedy',\n",
       " '/wiki/Showtime_(TV_network)',\n",
       " '/wiki/City_on_a_Hill_(TV_series)',\n",
       " '#cite_note-4',\n",
       " '/wiki/The_Guardian',\n",
       " '/wiki/Academy_Award',\n",
       " '#cite_note-5',\n",
       " '/wiki/Hollywood_Walk_of_Fame',\n",
       " '#cite_note-6',\n",
       " '/wiki/Six_Degrees_of_Kevin_Bacon',\n",
       " '/wiki/EE_Limited',\n",
       " '#cite_note-7',\n",
       " '/wiki/Kyra_Sedgwick',\n",
       " '/wiki/Philadelphia',\n",
       " '#cite_note-actor-3',\n",
       " '#cite_note-actor-3',\n",
       " '/wiki/Edmund_Bacon_(architect)',\n",
       " '/wiki/Urban_planning',\n",
       " '/wiki/Design_of_Cities',\n",
       " '#cite_note-bacon-8',\n",
       " '/wiki/Julia_R._Masterman_School',\n",
       " '/wiki/Spring_Garden,_Philadelphia',\n",
       " '#cite_note-9',\n",
       " '/wiki/Pennsylvania_Governor%27s_School_for_the_Arts',\n",
       " '/wiki/Bucknell_University',\n",
       " '/wiki/Lewisburg,_Pennsylvania',\n",
       " '#cite_note-10',\n",
       " '/wiki/Glory_Van_Scott',\n",
       " '#cite_note-walk-11',\n",
       " '#cite_note-bacon-8',\n",
       " '/wiki/Kevin_Bacon_filmography',\n",
       " '/wiki/Circle_in_the_Square',\n",
       " '/wiki/Nancy_Mills',\n",
       " '/wiki/Cosmopolitan_(magazine)',\n",
       " '#cite_note-cosmo91-12',\n",
       " '/wiki/Fraternities_and_sororities',\n",
       " '/wiki/Animal_House',\n",
       " '#cite_note-bacon-8',\n",
       " '/wiki/Search_for_Tomorrow',\n",
       " '/wiki/Guiding_Light',\n",
       " '/wiki/Friday_the_13th_(1980_film)',\n",
       " '#cite_note-13',\n",
       " '/wiki/Getting_Out',\n",
       " '/wiki/Phoenix_Theater',\n",
       " '/wiki/Flux',\n",
       " '/wiki/Second_Stage_Theatre',\n",
       " '#cite_note-bio-14',\n",
       " '/wiki/Obie_Award',\n",
       " '/wiki/Forty_Deuce',\n",
       " '#cite_note-kevin-15',\n",
       " '/wiki/Slab_Boys',\n",
       " '/wiki/Sean_Penn',\n",
       " '/wiki/Val_Kilmer',\n",
       " '/wiki/Barry_Levinson',\n",
       " '/wiki/Diner_(1982_film)',\n",
       " '/wiki/Steve_Guttenberg',\n",
       " '/wiki/Daniel_Stern_(actor)',\n",
       " '/wiki/Mickey_Rourke',\n",
       " '/wiki/Tim_Daly',\n",
       " '/wiki/Ellen_Barkin',\n",
       " '#cite_note-16',\n",
       " '/wiki/Footloose_(1984_film)',\n",
       " '#cite_note-bio-14',\n",
       " '/wiki/James_Dean',\n",
       " '/wiki/Rebel_Without_a_Cause',\n",
       " '/wiki/Mickey_Rooney',\n",
       " '/wiki/Judy_Garland',\n",
       " '#cite_note-time84-17',\n",
       " '#cite_note-bacon-8',\n",
       " '#cite_note-18',\n",
       " '#cite_note-19',\n",
       " '/wiki/Typecasting_(acting)',\n",
       " '/wiki/John_Hughes_(filmmaker)',\n",
       " '/wiki/Planes,_Trains_and_Automobiles',\n",
       " '#cite_note-20',\n",
       " '/wiki/She%27s_Having_a_Baby',\n",
       " '#cite_note-bio-14',\n",
       " '/wiki/The_Big_Picture_(1989_film)',\n",
       " '#cite_note-21',\n",
       " '/wiki/Tremors_(1990_film)',\n",
       " '#cite_note-22',\n",
       " '/wiki/Joel_Schumacher',\n",
       " '/wiki/Flatliners',\n",
       " '#cite_note-bio-14',\n",
       " '/wiki/Elizabeth_Perkins',\n",
       " '/wiki/He_Said,_She_Said_(film)',\n",
       " '#cite_note-bio-14',\n",
       " '/wiki/The_New_York_Times',\n",
       " '#cite_note-nyt94-23',\n",
       " '/wiki/Oliver_Stone',\n",
       " '/wiki/JFK_(film)',\n",
       " '#cite_note-24',\n",
       " '/wiki/A_Few_Good_Men_(film)',\n",
       " '#cite_note-25',\n",
       " '/wiki/Michael_Greif',\n",
       " '#cite_note-bio-14',\n",
       " '/wiki/Golden_Globe_Award',\n",
       " '/wiki/The_River_Wild',\n",
       " '#cite_note-bio-14',\n",
       " '/wiki/Meryl_Streep',\n",
       " '/wiki/Murder_in_the_First_(film)',\n",
       " '#cite_note-bio-14',\n",
       " '/wiki/Blockbuster_(entertainment)',\n",
       " '/wiki/Apollo_13_(film)',\n",
       " '#cite_note-26',\n",
       " '/wiki/Sleepers_(film)',\n",
       " '#cite_note-27',\n",
       " '/wiki/Picture_Perfect_(1997_film)',\n",
       " '#cite_note-bio-14',\n",
       " '/wiki/Losing_Chase',\n",
       " '#cite_note-austin-28',\n",
       " '/wiki/Digging_to_China',\n",
       " '#cite_note-bio-14',\n",
       " '/wiki/Payola',\n",
       " '/wiki/Telling_Lies_in_America_(film)',\n",
       " '#cite_note-bio-14',\n",
       " '/wiki/Wild_Things_(film)',\n",
       " '/wiki/Stir_of_Echoes',\n",
       " '/wiki/David_Koepp',\n",
       " '#cite_note-29',\n",
       " '/wiki/File:Kevin_Bacon_Cannes_2004.jpg',\n",
       " '/wiki/Cannes_Film_Festival',\n",
       " '/wiki/Paul_Verhoeven',\n",
       " '/wiki/Hollow_Man',\n",
       " '#cite_note-30',\n",
       " '/wiki/Colin_Firth',\n",
       " '/wiki/Rachel_Blanchard',\n",
       " '/wiki/M%C3%A9nage_%C3%A0_trois',\n",
       " '/wiki/Where_the_Truth_Lies',\n",
       " '#cite_note-31',\n",
       " '/wiki/Atom_Egoyan',\n",
       " '/wiki/MPAA',\n",
       " '/wiki/MPAA_film_rating_system',\n",
       " '#cite_note-32',\n",
       " '/wiki/My_Dog_Skip_(film)',\n",
       " '#cite_note-33',\n",
       " '/wiki/Sean_Penn',\n",
       " '/wiki/Tim_Robbins',\n",
       " '/wiki/Clint_Eastwood',\n",
       " '/wiki/Mystic_River_(film)',\n",
       " '/wiki/The_Woodsman_(2004_film)',\n",
       " '#cite_note-34',\n",
       " '/wiki/Beauty_Shop',\n",
       " '/wiki/Queen_Latifah',\n",
       " '/wiki/HBO_Films',\n",
       " '/wiki/Taking_Chance',\n",
       " '/wiki/Michael_Strobl',\n",
       " '/wiki/Desert_Storm',\n",
       " '#cite_note-35',\n",
       " '/wiki/Screen_Actors_Guild_Award_for_Outstanding_Performance_by_a_Male_Actor_in_a_Miniseries_or_Television_Movie',\n",
       " '/wiki/File:Black_Mass_PC_04_(21429102646).jpg',\n",
       " '/wiki/Toronto_Film_Festival',\n",
       " '/wiki/Matthew_Vaughn',\n",
       " '/wiki/X-Men:_First_Class',\n",
       " '/wiki/Sebastian_Shaw_(comics)',\n",
       " '#cite_note-36',\n",
       " '#cite_note-37',\n",
       " '/wiki/Crazy,_Stupid,_Love',\n",
       " '/wiki/Dustin_Lance_Black',\n",
       " '/wiki/8_(play)',\n",
       " '/wiki/Perry_v._Brown',\n",
       " '/wiki/Proposition_8',\n",
       " '/wiki/Charles_J._Cooper',\n",
       " '#cite_note-8_the_play-38',\n",
       " '/wiki/Wilshire_Ebell_Theatre',\n",
       " '/wiki/American_Foundation_for_Equal_Rights',\n",
       " '#cite_note-8_play_video-39',\n",
       " '#cite_note-40',\n",
       " '/wiki/The_Following',\n",
       " '#cite_note-41',\n",
       " '/wiki/Saturn_Award_for_Best_Actor_on_Television',\n",
       " '#cite_note-42',\n",
       " '/wiki/Black_Mass_(film)',\n",
       " '/wiki/Johnny_Depp',\n",
       " '/wiki/Huffington_Post',\n",
       " '/wiki/Tremors_(1990_film)',\n",
       " '#cite_note-43',\n",
       " '/wiki/Tremors_5:_Bloodline',\n",
       " '/wiki/Patriots_Day_(film)',\n",
       " '/wiki/Boston_Marathon_bombing',\n",
       " '/wiki/The_Bacon_Brothers',\n",
       " '/wiki/Michael_Bacon_(musician)',\n",
       " '#cite_note-44',\n",
       " '/wiki/Instagram',\n",
       " '#cite_note-45',\n",
       " '/wiki/Old_97%27s',\n",
       " '/wiki/The_Guardians_of_the_Galaxy_Holiday_Special',\n",
       " '#cite_note-46',\n",
       " '/wiki/EE_(telecommunications_company)',\n",
       " '#cite_note-47',\n",
       " '#cite_note-48',\n",
       " '#cite_note-49',\n",
       " '/wiki/Six_Degrees_of_Kevin_Bacon',\n",
       " '/wiki/Trivia',\n",
       " '/wiki/Big_screen',\n",
       " '/wiki/Six_degrees_of_separation',\n",
       " '/wiki/Internet_meme',\n",
       " '/wiki/SixDegrees.org',\n",
       " '/wiki/Social_networking_service',\n",
       " '#cite_note-50',\n",
       " '/wiki/Six_Degrees_of_Kevin_Bacon',\n",
       " '/wiki/IMDb',\n",
       " '#cite_note-51',\n",
       " '/wiki/Paul_Erd%C5%91s',\n",
       " '/wiki/Erd%C5%91s_number',\n",
       " '/wiki/Paul_Erd%C5%91s',\n",
       " '/wiki/Erd%C5%91s_number',\n",
       " '/wiki/Erd%C5%91s%E2%80%93Bacon_number',\n",
       " '#cite_note-52',\n",
       " '/wiki/Kyra_Sedgwick',\n",
       " '/wiki/PBS',\n",
       " '/wiki/Lanford_Wilson',\n",
       " '/wiki/Lemon_Sky',\n",
       " '#cite_note-cosmo91-12',\n",
       " '/wiki/Pyrates',\n",
       " '/wiki/Murder_in_the_First_(film)',\n",
       " '/wiki/The_Woodsman_(2004_film)',\n",
       " '/wiki/Loverboy_(2005_film)',\n",
       " '/w/index.php?title=Travis_Sedgwick&action=edit&redlink=1',\n",
       " '/wiki/Sosie_Bacon',\n",
       " '/wiki/Upper_West_Side',\n",
       " '/wiki/Manhattan',\n",
       " '#cite_note-53',\n",
       " '/wiki/Tracy_Pollan',\n",
       " '#cite_note-54',\n",
       " '/wiki/Separation_of_church_and_state_in_the_United_States',\n",
       " '#cite_note-55',\n",
       " '#cite_note-56',\n",
       " '/wiki/The_Times',\n",
       " '/wiki/Atheism',\n",
       " '#cite_note-57',\n",
       " '/wiki/Antireligion',\n",
       " '#cite_note-58',\n",
       " '/wiki/Will.i.am',\n",
       " '/wiki/It%27s_a_New_Day_(Will.i.am_song)',\n",
       " '/wiki/Barack_Obama',\n",
       " '/wiki/Ponzi_scheme',\n",
       " '/wiki/Bernie_Madoff',\n",
       " '#cite_note-financialpost-59',\n",
       " '#cite_note-60',\n",
       " '/wiki/Finding_Your_Roots',\n",
       " '/wiki/Henry_Louis_Gates',\n",
       " '#cite_note-61',\n",
       " '#cite_note-62',\n",
       " '#cite_note-63',\n",
       " '#cite_note-64',\n",
       " '/wiki/Apollo_13_(film)',\n",
       " '#cite_note-65',\n",
       " '/wiki/Mystic_River_(film)',\n",
       " '/wiki/Blockbuster_Entertainment_Awards',\n",
       " '/wiki/Blockbuster_Entertainment_Awards',\n",
       " '#cite_note-66',\n",
       " '/wiki/Hollow_Man',\n",
       " '/wiki/Boston_Society_of_Film_Critics',\n",
       " '/wiki/Boston_Society_of_Film_Critics_Award_for_Best_Cast',\n",
       " '#cite_note-67',\n",
       " '/wiki/Mystic_River_(film)',\n",
       " '/wiki/Bravo_Otto',\n",
       " '/wiki/Bravo_Otto',\n",
       " '/wiki/Footloose_(1984_film)',\n",
       " '/wiki/CableACE_Award',\n",
       " '/wiki/CableACE_Award',\n",
       " '/wiki/Losing_Chase',\n",
       " '/wiki/Chlotrudis_Awards',\n",
       " '/wiki/The_Woodsman_(2004_film)',\n",
       " '/wiki/Critics%27_Choice_Movie_Awards',\n",
       " '/wiki/Critics%27_Choice_Movie_Award_for_Best_Actor',\n",
       " '/wiki/Murder_in_the_First_(film)',\n",
       " '/wiki/Ghent_International_Film_Festival',\n",
       " '/wiki/Ghent_International_Film_Festival',\n",
       " '/wiki/The_Woodsman_(2004_film)',\n",
       " '/wiki/Giffoni_Film_Festival',\n",
       " '/wiki/Giffoni_Film_Festival',\n",
       " '/wiki/Digging_to_China',\n",
       " '/wiki/Mystic_River_(film)',\n",
       " '/wiki/Golden_Globe_Award',\n",
       " '/wiki/Golden_Globe_Award_for_Best_Supporting_Actor_%E2%80%93_Motion_Picture',\n",
       " '/wiki/The_River_Wild',\n",
       " '/wiki/Golden_Globe_Award_for_Best_Actor_%E2%80%93_Miniseries_or_Television_Film',\n",
       " '/wiki/Taking_Chance',\n",
       " '/wiki/Golden_Globe_Award_for_Best_Actor_%E2%80%93_Television_Series_Musical_or_Comedy',\n",
       " '/wiki/I_Love_Dick_(TV_series)',\n",
       " '/wiki/Independent_Spirit_Awards',\n",
       " '/wiki/Independent_Spirit_Award_for_Best_Male_Lead',\n",
       " '/wiki/The_Woodsman_(2004_film)',\n",
       " '/wiki/Mystic_River_(film)',\n",
       " '/wiki/MTV_Movie_%26_TV_Awards',\n",
       " '/wiki/MTV_Movie_Award_for_Best_Villain',\n",
       " '/wiki/Hollow_Man',\n",
       " '/wiki/Taking_Chance',\n",
       " '/wiki/The_Following',\n",
       " '/wiki/E!_People%27s_Choice_Awards',\n",
       " '/wiki/E!_People%27s_Choice_Awards',\n",
       " '/wiki/The_Following',\n",
       " '/wiki/E!_People%27s_Choice_Awards',\n",
       " '/wiki/The_Following',\n",
       " '/wiki/Primetime_Emmy_Award',\n",
       " '/wiki/Primetime_Emmy_Award_for_Outstanding_Lead_Actor_in_a_Limited_Series_or_Movie',\n",
       " '/wiki/Taking_Chance',\n",
       " '/wiki/Satellite_Awards',\n",
       " '/wiki/Satellite_Award_for_Best_Actor_%E2%80%93_Motion_Picture',\n",
       " '/wiki/The_Woodsman_(2004_film)',\n",
       " '/wiki/Satellite_Award_for_Best_Actor_%E2%80%93_Miniseries_or_Television_Film',\n",
       " '/wiki/Taking_Chance',\n",
       " '/wiki/Saturn_Award',\n",
       " '/wiki/Saturn_Award_for_Best_Actor_on_Television',\n",
       " '/wiki/The_Following',\n",
       " '/wiki/Saturn_Award_for_Best_Actor_on_Television',\n",
       " '/wiki/The_Following',\n",
       " '/wiki/Scream_Awards',\n",
       " '/wiki/Scream_Awards',\n",
       " '/wiki/X-Men:_First_Class',\n",
       " '/wiki/Screen_Actors_Guild_Award',\n",
       " '/wiki/Screen_Actors_Guild_Award_for_Outstanding_Performance_by_a_Male_Actor_in_a_Supporting_Role',\n",
       " '/wiki/Murder_in_the_First_(film)',\n",
       " '/wiki/Screen_Actors_Guild_Award_for_Outstanding_Performance_by_a_Cast_in_a_Motion_Picture',\n",
       " '/wiki/Apollo_13_(film)',\n",
       " '/wiki/Screen_Actors_Guild_Award_for_Outstanding_Performance_by_a_Cast_in_a_Motion_Picture',\n",
       " '/wiki/Mystic_River_(film)',\n",
       " '/wiki/Screen_Actors_Guild_Award_for_Outstanding_Performance_by_a_Cast_in_a_Motion_Picture',\n",
       " '/wiki/Frost/Nixon_(film)',\n",
       " '/wiki/Screen_Actors_Guild_Award_for_Outstanding_Performance_by_a_Male_Actor_in_a_Miniseries_or_Television_Movie',\n",
       " '/wiki/Taking_Chance',\n",
       " '/wiki/Teen_Choice_Awards',\n",
       " '/wiki/Teen_Choice_Award_for_Choice_Movie_Villain',\n",
       " '/wiki/Beauty_Shop',\n",
       " '/wiki/Teen_Choice_Award_for_Choice_Movie_Villain',\n",
       " '/wiki/X-Men:_First_Class',\n",
       " '/wiki/TV_Guide_Award',\n",
       " '/wiki/TV_Guide_Award',\n",
       " '/wiki/The_Following',\n",
       " '/wiki/File:Kevin_Bacon%27s_Star_Walk_of_Fame.jpg',\n",
       " '/wiki/Hollywood_Walk_of_Fame',\n",
       " '/wiki/Hollywood_Walk_of_Fame',\n",
       " '#cite_note-68',\n",
       " '/wiki/Denver_Film_Festival',\n",
       " '#cite_note-69',\n",
       " '/wiki/Phoenix_Film_Festival',\n",
       " '#cite_note-70',\n",
       " '/wiki/Santa_Barbara_International_Film_Festival',\n",
       " '#cite_note-71',\n",
       " '/wiki/Broadcast_Film_Critics_Association',\n",
       " '#cite_note-72',\n",
       " '/wiki/Seattle_International_Film_Festival',\n",
       " '#cite_note-73',\n",
       " '/wiki/List_of_actors_with_Hollywood_Walk_of_Fame_motion_picture_stars',\n",
       " '#cite_ref-1',\n",
       " 'http://www.geneall.net/U/per_page.php?id=1014399',\n",
       " '#cite_ref-2',\n",
       " 'https://web.archive.org/web/20090113222205/http://www.newenglandancestors.org/research/services/articles_gbr78.asp',\n",
       " 'http://www.newenglandancestors.org/research/services/articles_gbr78.asp',\n",
       " '#cite_ref-actor_3-0',\n",
       " '#cite_ref-actor_3-1',\n",
       " '#cite_ref-actor_3-2',\n",
       " 'http://www.biography.com/people/kevin-bacon-9542173',\n",
       " '#cite_ref-4',\n",
       " 'https://www.hollywoodreporter.com/tv/tv-news/showtime-cancels-city-on-a-hill-3-seasons-1235250089/',\n",
       " '/wiki/The_Hollywood_Reporter',\n",
       " '#cite_ref-5',\n",
       " 'https://www.theguardian.com/film/filmblog/2009/feb/19/best-actors-never-nominated-for-oscars',\n",
       " '#cite_ref-6',\n",
       " 'http://www.walkoffame.com/kevin-bacon',\n",
       " '#cite_ref-7',\n",
       " 'https://www.marketingweek.com/ee-unveils-six-degrees-of-bacon-launch-ads/',\n",
       " '#cite_ref-bacon_8-0',\n",
       " '#cite_ref-bacon_8-1',\n",
       " '#cite_ref-bacon_8-2',\n",
       " '#cite_ref-bacon_8-3',\n",
       " 'https://web.archive.org/web/20190403203113/https://www.biography.com/news/kevin-bacon-biography-facts',\n",
       " 'http://www.biography.com/news/kevin-bacon-biography-facts',\n",
       " '#cite_ref-9',\n",
       " 'https://philadelphia.cbslocal.com/top-lists/stars-from-philly-to-hollywood/',\n",
       " '#cite_ref-10',\n",
       " 'https://movies.yahoo.com/person/kevin-bacon/biography.html',\n",
       " '#cite_ref-walk_11-0',\n",
       " 'https://web.archive.org/web/20141016202657/http://www.thebiographychannel.co.uk/biographies/kevin-bacon.html',\n",
       " 'http://www.thebiographychannel.co.uk/biographies/kevin-bacon.html',\n",
       " '#cite_ref-cosmo91_12-0',\n",
       " '#cite_ref-cosmo91_12-1',\n",
       " '#cite_ref-13',\n",
       " 'http://www.nydailynews.com/entertainment/happy-halloween-superstars-start-horror-flick-gallery-1.98345',\n",
       " '#cite_ref-bio_14-0',\n",
       " '#cite_ref-bio_14-1',\n",
       " '#cite_ref-bio_14-2',\n",
       " '#cite_ref-bio_14-3',\n",
       " '#cite_ref-bio_14-4',\n",
       " '#cite_ref-bio_14-5',\n",
       " '#cite_ref-bio_14-6',\n",
       " '#cite_ref-bio_14-7',\n",
       " '#cite_ref-bio_14-8',\n",
       " '#cite_ref-bio_14-9',\n",
       " '#cite_ref-bio_14-10',\n",
       " 'https://web.archive.org/web/20160530033240/http://www.pbs.org/weta/finding-your-roots/profiles/kevin-bacon%c2%a0/',\n",
       " 'https://www.pbs.org/wnet/finding-your-roots/profiles/kevin-bacon%C2%A0/',\n",
       " '#cite_ref-kevin_15-0',\n",
       " 'https://www.tvguide.com/celebrities/kevin-bacon/bio/160550',\n",
       " '#cite_ref-16',\n",
       " 'https://web.archive.org/web/20141021030336/http://news.moviefone.com/2012/03/02/diner-30th-anniversary/',\n",
       " 'http://news.moviefone.com/2012/03/02/diner-30th-anniversary/',\n",
       " '#cite_ref-time84_17-0',\n",
       " 'https://web.archive.org/web/20080830035710/http://www.time.com/time/magazine/article/0,9171,950019,00.html',\n",
       " 'http://www.time.com/time/magazine/article/0,9171,950019,00.html',\n",
       " '#cite_ref-18',\n",
       " 'http://www.huffingtonpost.com/2014/08/25/kevin-bacon-footloose_n_5710413.html',\n",
       " '#cite_ref-19',\n",
       " 'https://web.archive.org/web/20090109152125/http://www.thebiographychannel.co.uk/biography_story/522%3A492/1/Kevin_Bacon.htm',\n",
       " 'http://www.thebiographychannel.co.uk/biography_story/522:492/1/Kevin_Bacon.htm',\n",
       " '#cite_ref-20',\n",
       " 'https://www.mentalfloss.com/article/71594/14-moving-facts-about-planes-trains-and-automobiles',\n",
       " '#cite_ref-21',\n",
       " 'https://www.nytimes.com/1994/09/25/movies/a-second-wind-is-blowing-for-kevin-bacon.html',\n",
       " '#cite_ref-22',\n",
       " 'https://www.nytimes.com/movie/review?res=9C0CE2DE1631F93AA25752C0A966958260',\n",
       " '#cite_ref-nyt94_23-0',\n",
       " 'https://query.nytimes.com/gst/fullpage.html?res=9C07E6D91F3BF936A1575AC0A962958260',\n",
       " '#cite_ref-24',\n",
       " 'http://www.jfk-online.com/jfkbacon.html',\n",
       " '#cite_ref-25',\n",
       " 'http://www.tcm.com/this-month/article/143158%7C0/A-Few-Good-Men.html',\n",
       " '#cite_ref-26',\n",
       " 'http://collider.com/kevin-bacon-commercials-footloose/',\n",
       " '#cite_ref-27',\n",
       " 'http://www.rogerebert.com/reviews/sleepers-1996',\n",
       " '#cite_ref-austin_28-0',\n",
       " 'http://www.austinchronicle.com/calendar/film/1997-02-07/283342/',\n",
       " '/wiki/The_Austin_Chronicle',\n",
       " '#cite_ref-29',\n",
       " 'http://www.criminalelement.com/blogs/2013/09/under-the-raderhorror-movies-you-may-have-missed-stir-of-echoes',\n",
       " '#cite_ref-30',\n",
       " 'http://www.rogerebert.com/reviews/hollow-man-2000',\n",
       " '#cite_ref-31',\n",
       " 'https://web.archive.org/web/20141017080013/http://movies.about.com/od/wherethetruthlies/a/truthkb101305.htm',\n",
       " 'http://movies.about.com/od/wherethetruthlies/a/truthkb101305.htm',\n",
       " '#cite_ref-32',\n",
       " 'https://archive.today/20120604150801/http://jam.canoe.ca/Movies/2005/09/14/1216527.html',\n",
       " '/wiki/Template:Cite_news',\n",
       " '/wiki/Category:CS1_maint:_unfit_URL',\n",
       " '#cite_ref-33',\n",
       " 'https://archive.nytimes.com/www.nytimes.com/library/film/011200skip-film-review.html',\n",
       " '#cite_ref-34',\n",
       " 'https://web.archive.org/web/20140802203026/http://www.latimes.com/entertainment/la-et-kevin-bacon-photo6-photo.html',\n",
       " 'http://www.latimes.com/entertainment/la-et-kevin-bacon-photo6-photo.html',\n",
       " '#cite_ref-35',\n",
       " 'http://www.nydailynews.com/entertainment/tv-movies/kevin-bacon-chance-body-fallen-marine-home-article-1.392226',\n",
       " '#cite_ref-36',\n",
       " 'https://web.archive.org/web/20100722010545/http://heatvision.hollywoodreporter.com/2010/07/winters-bone-star-cast-as-mystique-in-xmen-first-class.html',\n",
       " 'http://heatvision.hollywoodreporter.com/2010/07/winters-bone-star-cast-as-mystique-in-xmen-first-class.html',\n",
       " '#cite_ref-37',\n",
       " 'https://web.archive.org/web/20100720060214/http://www.forcesofgeek.com/2010/07/kevin-bacon-playing-sebastian-shaw-in-x.html',\n",
       " 'http://www.forcesofgeek.com/2010/07/kevin-bacon-playing-sebastian-shaw-in-x.html',\n",
       " '#cite_ref-8_the_play_38-0',\n",
       " 'http://www.accesshollywood.com/jesse-tyler-ferguson/glee-stars-touched-by-brad-pitt-and-george-clooneys-support-of-8_article_61543',\n",
       " '/wiki/Access_Hollywood',\n",
       " '#cite_ref-8_play_video_39-0',\n",
       " 'https://www.youtube.com/watch?v=qlUG8F9uVgM',\n",
       " 'https://ghostarchive.org/varchive/youtube/20211211/qlUG8F9uVgM',\n",
       " '#cite_ref-40',\n",
       " 'http://www.pinknews.co.uk/2012/03/01/youtube-to-broadcast-proposition-8-play-live/',\n",
       " '#cite_ref-41',\n",
       " 'http://www.fox.com/the-following/',\n",
       " '#cite_ref-42',\n",
       " 'https://news.yahoo.com/blogs/trending-now/kevin-bacon-gives-millennials-a-history-lesson-about-the--80s-162525915.html',\n",
       " '#cite_ref-43',\n",
       " 'http://www.huffingtonpost.com.au/entry/kevin-bacon-tremors-tv-reboot_us_5655b651e4b072e9d1c13a11',\n",
       " '#cite_ref-44',\n",
       " 'http://baconbros.com/',\n",
       " '#cite_ref-45',\n",
       " 'https://www.instagram.com/p/ClUvj92p4Qn/?hl=en',\n",
       " '#cite_ref-46',\n",
       " 'https://www.marvel.com/articles/tv-shows/guardians-of-the-galaxy-holiday-special-soundtrack',\n",
       " '#cite_ref-47',\n",
       " 'http://www.campaignlive.co.uk/news/1294856/',\n",
       " '#cite_ref-48',\n",
       " 'http://parade.condenast.com/269380/ashleighschmitz/kevin-bacon-reprises-his-most-iconic-film-roles-in-british-commercial/',\n",
       " '#cite_ref-49',\n",
       " 'https://money.cnn.com/2015/03/13/media/kevin-bacon-eggs/index.html',\n",
       " '/wiki/CNN',\n",
       " '#cite_ref-50',\n",
       " 'http://www.sixdegrees.org/',\n",
       " '#cite_ref-51',\n",
       " 'http://www.webmonkey.com/2012/09/easter-egg-google-connects-the-dots-for-bacon-number-search/',\n",
       " '#cite_ref-52',\n",
       " 'https://web.archive.org/web/20121112081753/http://www.telegraph.co.uk/science/science-news/4768389/And-the-winner-tonight-is.html',\n",
       " 'https://www.telegraph.co.uk/science/science-news/4768389/And-the-winner-tonight-is.html',\n",
       " '#cite_ref-53',\n",
       " 'http://www.nydailynews.com/entertainment/tv-movies/kevin-bacon-loyalty-nyc-philly-origins-peace-bustling-city-article-1.147197',\n",
       " '#cite_ref-54',\n",
       " 'http://www.people.com/people/archive/article/0,,20093025,00.html',\n",
       " '#cite_ref-55',\n",
       " 'https://web.archive.org/web/20141023014658/https://www.au.org/media/church-and-state/archives/2008/05/two-thumbs-up.html',\n",
       " 'http://www.au.org/media/church-and-state/archives/2008/05/two-thumbs-up.html',\n",
       " '#cite_ref-56',\n",
       " 'https://www.washingtonpost.com/wp-dyn/content/article/2008/03/25/AR2008032503852.html',\n",
       " '#cite_ref-57',\n",
       " '#cite_ref-58',\n",
       " 'http://www.foxnews.com/story/0,2933,343589,00.html',\n",
       " '#cite_ref-financialpost_59-0',\n",
       " 'https://web.archive.org/web/20140314085857/http://economiccrisis.us/2009/06/may-god-spare-mercy-victim-tells-madoff/',\n",
       " 'http://economiccrisis.us/2009/06/may-god-spare-mercy-victim-tells-madoff/',\n",
       " '#cite_ref-60',\n",
       " '#cite_ref-61',\n",
       " 'http://www.huffingtonpost.com/megan-smolenyak-smolenyak/6-degrees-of-separation-k_b_900707.html',\n",
       " '#cite_ref-62',\n",
       " 'https://web.archive.org/web/20130405182304/http://www.drawtheline.org/watch-stuff/',\n",
       " 'http://www.drawtheline.org/watch-stuff',\n",
       " '#cite_ref-63',\n",
       " 'http://www.drawtheline.org/sign-now/',\n",
       " '#cite_ref-64',\n",
       " 'https://web.archive.org/web/20190214002809/http://www.awardscircuit.com/2015/07/01/pixars-toy-story-wins-top-prize-for-1995-awards-circuit-community-awards/',\n",
       " 'http://www.awardscircuit.com/2015/07/01/pixars-toy-story-wins-top-prize-for-1995-awards-circuit-community-awards/',\n",
       " '#cite_ref-65',\n",
       " 'https://web.archive.org/web/20190520150327/http://www.awardscircuit.com/acca/the-acca-nominations-2003/',\n",
       " 'http://www.awardscircuit.com/acca/the-acca-nominations-2003/',\n",
       " '#cite_ref-66',\n",
       " 'https://idobi.com/news/nsync-takes-home-three-blockbuster-entertainment-awards/',\n",
       " '#cite_ref-67',\n",
       " 'https://www.upi.com/Boston-critics-pick-Mystic-River/24961071506935/',\n",
       " '#cite_ref-68',\n",
       " 'http://www.walkoffame.com/kevin-bacon',\n",
       " '#cite_ref-69',\n",
       " 'https://www.imdb.com/event/ev0000209/2004/1/',\n",
       " '#cite_ref-70',\n",
       " 'https://www.imdb.com/event/ev0000536/2005/1/',\n",
       " '#cite_ref-71',\n",
       " 'https://www.imdb.com/event/ev0000589/2005/1/',\n",
       " '#cite_ref-72',\n",
       " 'https://archive.today/20180123031007/http://www.criticschoice.com/movie-awards/critics%E2%80%99-choice-movie-awards-winners-archive/',\n",
       " 'http://www.criticschoice.com/movie-awards/critics%E2%80%99-choice-movie-awards-winners-archive/',\n",
       " '#cite_ref-73',\n",
       " 'https://www.imdb.com/event/ev0000600/2015/1/',\n",
       " 'https://commons.wikimedia.org/wiki/Category:Kevin_Bacon',\n",
       " 'https://www.imdb.com/name/nm0000102/',\n",
       " '/wiki/IMDb_(identifier)',\n",
       " 'https://www.ibdb.com/broadway-cast-staff/90569',\n",
       " '/wiki/Internet_Broadway_Database',\n",
       " 'https://www.wikidata.org/wiki/Q3454165#P1220',\n",
       " 'http://www.iobdb.com/CreditableEntity/5597',\n",
       " '/wiki/Internet_Off-Broadway_Database',\n",
       " 'https://www.allmovie.com/artist/p3164',\n",
       " '/wiki/AllMovie',\n",
       " 'http://oracleofbacon.org',\n",
       " '/wiki/Template:Kevin_Bacon',\n",
       " '/wiki/Template_talk:Kevin_Bacon',\n",
       " '/wiki/Special:EditPage/Template:Kevin_Bacon',\n",
       " '/wiki/Kevin_Bacon_filmography',\n",
       " '/wiki/Losing_Chase',\n",
       " '/wiki/Loverboy_(2005_film)',\n",
       " '/wiki/Kyra_Sedgwick',\n",
       " '/wiki/Sosie_Bacon',\n",
       " '/wiki/Edmund_Bacon_(architect)',\n",
       " '/wiki/Michael_Bacon_(musician)',\n",
       " '/wiki/The_Bacon_Brothers',\n",
       " '/wiki/Six_Degrees_of_Kevin_Bacon',\n",
       " '/wiki/Erd%C5%91s%E2%80%93Bacon_number',\n",
       " '/wiki/SixDegrees.org',\n",
       " '/wiki/Template:Critics%27_Choice_Movie_Award_for_Best_Actor',\n",
       " '/wiki/Template_talk:Critics%27_Choice_Movie_Award_for_Best_Actor',\n",
       " '/wiki/Special:EditPage/Template:Critics%27_Choice_Movie_Award_for_Best_Actor',\n",
       " '/wiki/Critics%27_Choice_Movie_Award_for_Best_Actor',\n",
       " '/wiki/Geoffrey_Rush',\n",
       " '/wiki/Jack_Nicholson',\n",
       " '/wiki/Ian_McKellen',\n",
       " '/wiki/Russell_Crowe',\n",
       " '/wiki/Russell_Crowe',\n",
       " '/wiki/Russell_Crowe',\n",
       " '/wiki/Daniel_Day-Lewis',\n",
       " '/wiki/Jack_Nicholson',\n",
       " '/wiki/Sean_Penn',\n",
       " '/wiki/Jamie_Foxx',\n",
       " '/wiki/Philip_Seymour_Hoffman',\n",
       " '/wiki/Forest_Whitaker',\n",
       " '/wiki/Daniel_Day-Lewis',\n",
       " '/wiki/Sean_Penn',\n",
       " '/wiki/Jeff_Bridges',\n",
       " '/wiki/Colin_Firth',\n",
       " '/wiki/George_Clooney',\n",
       " '/wiki/Daniel_Day-Lewis',\n",
       " '/wiki/Matthew_McConaughey',\n",
       " '/wiki/Michael_Keaton',\n",
       " '/wiki/Leonardo_DiCaprio',\n",
       " '/wiki/Casey_Affleck',\n",
       " '/wiki/Gary_Oldman',\n",
       " '/wiki/Christian_Bale',\n",
       " '/wiki/Joaquin_Phoenix',\n",
       " '/wiki/Chadwick_Boseman',\n",
       " '/wiki/Will_Smith',\n",
       " '/wiki/Brendan_Fraser',\n",
       " '/wiki/Paul_Giamatti',\n",
       " '/wiki/Template:Golden_Globe_Best_Actor_TV_Miniseries_Film',\n",
       " '/wiki/Template_talk:Golden_Globe_Best_Actor_TV_Miniseries_Film',\n",
       " '/wiki/Special:EditPage/Template:Golden_Globe_Best_Actor_TV_Miniseries_Film',\n",
       " '/wiki/Golden_Globe_Award_for_Best_Actor_%E2%80%93_Miniseries_or_Television_Film',\n",
       " '/wiki/Mickey_Rooney',\n",
       " '/wiki/Anthony_Andrews',\n",
       " '/wiki/Richard_Chamberlain',\n",
       " '/wiki/Ted_Danson',\n",
       " '/wiki/Dustin_Hoffman',\n",
       " '/wiki/James_Woods',\n",
       " '/wiki/Randy_Quaid',\n",
       " '/wiki/Michael_Caine',\n",
       " '/wiki/Stacy_Keach',\n",
       " '/wiki/Robert_Duvall',\n",
       " '/wiki/James_Garner',\n",
       " '/wiki/Beau_Bridges',\n",
       " '/wiki/Robert_Duvall',\n",
       " '/wiki/James_Garner',\n",
       " '/wiki/Raul_Julia',\n",
       " '/wiki/Gary_Sinise',\n",
       " '/wiki/Alan_Rickman',\n",
       " '/wiki/Ving_Rhames',\n",
       " '/wiki/Stanley_Tucci',\n",
       " '/wiki/Jack_Lemmon',\n",
       " '/wiki/Brian_Dennehy',\n",
       " '/wiki/James_Franco',\n",
       " '/wiki/Albert_Finney',\n",
       " '/wiki/Al_Pacino',\n",
       " '/wiki/Geoffrey_Rush',\n",
       " '/wiki/Jonathan_Rhys_Meyers',\n",
       " '/wiki/Bill_Nighy',\n",
       " '/wiki/Jim_Broadbent',\n",
       " '/wiki/Paul_Giamatti',\n",
       " '/wiki/Al_Pacino',\n",
       " '/wiki/Idris_Elba',\n",
       " '/wiki/Kevin_Costner',\n",
       " '/wiki/Michael_Douglas',\n",
       " '/wiki/Billy_Bob_Thornton',\n",
       " '/wiki/Oscar_Isaac',\n",
       " '/wiki/Tom_Hiddleston',\n",
       " '/wiki/Ewan_McGregor',\n",
       " '/wiki/Darren_Criss',\n",
       " '/wiki/Russell_Crowe',\n",
       " '/wiki/Mark_Ruffalo',\n",
       " '/wiki/Michael_Keaton',\n",
       " '/wiki/Evan_Peters',\n",
       " '/wiki/Steven_Yeun',\n",
       " '/wiki/Template:Saturn_Award_for_Best_Actor_on_Television',\n",
       " '/wiki/Template_talk:Saturn_Award_for_Best_Actor_on_Television',\n",
       " '/wiki/Special:EditPage/Template:Saturn_Award_for_Best_Actor_on_Television',\n",
       " '/wiki/Saturn_Award_for_Best_Actor_on_Television',\n",
       " '/wiki/Saturn_Award_for_Best_Actor_on_Television',\n",
       " '/wiki/Kyle_Chandler',\n",
       " '/wiki/Steven_Weber_(actor)',\n",
       " '/wiki/Richard_Dean_Anderson',\n",
       " '/wiki/David_Boreanaz',\n",
       " '/wiki/Robert_Patrick',\n",
       " '/wiki/Ben_Browder',\n",
       " '/wiki/David_Boreanaz',\n",
       " '/wiki/David_Boreanaz',\n",
       " '/wiki/Ben_Browder',\n",
       " '/wiki/Matthew_Fox',\n",
       " '/wiki/Michael_C._Hall',\n",
       " '/wiki/Matthew_Fox',\n",
       " '/wiki/Edward_James_Olmos',\n",
       " '/wiki/Josh_Holloway',\n",
       " '/wiki/Stephen_Moyer',\n",
       " '/wiki/Bryan_Cranston',\n",
       " '/wiki/Bryan_Cranston',\n",
       " '/wiki/Mads_Mikkelsen',\n",
       " '/wiki/Hugh_Dancy',\n",
       " '/wiki/Andrew_Lincoln',\n",
       " '/wiki/Bruce_Campbell',\n",
       " '/wiki/Andrew_Lincoln',\n",
       " '/wiki/Kyle_MacLachlan',\n",
       " '/wiki/Patrick_Stewart',\n",
       " '/wiki/Saturn_Award_for_Best_Actor_in_a_Network_or_Cable_Television_Series',\n",
       " '/wiki/Sam_Heughan',\n",
       " '/wiki/Bob_Odenkirk',\n",
       " '/wiki/Saturn_Award_for_Best_Actor_in_a_Streaming_Television_Series',\n",
       " '/wiki/Henry_Thomas',\n",
       " '/wiki/Oscar_Isaac',\n",
       " '/wiki/Saturn_Award_for_Best_Actor_on_Television',\n",
       " '/wiki/Patrick_Stewart',\n",
       " '/wiki/Template:ScreenActorsGuildAward_MaleTVMiniseriesMovie',\n",
       " '/wiki/Template_talk:ScreenActorsGuildAward_MaleTVMiniseriesMovie',\n",
       " '/wiki/Special:EditPage/Template:ScreenActorsGuildAward_MaleTVMiniseriesMovie',\n",
       " '/wiki/Screen_Actors_Guild_Award_for_Outstanding_Performance_by_a_Male_Actor_in_a_Miniseries_or_Television_Movie',\n",
       " '/wiki/Raul_Julia',\n",
       " '/wiki/Gary_Sinise',\n",
       " '/wiki/Alan_Rickman',\n",
       " '/wiki/Gary_Sinise',\n",
       " '/wiki/Christopher_Reeve',\n",
       " '/wiki/Jack_Lemmon',\n",
       " '/wiki/Brian_Dennehy',\n",
       " '/wiki/Ben_Kingsley',\n",
       " '/wiki/William_H._Macy',\n",
       " '/wiki/Al_Pacino',\n",
       " '/wiki/Geoffrey_Rush',\n",
       " '/wiki/Paul_Newman',\n",
       " '/wiki/Jeremy_Irons',\n",
       " '/wiki/Kevin_Kline',\n",
       " '/wiki/Paul_Giamatti',\n",
       " '/wiki/Al_Pacino',\n",
       " '/wiki/Paul_Giamatti',\n",
       " '/wiki/Kevin_Costner',\n",
       " '/wiki/Michael_Douglas',\n",
       " '/wiki/Mark_Ruffalo',\n",
       " '/wiki/Idris_Elba',\n",
       " '/wiki/Bryan_Cranston',\n",
       " '/wiki/Alexander_Skarsg%C3%A5rd',\n",
       " '/wiki/Darren_Criss',\n",
       " '/wiki/Sam_Rockwell',\n",
       " '/wiki/Mark_Ruffalo',\n",
       " '/wiki/Michael_Keaton',\n",
       " '/wiki/Sam_Elliott',\n",
       " '/wiki/Steven_Yeun',\n",
       " '/wiki/Help:Authority_control',\n",
       " 'https://www.wikidata.org/wiki/Q3454165#identifiers',\n",
       " 'http://id.worldcat.org/fast/242183/',\n",
       " 'https://isni.org/isni/0000000121291300',\n",
       " 'https://viaf.org/viaf/39570812',\n",
       " 'https://authority.bibsys.no/authority/rest/authorities/html/98015093',\n",
       " 'http://catalogo.bne.es/uhtbin/authoritybrowse.cgi?action=display&authority_id=XX1298810',\n",
       " 'https://catalogue.bnf.fr/ark:/12148/cb139817766',\n",
       " 'https://data.bnf.fr/ark:/12148/cb139817766',\n",
       " 'https://d-nb.info/gnd/124109659',\n",
       " 'http://olduli.nli.org.il/F/?func=find-b&local_base=NLX10&find_code=UID&request=987007454685905171',\n",
       " 'https://id.loc.gov/authorities/n88034930',\n",
       " 'https://kopkatalogs.lv/F?func=direct&local_base=lnc10&doc_number=000249798&P_CON_LNG=ENG',\n",
       " 'https://aleph.nkp.cz/F/?func=find-c&local_base=aut&ccl_term=ica=xx0025279&CON_LNG=ENG',\n",
       " 'https://nla.gov.au/anbd.aut-an36021861',\n",
       " 'https://lod.nl.go.kr/resource/KAC2020K8226',\n",
       " 'http://data.bibliotheken.nl/id/thes/p147880998',\n",
       " 'https://dbn.bn.org.pl/descriptor-details/9810630778405606',\n",
       " 'https://musicbrainz.org/artist/cc0dbdfc-9b2c-4e31-8448-808412388406',\n",
       " 'https://trove.nla.gov.au/people/1189569',\n",
       " 'https://snaccooperative.org/ark:/99166/w6w67gw2',\n",
       " 'https://www.idref.fr/067287832',\n",
       " 'https://en.wikipedia.org/w/index.php?title=Kevin_Bacon&oldid=1212708853',\n",
       " '/wiki/Help:Category',\n",
       " '/wiki/Category:1958_births',\n",
       " '/wiki/Category:20th-century_American_male_actors',\n",
       " '/wiki/Category:21st-century_American_male_actors',\n",
       " '/wiki/Category:American_atheists',\n",
       " '/wiki/Category:American_male_film_actors',\n",
       " '/wiki/Category:American_male_soap_opera_actors',\n",
       " '/wiki/Category:American_male_television_actors',\n",
       " '/wiki/Category:American_male_voice_actors',\n",
       " '/wiki/Category:The_Bacon_Brothers_members',\n",
       " '/wiki/Category:Best_Miniseries_or_Television_Movie_Actor_Golden_Globe_winners',\n",
       " '/wiki/Category:Circle_in_the_Square_Theatre_School_alumni',\n",
       " '/wiki/Category:Living_people',\n",
       " '/wiki/Category:Male_actors_from_Philadelphia',\n",
       " '/wiki/Category:Obie_Award_recipients',\n",
       " '/wiki/Category:Outstanding_Performance_by_a_Cast_in_a_Motion_Picture_Screen_Actors_Guild_Award_winners',\n",
       " '/wiki/Category:Outstanding_Performance_by_a_Male_Actor_in_a_Miniseries_or_Television_Movie_Screen_Actors_Guild_Award_winners',\n",
       " '/wiki/Category:Sedgwick_family',\n",
       " '/wiki/Category:Male_actors_from_Manhattan',\n",
       " '/wiki/Category:People_from_the_Upper_West_Side',\n",
       " '/wiki/Category:CS1_maint:_unfit_URL',\n",
       " '/wiki/Category:Use_American_English_from_April_2023',\n",
       " '/wiki/Category:All_Wikipedia_articles_written_in_American_English',\n",
       " '/wiki/Category:Articles_with_short_description',\n",
       " '/wiki/Category:Short_description_matches_Wikidata',\n",
       " '/wiki/Category:Wikipedia_indefinitely_semi-protected_biographies_of_living_people',\n",
       " '/wiki/Category:Use_mdy_dates_from_April_2023',\n",
       " '/wiki/Category:Articles_with_hCards',\n",
       " '/wiki/Category:Commons_category_link_from_Wikidata',\n",
       " '/wiki/Category:IBDB_name_template_using_Wikidata',\n",
       " '/wiki/Category:Internet_Off-Broadway_Database_person_ID_same_as_Wikidata',\n",
       " '/wiki/Category:Articles_with_FAST_identifiers',\n",
       " '/wiki/Category:Articles_with_ISNI_identifiers',\n",
       " '/wiki/Category:Articles_with_VIAF_identifiers',\n",
       " '/wiki/Category:Articles_with_BIBSYS_identifiers',\n",
       " '/wiki/Category:Articles_with_BNE_identifiers',\n",
       " '/wiki/Category:Articles_with_BNF_identifiers',\n",
       " '/wiki/Category:Articles_with_BNFdata_identifiers',\n",
       " '/wiki/Category:Articles_with_GND_identifiers',\n",
       " '/wiki/Category:Articles_with_J9U_identifiers',\n",
       " '/wiki/Category:Articles_with_LCCN_identifiers',\n",
       " '/wiki/Category:Articles_with_LNB_identifiers',\n",
       " '/wiki/Category:Articles_with_NKC_identifiers',\n",
       " '/wiki/Category:Articles_with_NLA_identifiers',\n",
       " '/wiki/Category:Articles_with_NLK_identifiers',\n",
       " '/wiki/Category:Articles_with_NTA_identifiers',\n",
       " '/wiki/Category:Articles_with_PLWABN_identifiers',\n",
       " '/wiki/Category:Articles_with_MusicBrainz_identifiers',\n",
       " '/wiki/Category:Articles_with_Trove_identifiers',\n",
       " '/wiki/Category:Articles_with_SNAC-ID_identifiers',\n",
       " '/wiki/Category:Articles_with_SUDOC_identifiers',\n",
       " '//en.wikipedia.org/wiki/Wikipedia:Text_of_the_Creative_Commons_Attribution-ShareAlike_4.0_International_License',\n",
       " '//en.wikipedia.org/wiki/Wikipedia:Text_of_the_Creative_Commons_Attribution-ShareAlike_4.0_International_License',\n",
       " '//foundation.wikimedia.org/wiki/Special:MyLanguage/Policy:Terms_of_Use',\n",
       " '//foundation.wikimedia.org/wiki/Special:MyLanguage/Policy:Privacy_policy',\n",
       " '//www.wikimediafoundation.org/',\n",
       " 'https://foundation.wikimedia.org/wiki/Special:MyLanguage/Policy:Privacy_policy',\n",
       " '/wiki/Wikipedia:About',\n",
       " '/wiki/Wikipedia:General_disclaimer',\n",
       " '//en.wikipedia.org/wiki/Wikipedia:Contact_us',\n",
       " 'https://foundation.wikimedia.org/wiki/Special:MyLanguage/Policy:Universal_Code_of_Conduct',\n",
       " 'https://developer.wikimedia.org',\n",
       " 'https://stats.wikimedia.org/#/en.wikipedia.org',\n",
       " 'https://foundation.wikimedia.org/wiki/Special:MyLanguage/Policy:Cookie_statement',\n",
       " '//en.m.wikipedia.org/w/index.php?title=Kevin_Bacon&mobileaction=toggle_view_mobile',\n",
       " 'https://wikimediafoundation.org/',\n",
       " 'https://www.mediawiki.org/']"
      ]
     },
     "execution_count": 29,
     "metadata": {},
     "output_type": "execute_result"
    }
   ],
   "source": [
    "[link.attrs['href'] for link in bs.findAll('a') if link.attrs.get('href')]\n"
   ]
  },
  {
   "cell_type": "code",
   "execution_count": 31,
   "id": "be7d349c-bb56-464b-b7de-2c8eef32efa3",
   "metadata": {},
   "outputs": [],
   "source": [
    "x =[]\n",
    "for i in [{'href':1},{'aa':2},{'href':3}]:\n",
    "    try:\n",
    "        x.append(i.get('href'))\n",
    "    except:\n",
    "        pass"
   ]
  },
  {
   "cell_type": "code",
   "execution_count": null,
   "id": "5b181455-68bf-4cf8-9928-4751dfaafc0d",
   "metadata": {},
   "outputs": [],
   "source": [
    "from bs4 import BeautifulSoup\n",
    "from urllib.request import urlopen\n",
    "class "
   ]
  },
  {
   "cell_type": "code",
   "execution_count": 32,
   "id": "b0a9c512-10c4-4334-9629-d1b7d2eda266",
   "metadata": {},
   "outputs": [
    {
     "name": "stdout",
     "output_type": "stream",
     "text": [
      "<class 'int'>\n"
     ]
    }
   ],
   "source": [
    "print(type(1))"
   ]
  },
  {
   "cell_type": "code",
   "execution_count": 116,
   "id": "e19212a7-14cf-4fa7-a378-45cbd02010d3",
   "metadata": {},
   "outputs": [],
   "source": [
    "class Alist():\n",
    "    def __init__(self,*args):\n",
    "        self.x = []\n",
    "        for arg in args:\n",
    "            if isinstance(arg,(int,float)):\n",
    "               self.x += [arg]\n",
    "    def sum(self):\n",
    "        s = 0\n",
    "        for i in self.x:\n",
    "            s+=i\n",
    "        self.s = s\n",
    "        return s\n",
    "    def mean(self):\n",
    "        self.sum()\n",
    "        return self.sum()/len(self.x)\n",
    "    def append(self,val):\n",
    "        self.x += [val]\n",
    "    def extend(self,vals):\n",
    "        if hasattr(vals,'__len__'):\n",
    "            for val in vals:\n",
    "                self.x += [val]\n",
    "        else:\n",
    "            self.x += [vals]\n",
    "    def index(self,val):\n",
    "        self.idx = None\n",
    "        for idx,v in enumerate(self.x):\n",
    "            if v == val:\n",
    "                self.idx = idx\n",
    "                break\n",
    "        return self.idx\n",
    "    def pop(self,idx=-1):\n",
    "        pop_value = self.x[idx]\n",
    "        print(pop_value)\n",
    "        del self.x[idx]\n",
    "        return pop_value\n",
    "    def remove(self,val):\n",
    "        for idx,v in enumerate(self.x):\n",
    "            if v == val:\n",
    "                del self.x[idx]\n",
    "                break\n",
    "    def clear(self):\n",
    "        num = range(len(self.x))\n",
    "        for _ in num:\n",
    "            self.pop(0)\n",
    "    # 전체에서  찾는 것이 아닌 존재하지 않\n",
    "    def count(self,val):\n",
    "        cnt = 0\n",
    "        for i in self.x:\n",
    "            cnt += (val ==i)   \n",
    "        return cnt        \n",
    "\n",
    "    def count1(self,val):\n",
    "        return sum([i ==val for i in self.x]) # list는 sum 가능\n",
    "        \n",
    "    #insert는 어펜드와 비슷 self 나의 값 적용\n",
    "    def insert(self,idx,val):\n",
    "        if idx == 0:\n",
    "            self.x = [val] +self.x\n",
    "        elif idx < len(self.x):\n",
    "            self.x = self.x[:idx] + [val] + self.x [idx:]\n",
    "        else:\n",
    "            self.x=self.x+[val]\n",
    "    def reverse (self):\n",
    "        self.x =self. x[::-1]\n",
    "    def _min(self,x): #_를 앞이나 뒤에 넣음.min함수가 있어서 _를 넣음\n",
    "        min = x[0]\n",
    "        for i in range(1,len(x)):\n",
    "            if min > x[i]:\n",
    "                min = x[i]\n",
    "        self.idx = self.index(self.index(min))\n",
    "        return min\n",
    "        \n",
    "    def sort(self):\n",
    "        return self._min(self.x)\n",
    "\n",
    "    \n",
    "# sort는 min=>index=>pop"
   ]
  },
  {
   "cell_type": "code",
   "execution_count": 117,
   "id": "121ed25c-abec-42b7-a2c2-c9d7b9d298cb",
   "metadata": {},
   "outputs": [],
   "source": [
    "a= [3,2,5,4]"
   ]
  },
  {
   "cell_type": "code",
   "execution_count": 121,
   "id": "955dc299-7a61-4b1c-b2c4-059aedaa888f",
   "metadata": {
    "scrolled": true
   },
   "outputs": [
    {
     "data": {
      "text/plain": [
       "[]"
      ]
     },
     "execution_count": 121,
     "metadata": {},
     "output_type": "execute_result"
    }
   ],
   "source": [
    "b =[]\n",
    "num = len(a)\n",
    "for i in range(num):\n",
    "    b += [a.pop()]\n",
    "b"
   ]
  },
  {
   "cell_type": "code",
   "execution_count": 122,
   "id": "074da3c4-fa1f-4207-9780-60a03c84503a",
   "metadata": {},
   "outputs": [
    {
     "ename": "TypeError",
     "evalue": "object of type 'method' has no len()",
     "output_type": "error",
     "traceback": [
      "\u001b[1;31m---------------------------------------------------------------------------\u001b[0m",
      "\u001b[1;31mTypeError\u001b[0m                                 Traceback (most recent call last)",
      "Cell \u001b[1;32mIn[122], line 2\u001b[0m\n\u001b[0;32m      1\u001b[0m \u001b[38;5;28mmin\u001b[39m \u001b[38;5;241m=\u001b[39m []\n\u001b[1;32m----> 2\u001b[0m \u001b[38;5;28;01mfor\u001b[39;00m i \u001b[38;5;129;01min\u001b[39;00m \u001b[38;5;28mrange\u001b[39m(\u001b[38;5;241m1\u001b[39m,\u001b[38;5;28;43mlen\u001b[39;49m\u001b[43m(\u001b[49m\u001b[43mx\u001b[49m\u001b[43m)\u001b[49m):\n\u001b[0;32m      3\u001b[0m     \u001b[38;5;28;01mif\u001b[39;00m \u001b[38;5;28mmin\u001b[39m \u001b[38;5;241m>\u001b[39m x[i]:\n\u001b[0;32m      4\u001b[0m         \u001b[38;5;28mmin\u001b[39m \u001b[38;5;241m=\u001b[39m x[i]\n",
      "\u001b[1;31mTypeError\u001b[0m: object of type 'method' has no len()"
     ]
    }
   ],
   "source": [
    "min = []\n",
    "for i in range(1,len(x)):\n",
    "    if min > x[i]:\n",
    "        min = x[i]\n",
    "return min"
   ]
  },
  {
   "cell_type": "code",
   "execution_count": 123,
   "id": "a0d24038-255e-4303-8432-fa84c34c4a2f",
   "metadata": {
    "scrolled": true
   },
   "outputs": [],
   "source": [
    "a= Alist(3,3,2,8,4,5)"
   ]
  },
  {
   "cell_type": "code",
   "execution_count": 109,
   "id": "aae1640f-63e5-4db1-b1b1-4b93b71a41b4",
   "metadata": {
    "scrolled": true
   },
   "outputs": [
    {
     "data": {
      "text/plain": [
       "2"
      ]
     },
     "execution_count": 109,
     "metadata": {},
     "output_type": "execute_result"
    }
   ],
   "source": [
    "a._min(a.x)"
   ]
  },
  {
   "cell_type": "code",
   "execution_count": 96,
   "id": "71777ef8-8653-4434-88e1-0550dd36292a",
   "metadata": {},
   "outputs": [
    {
     "data": {
      "text/plain": [
       "2"
      ]
     },
     "execution_count": 96,
     "metadata": {},
     "output_type": "execute_result"
    }
   ],
   "source": [
    "a.sort()"
   ]
  },
  {
   "cell_type": "code",
   "execution_count": 120,
   "id": "cba133aa-f60e-43d4-a656-5e8cbee40cb6",
   "metadata": {},
   "outputs": [],
   "source": [
    "a.reverse()"
   ]
  },
  {
   "cell_type": "code",
   "execution_count": 81,
   "id": "1f58a762-081e-4003-b7c9-91ddc678f264",
   "metadata": {
    "scrolled": true
   },
   "outputs": [],
   "source": [
    "a=[3,2,5,4]"
   ]
  },
  {
   "cell_type": "code",
   "execution_count": 83,
   "id": "c23e62a1-8a4f-4d6c-92a6-bd403f8012d2",
   "metadata": {},
   "outputs": [
    {
     "data": {
      "text/plain": [
       "2"
      ]
     },
     "execution_count": 83,
     "metadata": {},
     "output_type": "execute_result"
    }
   ],
   "source": [
    "min = a[0]\n",
    "for i in range(1,len(a)):\n",
    "    if min > a[i]:\n",
    "        min = a[i]\n",
    "min\n",
    "        "
   ]
  },
  {
   "cell_type": "code",
   "execution_count": null,
   "id": "5fa04670-8e68-4bc4-bf1f-5c279bc122ab",
   "metadata": {},
   "outputs": [],
   "source": []
  },
  {
   "cell_type": "code",
   "execution_count": 62,
   "id": "008ca010-bf72-4d46-8016-e15fb26b2f3d",
   "metadata": {},
   "outputs": [
    {
     "data": {
      "text/plain": [
       "[2, 3, 5, 4]"
      ]
     },
     "execution_count": 62,
     "metadata": {},
     "output_type": "execute_result"
    }
   ],
   "source": [
    "a[::-1]"
   ]
  },
  {
   "cell_type": "code",
   "execution_count": 60,
   "id": "4c13f9fd-c0e5-46b0-9eb4-ab5423a2c75e",
   "metadata": {},
   "outputs": [
    {
     "data": {
      "text/plain": [
       "[4, 5, 3, 2]"
      ]
     },
     "execution_count": 60,
     "metadata": {},
     "output_type": "execute_result"
    }
   ],
   "source": [
    "#reverse 순서 반전\n",
    "a=[2,3,5,4]\n",
    "a.reverse()\n",
    "a"
   ]
  },
  {
   "cell_type": "code",
   "execution_count": 57,
   "id": "cd6fe37e-1e65-4cfb-966a-f32c77647149",
   "metadata": {},
   "outputs": [
    {
     "data": {
      "text/plain": [
       "[1, 2, 3, 100, 4]"
      ]
     },
     "execution_count": 57,
     "metadata": {},
     "output_type": "execute_result"
    }
   ],
   "source": [
    "a =[1,2,3,4]\n",
    "idx = 3\n",
    "val =  100\n",
    "if idx == 0:\n",
    "    a = [val] + a\n",
    "elif idx < len(a):\n",
    "    a = a [:idx] + [val] + a [idx:]\n",
    "else:\n",
    "    a=a+[val]\n",
    "\n",
    "a"
   ]
  },
  {
   "cell_type": "code",
   "execution_count": 58,
   "id": "4f7b028c-f101-4657-b9c1-f57ca952d6bf",
   "metadata": {},
   "outputs": [
    {
     "data": {
      "text/plain": [
       "[1, 2, 3, 4, 100]"
      ]
     },
     "execution_count": 58,
     "metadata": {},
     "output_type": "execute_result"
    }
   ],
   "source": [
    "a =[1,2,3,4]\n",
    "a.insert(5,100)\n",
    "a"
   ]
  },
  {
   "cell_type": "code",
   "execution_count": 55,
   "id": "48d5b039-11a4-4ad7-8410-3175cbb58a33",
   "metadata": {},
   "outputs": [],
   "source": [
    "a =a.append(4)\n",
    "a #return이 없음 none"
   ]
  },
  {
   "cell_type": "code",
   "execution_count": 39,
   "id": "a5e75749-04f9-462a-ba0b-2b8781ec53b4",
   "metadata": {},
   "outputs": [],
   "source": [
    "[1,2,3,4].insert(0,100)"
   ]
  },
  {
   "cell_type": "code",
   "execution_count": 40,
   "id": "f87e6683-a9cb-4357-b8b7-9c04614609ae",
   "metadata": {},
   "outputs": [
    {
     "data": {
      "text/plain": [
       "[1, 2, 3, 2, 4, 5]"
      ]
     },
     "execution_count": 40,
     "metadata": {},
     "output_type": "execute_result"
    }
   ],
   "source": [
    "x=a.pop\n",
    "a.x"
   ]
  },
  {
   "cell_type": "code",
   "execution_count": 31,
   "id": "94ebc723-b9e6-48ef-ae9c-6e4f21624ea5",
   "metadata": {},
   "outputs": [],
   "source": [
    "a = Alist(1,2,3,2,4,5)"
   ]
  },
  {
   "cell_type": "code",
   "execution_count": 32,
   "id": "4f841448-d09e-4a6f-96fe-182910af28d2",
   "metadata": {},
   "outputs": [
    {
     "data": {
      "text/plain": [
       "1"
      ]
     },
     "execution_count": 32,
     "metadata": {},
     "output_type": "execute_result"
    }
   ],
   "source": [
    "a.count1(3)"
   ]
  },
  {
   "cell_type": "code",
   "execution_count": 9,
   "id": "31604c20-2f7b-4049-b442-c4a1ac30f9db",
   "metadata": {},
   "outputs": [
    {
     "data": {
      "text/plain": [
       "0"
      ]
     },
     "execution_count": 9,
     "metadata": {},
     "output_type": "execute_result"
    }
   ],
   "source": [
    "v= 6\n",
    "cnt = 0 #더하는 개념으로 0에서 시작 틀리면 0, 맞으면 1\n",
    "for i in [1,2,3,4,2]:\n",
    "    if i ==v:\n",
    "        cnt +=1\n",
    "cnt"
   ]
  },
  {
   "cell_type": "code",
   "execution_count": 6,
   "id": "a44c4a85-b0b4-408b-9c2c-55187f2bccd3",
   "metadata": {
    "collapsed": true,
    "jupyter": {
     "outputs_hidden": true
    },
    "scrolled": true
   },
   "outputs": [
    {
     "name": "stdout",
     "output_type": "stream",
     "text": [
      "False\n",
      "True\n",
      "False\n",
      "False\n",
      "True\n"
     ]
    }
   ],
   "source": [
    "v= 2\n",
    "for i in [1,2,3,4,2]:\n",
    "    print(i == v)"
   ]
  },
  {
   "cell_type": "code",
   "execution_count": 43,
   "id": "3d8008bb-c2c9-4bb3-8528-783e1b1f33d4",
   "metadata": {
    "scrolled": true
   },
   "outputs": [],
   "source": [
    "a = Alist(1,2,3,4,2)"
   ]
  },
  {
   "cell_type": "code",
   "execution_count": 44,
   "id": "eac94468-d2e4-4e19-b906-d68e8be015e9",
   "metadata": {},
   "outputs": [
    {
     "name": "stdout",
     "output_type": "stream",
     "text": [
      "1\n",
      "2\n",
      "3\n",
      "4\n",
      "2\n"
     ]
    },
    {
     "data": {
      "text/plain": [
       "[]"
      ]
     },
     "execution_count": 44,
     "metadata": {},
     "output_type": "execute_result"
    }
   ],
   "source": [
    "a.clear()\n",
    "a.x"
   ]
  },
  {
   "cell_type": "code",
   "execution_count": 31,
   "id": "b01b10f2-39cc-48a9-99fd-fb8126bdf1bb",
   "metadata": {},
   "outputs": [],
   "source": [
    "a = [1,2,3,4]\n",
    "b = a"
   ]
  },
  {
   "cell_type": "code",
   "execution_count": 25,
   "id": "c2d91901-a5c2-41ea-bafe-ad384a9e93ca",
   "metadata": {},
   "outputs": [
    {
     "data": {
      "text/plain": [
       "2151801083520"
      ]
     },
     "execution_count": 25,
     "metadata": {},
     "output_type": "execute_result"
    }
   ],
   "source": [
    "id(a)"
   ]
  },
  {
   "cell_type": "code",
   "execution_count": 26,
   "id": "04f148e8-8ce5-4aff-bd79-197f4f71d5c7",
   "metadata": {},
   "outputs": [
    {
     "data": {
      "text/plain": [
       "2151801083520"
      ]
     },
     "execution_count": 26,
     "metadata": {},
     "output_type": "execute_result"
    }
   ],
   "source": [
    "id(b)"
   ]
  },
  {
   "cell_type": "code",
   "execution_count": 23,
   "id": "a8425c00-74ed-4912-99bd-2048911c09b8",
   "metadata": {},
   "outputs": [
    {
     "data": {
      "text/plain": [
       "[3, 4]"
      ]
     },
     "execution_count": 23,
     "metadata": {},
     "output_type": "execute_result"
    }
   ],
   "source": [
    "a.x.remove(2)\n",
    "a.x"
   ]
  },
  {
   "cell_type": "code",
   "execution_count": 19,
   "id": "c3b2d769-0390-4b85-8993-5a1efb29db5e",
   "metadata": {},
   "outputs": [
    {
     "data": {
      "text/plain": [
       "[2, 3, 4]"
      ]
     },
     "execution_count": 19,
     "metadata": {},
     "output_type": "execute_result"
    }
   ],
   "source": [
    "a.x.remove(1)\n",
    "a.x"
   ]
  },
  {
   "cell_type": "code",
   "execution_count": 16,
   "id": "2413e23d-4cf4-4d83-ab6c-1882cd74bde6",
   "metadata": {
    "scrolled": true
   },
   "outputs": [
    {
     "name": "stdout",
     "output_type": "stream",
     "text": [
      "1\n"
     ]
    },
    {
     "ename": "NameError",
     "evalue": "name 'pop' is not defined",
     "output_type": "error",
     "traceback": [
      "\u001b[1;31m---------------------------------------------------------------------------\u001b[0m",
      "\u001b[1;31mNameError\u001b[0m                                 Traceback (most recent call last)",
      "Cell \u001b[1;32mIn[16], line 1\u001b[0m\n\u001b[1;32m----> 1\u001b[0m x \u001b[38;5;241m=\u001b[39m \u001b[43ma\u001b[49m\u001b[38;5;241;43m.\u001b[39;49m\u001b[43mpop\u001b[49m\u001b[43m(\u001b[49m\u001b[38;5;241;43m0\u001b[39;49m\u001b[43m)\u001b[49m\n\u001b[0;32m      2\u001b[0m a\u001b[38;5;241m.\u001b[39mx\n",
      "Cell \u001b[1;32mIn[4], line 35\u001b[0m, in \u001b[0;36mAlist.pop\u001b[1;34m(self, idx)\u001b[0m\n\u001b[0;32m     33\u001b[0m \u001b[38;5;28mprint\u001b[39m(pop_value)\n\u001b[0;32m     34\u001b[0m \u001b[38;5;28;01mdel\u001b[39;00m \u001b[38;5;28mself\u001b[39m\u001b[38;5;241m.\u001b[39mx[idx]\n\u001b[1;32m---> 35\u001b[0m \u001b[38;5;28;01mreturn\u001b[39;00m \u001b[43mpop\u001b[49m\n",
      "\u001b[1;31mNameError\u001b[0m: name 'pop' is not defined"
     ]
    }
   ],
   "source": [
    "x = a.pop(0)\n",
    "a.x"
   ]
  },
  {
   "cell_type": "code",
   "execution_count": 13,
   "id": "c3f4561f-95eb-4697-aadf-613b7b56ba6d",
   "metadata": {},
   "outputs": [
    {
     "data": {
      "text/plain": [
       "[1, 3, 4]"
      ]
     },
     "execution_count": 13,
     "metadata": {},
     "output_type": "execute_result"
    }
   ],
   "source": [
    "x= [1,2,3,4]\n",
    "del x[1]\n",
    "x"
   ]
  },
  {
   "cell_type": "code",
   "execution_count": 125,
   "id": "d14e5302-f323-46dd-b502-6a12c6c05216",
   "metadata": {},
   "outputs": [
    {
     "data": {
      "text/plain": [
       "2"
      ]
     },
     "execution_count": 125,
     "metadata": {},
     "output_type": "execute_result"
    }
   ],
   "source": [
    "a.x.pop(2)"
   ]
  },
  {
   "cell_type": "code",
   "execution_count": 123,
   "id": "4e6aeaba-de1d-47d4-8a11-d5f20d4110fc",
   "metadata": {},
   "outputs": [
    {
     "data": {
      "text/plain": [
       "1"
      ]
     },
     "execution_count": 123,
     "metadata": {},
     "output_type": "execute_result"
    }
   ],
   "source": [
    "a.index(2)"
   ]
  },
  {
   "cell_type": "code",
   "execution_count": 119,
   "id": "bf1eeeb9-0ea4-41e1-9f26-a91ce18a7e94",
   "metadata": {},
   "outputs": [],
   "source": [
    "x = enumerate([3,3,4],10)"
   ]
  },
  {
   "cell_type": "code",
   "execution_count": 118,
   "id": "fa7519e1-ddf2-4399-bc86-254da645f045",
   "metadata": {},
   "outputs": [
    {
     "data": {
      "text/plain": [
       "(10, 3)"
      ]
     },
     "execution_count": 118,
     "metadata": {},
     "output_type": "execute_result"
    }
   ],
   "source": [
    "next(x)"
   ]
  },
  {
   "cell_type": "code",
   "execution_count": 95,
   "id": "b1a086b3-4763-4a73-a1b1-341e3494215d",
   "metadata": {},
   "outputs": [
    {
     "data": {
      "text/plain": [
       "[1, 2]"
      ]
     },
     "execution_count": 95,
     "metadata": {},
     "output_type": "execute_result"
    }
   ],
   "source": [
    "a.x"
   ]
  },
  {
   "cell_type": "code",
   "execution_count": 99,
   "id": "268fde0c-a4e6-453e-b92a-9d948a6ce4db",
   "metadata": {},
   "outputs": [
    {
     "data": {
      "text/plain": [
       "[1, 2, 3, 3, 3, 3]"
      ]
     },
     "execution_count": 99,
     "metadata": {},
     "output_type": "execute_result"
    }
   ],
   "source": [
    "a.append(3)\n",
    "a.x"
   ]
  },
  {
   "cell_type": "code",
   "execution_count": 102,
   "id": "1edfff2f-43e4-415f-aabd-9b9e871a955e",
   "metadata": {},
   "outputs": [],
   "source": [
    "a.extend ([3,4,5])"
   ]
  },
  {
   "cell_type": "code",
   "execution_count": 103,
   "id": "a6f356ec-1546-4143-aec2-bb6b7e3931db",
   "metadata": {},
   "outputs": [
    {
     "data": {
      "text/plain": [
       "1"
      ]
     },
     "execution_count": 103,
     "metadata": {},
     "output_type": "execute_result"
    }
   ],
   "source": [
    "a.x.index(2)"
   ]
  },
  {
   "cell_type": "code",
   "execution_count": 91,
   "id": "f6a5ed61-3562-437e-892f-019c6dc70a63",
   "metadata": {},
   "outputs": [
    {
     "data": {
      "text/plain": [
       "21.1"
      ]
     },
     "execution_count": 91,
     "metadata": {},
     "output_type": "execute_result"
    }
   ],
   "source": [
    "a.sum()"
   ]
  },
  {
   "cell_type": "code",
   "execution_count": 92,
   "id": "131eb72a-fe8c-45c7-a066-ca092db07b71",
   "metadata": {},
   "outputs": [
    {
     "data": {
      "text/plain": [
       "21.1"
      ]
     },
     "execution_count": 92,
     "metadata": {},
     "output_type": "execute_result"
    }
   ],
   "source": [
    "a.s"
   ]
  },
  {
   "cell_type": "code",
   "execution_count": 93,
   "id": "82552547-1431-4bc8-a7ac-0d20fb69a6ac",
   "metadata": {},
   "outputs": [
    {
     "data": {
      "text/plain": [
       "3.516666666666667"
      ]
     },
     "execution_count": 93,
     "metadata": {},
     "output_type": "execute_result"
    }
   ],
   "source": [
    "a.mean()"
   ]
  },
  {
   "cell_type": "code",
   "execution_count": 81,
   "id": "f58976fe-2471-440f-bf08-866e12451879",
   "metadata": {},
   "outputs": [],
   "source": [
    "def aa(x,y):\n",
    "    return x + y"
   ]
  },
  {
   "cell_type": "code",
   "execution_count": 97,
   "id": "37dbff23-b67e-466d-b7c0-9dd75d9b375d",
   "metadata": {},
   "outputs": [],
   "source": [
    "a.append(3)"
   ]
  },
  {
   "cell_type": "code",
   "execution_count": 86,
   "id": "6d7fd707-f181-41a0-ae1a-05dfa3b81e0f",
   "metadata": {},
   "outputs": [
    {
     "data": {
      "text/plain": [
       "True"
      ]
     },
     "execution_count": 86,
     "metadata": {},
     "output_type": "execute_result"
    }
   ],
   "source": [
    "hasattr([1],'__len__')"
   ]
  },
  {
   "cell_type": "code",
   "execution_count": 2,
   "id": "b2bc2098-5d3c-4154-be9d-de4b3d22057d",
   "metadata": {},
   "outputs": [
    {
     "data": {
      "text/plain": [
       "2"
      ]
     },
     "execution_count": 2,
     "metadata": {},
     "output_type": "execute_result"
    }
   ],
   "source": [
    "[2,3,4,4,].count(4) "
   ]
  },
  {
   "cell_type": "code",
   "execution_count": null,
   "id": "20105968-1bb7-406e-90c7-f10b417b0fee",
   "metadata": {},
   "outputs": [],
   "source": []
  },
  {
   "cell_type": "code",
   "execution_count": null,
   "id": "a4788594-9a35-47dc-916f-f9959f0e476c",
   "metadata": {},
   "outputs": [],
   "source": []
  },
  {
   "cell_type": "code",
   "execution_count": null,
   "id": "871e1327-83d9-46f7-a958-e15977c3edc7",
   "metadata": {},
   "outputs": [],
   "source": []
  },
  {
   "cell_type": "code",
   "execution_count": null,
   "id": "3b171297-123c-4cc3-bda6-7307f33f2860",
   "metadata": {},
   "outputs": [],
   "source": []
  },
  {
   "cell_type": "code",
   "execution_count": null,
   "id": "be732f5f-1d08-405b-84d9-39f59e91b0cf",
   "metadata": {},
   "outputs": [],
   "source": []
  },
  {
   "cell_type": "code",
   "execution_count": null,
   "id": "3032b52c-ff9e-4503-9d39-0aad179a5bab",
   "metadata": {},
   "outputs": [],
   "source": []
  },
  {
   "cell_type": "code",
   "execution_count": null,
   "id": "38fdee9b-a289-4711-8e29-699e07bf1b12",
   "metadata": {},
   "outputs": [],
   "source": []
  },
  {
   "cell_type": "code",
   "execution_count": 73,
   "id": "ec42833d-33e1-409e-acaf-96a70f223cb2",
   "metadata": {},
   "outputs": [
    {
     "ename": "NameError",
     "evalue": "name 'np' is not defined",
     "output_type": "error",
     "traceback": [
      "\u001b[1;31m---------------------------------------------------------------------------\u001b[0m",
      "\u001b[1;31mNameError\u001b[0m                                 Traceback (most recent call last)",
      "Cell \u001b[1;32mIn[73], line 1\u001b[0m\n\u001b[1;32m----> 1\u001b[0m \u001b[43mnp\u001b[49m\u001b[38;5;241m.\u001b[39mdot(np\u001b[38;5;241m.\u001b[39mrandom\u001b[38;5;241m.\u001b[39mrandn(\u001b[38;5;241m3\u001b[39m,\u001b[38;5;241m2\u001b[39m))\n",
      "\u001b[1;31mNameError\u001b[0m: name 'np' is not defined"
     ]
    }
   ],
   "source": [
    "np.dot(np.random.randn(3,2))"
   ]
  },
  {
   "cell_type": "code",
   "execution_count": null,
   "id": "9c84c0d1-4a41-4c2a-ae3f-ac91e8636baa",
   "metadata": {},
   "outputs": [],
   "source": []
  },
  {
   "cell_type": "code",
   "execution_count": null,
   "id": "4996800f-c36b-4546-b36b-a346ab0c4421",
   "metadata": {},
   "outputs": [],
   "source": []
  },
  {
   "cell_type": "code",
   "execution_count": null,
   "id": "f955ff0a-d20b-4f10-acf5-cd50598769b3",
   "metadata": {},
   "outputs": [],
   "source": []
  },
  {
   "cell_type": "code",
   "execution_count": null,
   "id": "495ca620-2d40-4a70-88d9-b3147345cf25",
   "metadata": {},
   "outputs": [],
   "source": []
  },
  {
   "cell_type": "code",
   "execution_count": null,
   "id": "e148bb7a-8313-4bce-8add-fa99ec487848",
   "metadata": {},
   "outputs": [],
   "source": []
  },
  {
   "cell_type": "code",
   "execution_count": null,
   "id": "1bb1fd57-473b-447c-9e63-29da53e9f138",
   "metadata": {},
   "outputs": [],
   "source": []
  }
 ],
 "metadata": {
  "kernelspec": {
   "display_name": "Python 3 (ipykernel)",
   "language": "python",
   "name": "python3"
  },
  "language_info": {
   "codemirror_mode": {
    "name": "ipython",
    "version": 3
   },
   "file_extension": ".py",
   "mimetype": "text/x-python",
   "name": "python",
   "nbconvert_exporter": "python",
   "pygments_lexer": "ipython3",
   "version": "3.11.7"
  }
 },
 "nbformat": 4,
 "nbformat_minor": 5
}
